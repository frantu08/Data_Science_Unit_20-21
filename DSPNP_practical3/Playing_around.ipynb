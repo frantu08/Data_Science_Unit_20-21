{
 "metadata": {
  "language_info": {
   "codemirror_mode": {
    "name": "ipython",
    "version": 3
   },
   "file_extension": ".py",
   "mimetype": "text/x-python",
   "name": "python",
   "nbconvert_exporter": "python",
   "pygments_lexer": "ipython3",
   "version": "3.8.6-final"
  },
  "orig_nbformat": 2,
  "kernelspec": {
   "name": "python3",
   "display_name": "Python 3"
  }
 },
 "nbformat": 4,
 "nbformat_minor": 2,
 "cells": [
  {
   "cell_type": "code",
   "execution_count": 13,
   "metadata": {},
   "outputs": [
    {
     "output_type": "stream",
     "name": "stdout",
     "text": [
      "[[1 0]\n [0 0]\n [1 1]\n ...\n [0 0]\n [1 1]\n [1 1]]\nLALA\n[[    1]\n [    2]\n [    3]\n ...\n [ 9998]\n [ 9999]\n [10000]]\nLALA\n[[1.         0.        ]\n [0.5        0.        ]\n [0.66666667 0.33333333]\n ...\n [0.51310262 0.51090218]\n [0.51315132 0.5109511 ]\n [0.5132     0.511     ]]\n"
     ]
    }
   ],
   "source": [
    "import numpy as np\n",
    "import os\n",
    "\n",
    "np.random.seed(42)\n",
    "heads_proba = 0.51\n",
    "coin_tosses = (np.random.rand(10000, 2) < heads_proba).astype(np.int32) # \n",
    "print(coin_tosses)\n",
    "cumulative_heads_ratio = np.cumsum(coin_tosses, axis=0) / np.arange(1, 10001).reshape(-1, 1) # print 1st row by 1, 2nd by 2, .. \n",
    "print(\"LALA\")\n",
    "print(np.arange(1,10001).reshape(-1,1))\n",
    "print(\"LALA\")\n",
    "print(cumulative_heads_ratio)\n",
    "\n",
    "# so when we do plot(cumulative_heads_ratio), it plots each column + toss count\n",
    "# column 1 = (1,1), (0.5,2), ... (0.5132, 1000)"
   ]
  },
  {
   "cell_type": "code",
   "execution_count": null,
   "metadata": {},
   "outputs": [],
   "source": []
  }
 ]
}