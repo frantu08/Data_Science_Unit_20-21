{
 "cells": [
  {
   "cell_type": "markdown",
   "metadata": {},
   "source": [
    "# Practical Session 4: Getting Started with Deep Learning Models in TensorFlow\n",
    "\n",
    "*This notebook is based on past years' notebooks by Marek Rei and Guy Emerson*"
   ]
  },
  {
   "cell_type": "markdown",
   "metadata": {},
   "source": [
    "This practical will cover a few different network architectures and we will look at different components that are often used in neural networks in practice. It will also allow you to learn more about [`TensorFlow`](https://www.tensorflow.org), a popular open-source machine learning and deep learning library. I'd also recommend checking the `TensorFlow` documentation to learn more about the rich functionality of this toolkit.\n",
    "\n",
    "\n",
    "## Learning objectives\n",
    "\n",
    "In this practical you will learn about:\n",
    "- The basics of running `TensorFlow` \n",
    "- How to implement a feedforward neural network in Python\n",
    "- How to visualise your network architecture using `TensorBoard` and track changes \n",
    "- How to apply deep learning to both classification and regression tasks.\n",
    "\n",
    "**Additional references**: Aurelien Geron, *Hands-on Machine Learning with Scikit-Learn, Keras and TensorFlow*.\n",
    "\n",
    "Before we start, let's import the usual libraries as we did in previous practicals:"
   ]
  },
  {
   "cell_type": "code",
   "execution_count": 1,
   "metadata": {},
   "outputs": [],
   "source": [
    "%matplotlib inline \n",
    "\n",
    "import numpy as np \n",
    "np.random.seed(42)\n",
    "\n",
    "import matplotlib\n",
    "from matplotlib import pyplot as plt"
   ]
  },
  {
   "cell_type": "markdown",
   "metadata": {},
   "source": [
    "Now let's import `TensorFlow` into our notebook. Note: `TensorFlow` v2 was released last year, and it mostly relies on `Keras` interpretative module fit on top of it. As a result, it is much more interpretable and user-friendly than v1, however if you want to better understand the inner workings of `TensorFlow` you are welcome to check the accompanying notebook [`DSPNP_practical4-TFv1.ipynb`](./DSPNP_practical4-TFv1.ipynb): even if you are using `TensorFlow2`, you can still switch to using v1 API, which is available as a submodule. "
   ]
  },
  {
   "cell_type": "code",
   "execution_count": 2,
   "metadata": {},
   "outputs": [],
   "source": [
    "import tensorflow as tf\n",
    "#tf.compat.v1"
   ]
  },
  {
   "cell_type": "code",
   "execution_count": 3,
   "metadata": {},
   "outputs": [
    {
     "output_type": "execute_result",
     "data": {
      "text/plain": [
       "'2.3.1'"
      ]
     },
     "metadata": {},
     "execution_count": 3
    }
   ],
   "source": [
    "tf.__version__"
   ]
  },
  {
   "cell_type": "markdown",
   "metadata": {},
   "source": [
    "# Minimal TensorFlow Example\n",
    "\n",
    "In this example, we create a simple network that takes an input vector, multiplies it by a weight matrix, adds a weight vector, and returns the result.\n",
    "\n",
    "`tf.Variable` defines model parameters, which can be trained (as we will see shortly). Here, we initialise the matrix variable as a 3x3 matrix, with every entry as 1 (`tf.ones`). Meanwhile, we initialise the 3x1 vector variable with every entry as 0 (`tf.zeros`). `tf.linalg.matvec` multiplies a matrix and a vector."
   ]
  },
  {
   "cell_type": "code",
   "execution_count": 4,
   "metadata": {},
   "outputs": [
    {
     "output_type": "stream",
     "name": "stdout",
     "text": [
      "tf.Tensor([12. 12. 12.], shape=(3,), dtype=float32)\n"
     ]
    }
   ],
   "source": [
    "weight_matrix = tf.Variable(tf.ones(shape=(3,3)))\n",
    "weight_vector = tf.Variable(tf.zeros(shape=(3,)))\n",
    "\n",
    "def affine_transformation(input_vector):\n",
    "    return tf.linalg.matvec(weight_matrix, input_vector) + weight_vector\n",
    "\n",
    "result = affine_transformation([2.,3.,7.])\n",
    "print(result)"
   ]
  },
  {
   "cell_type": "markdown",
   "metadata": {},
   "source": [
    "The following [reset function](https://www.tensorflow.org/api_docs/python/tf/keras/backend/clear_session) is often useful. It is necessary to reset the `TensorFlow` network from time to time: as we have many different small networks in one notebook and we don't want them interfering with each other, as a pre-emptive measure we will occasionally reset the computation graph. "
   ]
  },
  {
   "cell_type": "code",
   "execution_count": 5,
   "metadata": {},
   "outputs": [],
   "source": [
    "tf.keras.backend.clear_session()"
   ]
  },
  {
   "cell_type": "markdown",
   "metadata": {},
   "source": [
    "# Training the Parameters\n",
    "\n",
    "This example shows how to optimise the parameters in your model.\n",
    "\n",
    "We first define a network that takes an input vector, multiplies it with a matrix (as defined above), and sums the elements of the resulting vector (using `tf.math.reduce_sum`). We then define a loss function as the square error. Given a specific input and output, we can calculate the loss of applying the network to the input.\n",
    "\n",
    "Next, we define an optimiser – here, we are using *stochastic gradient descent* (*SGD*) with the learning rate $0.001$. We then use this optimiser to train this network for $10$ epochs, over this single training point. This optimises the output towards the target value $20$. Printing out the results, we can see that the output gradually moves towards the target."
   ]
  },
  {
   "cell_type": "code",
   "execution_count": 6,
   "metadata": {},
   "outputs": [
    {
     "output_type": "stream",
     "name": "stdout",
     "text": [
      "tf.Tensor(29.952, shape=(), dtype=float32)\ntf.Tensor(26.190144, shape=(), dtype=float32)\ntf.Tensor(23.850271, shape=(), dtype=float32)\ntf.Tensor(22.39487, shape=(), dtype=float32)\ntf.Tensor(21.489607, shape=(), dtype=float32)\ntf.Tensor(20.926535, shape=(), dtype=float32)\ntf.Tensor(20.576305, shape=(), dtype=float32)\ntf.Tensor(20.358461, shape=(), dtype=float32)\ntf.Tensor(20.222961, shape=(), dtype=float32)\ntf.Tensor(20.138683, shape=(), dtype=float32)\ntf.Tensor(20.086262, shape=(), dtype=float32)\ntf.Tensor(20.053656, shape=(), dtype=float32)\ntf.Tensor(20.033375, shape=(), dtype=float32)\ntf.Tensor(20.020758, shape=(), dtype=float32)\ntf.Tensor(20.01291, shape=(), dtype=float32)\ntf.Tensor(20.00803, shape=(), dtype=float32)\ntf.Tensor(20.004995, shape=(), dtype=float32)\ntf.Tensor(20.003109, shape=(), dtype=float32)\ntf.Tensor(20.001932, shape=(), dtype=float32)\ntf.Tensor(20.001202, shape=(), dtype=float32)\ntf.Tensor(20.000748, shape=(), dtype=float32)\ntf.Tensor(20.000465, shape=(), dtype=float32)\ntf.Tensor(20.000286, shape=(), dtype=float32)\ntf.Tensor(20.00018, shape=(), dtype=float32)\ntf.Tensor(20.000114, shape=(), dtype=float32)\ntf.Tensor(20.000069, shape=(), dtype=float32)\ntf.Tensor(20.000044, shape=(), dtype=float32)\ntf.Tensor(20.000027, shape=(), dtype=float32)\ntf.Tensor(20.000017, shape=(), dtype=float32)\ntf.Tensor(20.000011, shape=(), dtype=float32)\ntf.Tensor(20.000006, shape=(), dtype=float32)\ntf.Tensor(20.000002, shape=(), dtype=float32)\ntf.Tensor(20.000002, shape=(), dtype=float32)\ntf.Tensor(20.000002, shape=(), dtype=float32)\ntf.Tensor(20.0, shape=(), dtype=float32)\n"
     ]
    }
   ],
   "source": [
    "tf.keras.backend.clear_session()\n",
    "\n",
    "weight_matrix = tf.Variable(tf.ones(shape=(3,3)))\n",
    "weight_vector = tf.Variable(tf.zeros(shape=(3,)))\n",
    "\n",
    "def network(input_vector):\n",
    "    return tf.math.reduce_sum(affine_transformation(input_vector))\n",
    "\n",
    "def loss_fn(predicted, gold):\n",
    "    return tf.square(predicted - gold)\n",
    "\n",
    "input = [2.,3.,7.]\n",
    "gold_output = 20\n",
    "\n",
    "def loss():\n",
    "    return loss_fn(network(input), gold_output)\n",
    "\n",
    "opt = tf.keras.optimizers.SGD(learning_rate=1e-3)\n",
    "\n",
    "for epoch in range(35):\n",
    "    opt.minimize(loss, var_list=[weight_matrix, weight_vector])\n",
    "    print(network(input))"
   ]
  },
  {
   "cell_type": "markdown",
   "metadata": {},
   "source": [
    "**Optional**: Try changing the learning rate and the number of epochs. What results are you getting?"
   ]
  },
  {
   "cell_type": "markdown",
   "metadata": {},
   "source": [
    "- Initial result with lr = 1e-3 and #epoch = 10\n",
    "\n",
    "tf.Tensor(29.952, shape=(), dtype=float32)\n",
    "tf.Tensor(26.190144, shape=(), dtype=float32)\n",
    "tf.Tensor(23.850271, shape=(), dtype=float32)\n",
    "tf.Tensor(22.39487, shape=(), dtype=float32)\n",
    "tf.Tensor(21.489607, shape=(), dtype=float32)\n",
    "tf.Tensor(20.926535, shape=(), dtype=float32)\n",
    "tf.Tensor(20.576305, shape=(), dtype=float32)\n",
    "tf.Tensor(20.358461, shape=(), dtype=float32)\n",
    "tf.Tensor(20.222961, shape=(), dtype=float32)\n",
    "tf.Tensor(20.138683, shape=(), dtype=float32)\n",
    "\n",
    "- With lr = 1e-2 and 10 epoch\n",
    "tf.Tensor(-24.48, shape=(), dtype=float32)\n",
    "tf.Tensor(143.6544, shape=(), dtype=float32)\n",
    "tf.Tensor(-323.75922, shape=(), dtype=float32)\n",
    "tf.Tensor(975.6506, shape=(), dtype=float32)\n",
    "tf.Tensor(-2636.7085, shape=(), dtype=float32)\n",
    "tf.Tensor(7405.6504, shape=(), dtype=float32)\n",
    "tf.Tensor(-20512.11, shape=(), dtype=float32)\n",
    "tf.Tensor(57099.266, shape=(), dtype=float32)\n",
    "tf.Tensor(-158660.36, shape=(), dtype=float32)\n",
    "tf.Tensor(441151.38, shape=(), dtype=float32)\n",
    "\n",
    "-- Overshooting big time\n",
    "\n",
    "- Back to lr = 1e-3. Try 20 epochs\n",
    "\n",
    " last = tf.Tensor(20.001202, shape=(), dtype=float32) =  improvement\n",
    "\n",
    "-- 100 epochs = converting to 20 pretty early on \n",
    "\n",
    "-- 40 epoch = more than enough for converting\n",
    "\n",
    "-- 35 enough\n",
    "\n",
    "\n"
   ]
  },
  {
   "cell_type": "markdown",
   "metadata": {},
   "source": [
    "# Network Layers\n",
    "\n",
    "For most cases, we don't actually need to create the trainable variables manually. Instead, the feedfoward layer is available as a pre-defined module.\n",
    "\n",
    "We can define a network as a sequence of operations, using [`tf.keras.Sequential`](https://www.tensorflow.org/api_docs/python/tf/keras/Sequential). The first operation here is a dense feedforward layer (`tf.keras.layers.Dense`), which acts like the `affine_transfomation` function we defined earlier. The second operation sums the elements of the vector – this isn't a standard operation, so we use `tf.keras.layers.Lambda` to allow a user-defined function.\n",
    "\n",
    "By default, the parameters in a layer (like [`tf.keras.layers.Dense`](https://www.tensorflow.org/api_docs/python/tf/keras/layers/Dense)) are initialised randomly."
   ]
  },
  {
   "cell_type": "code",
   "execution_count": 7,
   "metadata": {},
   "outputs": [],
   "source": [
    "model = tf.keras.Sequential([\n",
    "    tf.keras.layers.Dense(3, input_shape=(3,)),\n",
    "    tf.keras.layers.Lambda(lambda x: tf.math.reduce_sum(x, axis=1))\n",
    "])"
   ]
  },
  {
   "cell_type": "markdown",
   "metadata": {},
   "source": [
    "Note that such a model expects the input data to be given as a *minibatch* – this means that the input tensor should have an extra index, which ranges over datapoints. In our case, instead of passing a 3-dimensional input vector, we have to pass an Nx3 matrix, where N is the number of datapoints. Here, we can apply the model to a single datapoint (a 1x3 matrix):"
   ]
  },
  {
   "cell_type": "code",
   "execution_count": 8,
   "metadata": {},
   "outputs": [
    {
     "output_type": "execute_result",
     "data": {
      "text/plain": [
       "array([-3.755041], dtype=float32)"
      ]
     },
     "metadata": {},
     "execution_count": 8
    }
   ],
   "source": [
    "model.predict(tf.constant([[2.,3.,7.]]))"
   ]
  },
  {
   "cell_type": "markdown",
   "metadata": {},
   "source": [
    "Now that we have a model defined in terms of layers, let's replace the manually created variables of the previous section."
   ]
  },
  {
   "cell_type": "code",
   "execution_count": 9,
   "metadata": {},
   "outputs": [
    {
     "output_type": "stream",
     "name": "stdout",
     "text": [
      "tf.Tensor([3.3954916], shape=(1,), dtype=float32)\ntf.Tensor([9.671996], shape=(1,), dtype=float32)\ntf.Tensor([13.575982], shape=(1,), dtype=float32)\ntf.Tensor([16.00426], shape=(1,), dtype=float32)\ntf.Tensor([17.51465], shape=(1,), dtype=float32)\ntf.Tensor([18.454113], shape=(1,), dtype=float32)\ntf.Tensor([19.03846], shape=(1,), dtype=float32)\ntf.Tensor([19.40192], shape=(1,), dtype=float32)\ntf.Tensor([19.627996], shape=(1,), dtype=float32)\ntf.Tensor([19.768614], shape=(1,), dtype=float32)\n"
     ]
    }
   ],
   "source": [
    "tf.keras.backend.clear_session()\n",
    "\n",
    "model = tf.keras.Sequential([\n",
    "    tf.keras.layers.Dense(3, input_shape=(3,)),\n",
    "    tf.keras.layers.Lambda(lambda x: tf.math.reduce_sum(x, axis=1))\n",
    "])\n",
    "\n",
    "def loss_fn(predicted, gold):\n",
    "    return tf.square(predicted - gold)\n",
    "\n",
    "input = tf.constant([[2.,3.,7.]])\n",
    "gold_output = 20\n",
    "\n",
    "def loss():\n",
    "    return loss_fn(model(input), gold_output)\n",
    "\n",
    "opt = tf.keras.optimizers.SGD(learning_rate=1e-3)\n",
    "\n",
    "for epoch in range(10):\n",
    "    opt.minimize(loss, var_list=model.trainable_variables)\n",
    "    print(model(input))"
   ]
  },
  {
   "cell_type": "markdown",
   "metadata": {},
   "source": [
    "In fact, for standard optimizers and loss functions, the `TensorFlow` API makes it even easier for us:"
   ]
  },
  {
   "cell_type": "code",
   "execution_count": 10,
   "metadata": {},
   "outputs": [
    {
     "output_type": "stream",
     "name": "stdout",
     "text": [
      "tf.Tensor(18.102009, shape=(), dtype=float32)\ntf.Tensor(18.819447, shape=(), dtype=float32)\ntf.Tensor(19.265697, shape=(), dtype=float32)\ntf.Tensor(19.543262, shape=(), dtype=float32)\ntf.Tensor(19.715912, shape=(), dtype=float32)\ntf.Tensor(19.823296, shape=(), dtype=float32)\ntf.Tensor(19.89009, shape=(), dtype=float32)\ntf.Tensor(19.931637, shape=(), dtype=float32)\ntf.Tensor(19.957478, shape=(), dtype=float32)\ntf.Tensor(19.973553, shape=(), dtype=float32)\n"
     ]
    }
   ],
   "source": [
    "tf.keras.backend.clear_session()\n",
    "\n",
    "model = tf.keras.Sequential([\n",
    "    tf.keras.layers.Dense(3, input_shape=(3,)),\n",
    "    tf.keras.layers.Lambda(lambda x: tf.math.reduce_sum(x))\n",
    "])\n",
    "\n",
    "model.compile(optimizer=tf.keras.optimizers.SGD(learning_rate=1e-3), # alternatively, optimizer=`sgd`\n",
    "              loss='mean_squared_error')\n",
    "\n",
    "input = tf.constant([[2.,3.,7.]])\n",
    "gold_output = tf.constant([[20.]])\n",
    "\n",
    "for epoch in range(10):\n",
    "    model.train_on_batch(input, gold_output)\n",
    "    print(model(input))"
   ]
  },
  {
   "cell_type": "markdown",
   "metadata": {},
   "source": [
    "# Activation Functions\n",
    "\n",
    "As you saw in the previous lectures, activation functions are what gives neural networks their power to model non-linear patterns in the data. After applying an affine transformation, we then apply a non-linear activation function to each element. There are a number of different activation functions to choose from.\n",
    "\n",
    "The [sigmoid function](https://en.wikipedia.org/wiki/Logistic_function), also known as the logistic function, is the most classic non-linear activation. It transforms the value to a range between 0 and 1."
   ]
  },
  {
   "cell_type": "code",
   "execution_count": 11,
   "metadata": {},
   "outputs": [],
   "source": [
    "hidden = tf.keras.layers.Dense(100, activation='sigmoid')"
   ]
  },
  {
   "cell_type": "markdown",
   "metadata": {},
   "source": [
    "In modern networks, the [tanh function](https://en.wikipedia.org/wiki/Hyperbolic_function) is used more often. It has more flexibility, as it transforms the input value to a range between -1 and 1, and can therefore output negative values as well."
   ]
  },
  {
   "cell_type": "code",
   "execution_count": 12,
   "metadata": {},
   "outputs": [],
   "source": [
    "hidden = tf.keras.layers.Dense(100, activation='tanh')"
   ]
  },
  {
   "cell_type": "markdown",
   "metadata": {},
   "source": [
    "Another popular one is the [Rectified Linear Unit](https://en.wikipedia.org/wiki/Rectifier_(neural_networks)) function, or the ReLU. This function acts as a linear function above zero, but restricts everything below zero to 0. By doing this it also introduces non-linearity."
   ]
  },
  {
   "cell_type": "code",
   "execution_count": 13,
   "metadata": {},
   "outputs": [],
   "source": [
    "hidden = tf.keras.layers.Dense(100, activation='relu')"
   ]
  },
  {
   "cell_type": "markdown",
   "metadata": {},
   "source": [
    "The partial linear property of the ReLU can help it converge faster on some tasks, although in practice tanh may be a more robust option.\n",
    "\n",
    "Finally, for classification tasks [softmax](https://en.wikipedia.org/wiki/Softmax_function) is an important activation function. Unlike the activation functions mentioned above, it isn't applied to each element separately. It converts a vector of scores into a probability distribution: after applying the softmax, all values are between 0 and 1, and together they sum to 1. Higher scores are assigned to higher probabilities, via the formula:\n",
    "\n",
    "\n",
    "$P(i) \\propto \\exp(x_i)$\n",
    "\n",
    "\n",
    "Or, more explicitly:\n",
    "\n",
    "$P(i) = \\frac{\\exp(x_i)}{\\sum_j \\exp(x_j)}$\n",
    "\n",
    "Notice how the value of the denominator depends on all other values.\n",
    "\n",
    "The softmax is often used in the output layer of a network performing classification, in order to predict a probability distribution over all the possible classes. For example, the following model takes a 20-dimensional input, maps it to a 50-dimensional hidden layer, then maps it to a distribution over 10 output classes."
   ]
  },
  {
   "cell_type": "code",
   "execution_count": 14,
   "metadata": {},
   "outputs": [],
   "source": [
    "model = tf.keras.Sequential([\n",
    "    tf.keras.layers.Dense(50, input_shape=(20,), activation='relu'),\n",
    "    tf.keras.layers.Dense(10, activation='softmax')\n",
    "])"
   ]
  },
  {
   "cell_type": "markdown",
   "metadata": {},
   "source": [
    "# Operations and Useful Functions\n",
    "\n",
    "`TensorFlow` has corresponding versions of all the main operations you might want to use. This means you can add them into your computation graph and into your neural network. The most common operations are available in `tf`, and further operations are available in `tf.math`.\n"
   ]
  },
  {
   "cell_type": "code",
   "execution_count": 15,
   "metadata": {},
   "outputs": [
    {
     "output_type": "execute_result",
     "data": {
      "text/plain": [
       "<function tensorflow.python.ops.math_ops.exp(x, name=None)>"
      ]
     },
     "metadata": {},
     "execution_count": 15
    }
   ],
   "source": [
    "tf.abs # absolute value\n",
    "tf.negative # computes the negative value\n",
    "tf.sign # returns 1, 0 or -1 depending on the sign of the input\n",
    "tf.math.reciprocal # reciprocal 1/x\n",
    "tf.square # return input squared\n",
    "tf.round # return rounded value\n",
    "tf.sqrt # square root\n",
    "tf.math.rsqrt # reciprocal of square root\n",
    "tf.pow # power\n",
    "tf.exp # exponential"
   ]
  },
  {
   "cell_type": "markdown",
   "metadata": {},
   "source": [
    "These operations can be applied to scalar values, but also to vectors, matrices and higher-order tensors. In the latter case, they will be applied element-wise. For example:"
   ]
  },
  {
   "cell_type": "code",
   "execution_count": 16,
   "metadata": {},
   "outputs": [
    {
     "output_type": "stream",
     "name": "stdout",
     "text": [
      "tf.Tensor([-3.2  2.7], shape=(2,), dtype=float32)\ntf.Tensor([2.25      4.4099994], shape=(2,), dtype=float32)\n"
     ]
    }
   ],
   "source": [
    "print(tf.negative([3.2,-2.7]))\n",
    "print(tf.square([1.5,-2.1]))"
   ]
  },
  {
   "cell_type": "markdown",
   "metadata": {},
   "source": [
    "Some useful operations are performed over a whole vector/matrix tensor and return a single value (e.g., you saw `tf.reduce_sum` earlier):"
   ]
  },
  {
   "cell_type": "code",
   "execution_count": 17,
   "metadata": {},
   "outputs": [
    {
     "output_type": "execute_result",
     "data": {
      "text/plain": [
       "<function tensorflow.python.ops.math_ops.argmin_v2(input, axis=None, output_type=tf.int64, name=None)>"
      ]
     },
     "metadata": {},
     "execution_count": 17
    }
   ],
   "source": [
    "tf.reduce_sum # Add elements together\n",
    "tf.reduce_mean # Average over elements\n",
    "tf.reduce_min # Minimum value\n",
    "tf.reduce_max # Maximum value\n",
    "tf.argmax # Index of the largest value\n",
    "tf.argmin # Index of the smallest value"
   ]
  },
  {
   "cell_type": "markdown",
   "metadata": {},
   "source": [
    "# Adaptive Learning Rates\n",
    "\n",
    "Above, we used stochastic gradient descent (SGD) to train our model. This uses a fixed learning rate to update the parameters. Several optimisation algorithms are based on SGD, but adaptively adjust the learning rate (usually for each parameter separately).\n",
    "\n",
    "Different adaptive learning rate strategies are also implemented in `TensorFlow` as functions. For example:"
   ]
  },
  {
   "cell_type": "code",
   "execution_count": 18,
   "metadata": {},
   "outputs": [
    {
     "output_type": "execute_result",
     "data": {
      "text/plain": [
       "tensorflow.python.keras.optimizer_v2.rmsprop.RMSprop"
      ]
     },
     "metadata": {},
     "execution_count": 18
    }
   ],
   "source": [
    "tf.keras.optimizers.SGD\n",
    "tf.keras.optimizers.Adadelta\n",
    "tf.keras.optimizers.Adam\n",
    "tf.keras.optimizers.RMSprop"
   ]
  },
  {
   "cell_type": "markdown",
   "metadata": {},
   "source": [
    "If you are interested in the differences between these strategies, [this blog post](http://ruder.io/optimizing-gradient-descent/) provides more details."
   ]
  },
  {
   "cell_type": "markdown",
   "metadata": {},
   "source": [
    "# Training an XOR Function\n",
    "\n",
    "[XOR](https://en.wikipedia.org/wiki/XOR_gate) is the function that takes two binary values and returns 1 only if one of them is 1 and the other 0, while returning 0 if both of them have the same value. It can be a difficult function to learn and cannot be modelled with a linear model. But let's try anyway.\n",
    "\n",
    "Our dataset consists of all the possible different states that XOR can take:"
   ]
  },
  {
   "cell_type": "code",
   "execution_count": 19,
   "metadata": {},
   "outputs": [],
   "source": [
    "xor_input = tf.constant([[0.0, 0.0], [0.0, 1.0], [1.0, 0.0], [1.0, 1.0]])\n",
    "xor_output = tf.constant([0.0, 1.0, 1.0, 0.0])"
   ]
  },
  {
   "cell_type": "markdown",
   "metadata": {},
   "source": [
    "Now we construct a linear network and optimize it on this dataset, printing out the predictions at each epoch:"
   ]
  },
  {
   "cell_type": "code",
   "execution_count": 20,
   "metadata": {},
   "outputs": [
    {
     "output_type": "stream",
     "name": "stdout",
     "text": [
      "after 10 epochs: [0.4314911  0.21679646 0.7357888  0.5210942 ]\n",
      "after 20 epochs: [0.45656076 0.33753362 0.6482736  0.52924645]\n",
      "after 30 epochs: [0.4685589  0.4020342  0.58808565 0.52156097]\n",
      "after 40 epochs: [0.47714671 0.44071558 0.5521115  0.5156803 ]\n",
      "after 50 epochs: [0.48338673 0.46404445 0.5307413  0.51139903]\n",
      "after 60 epochs: [0.48792288 0.4781378  0.51807165 0.5082866 ]\n",
      "after 70 epochs: [0.49122047 0.4866673  0.51057714 0.506024  ]\n",
      "after 80 epochs: [0.49361765 0.49184054 0.50615627 0.50437915]\n",
      "after 90 epochs: [0.49536034 0.49498624 0.50355756 0.5031835 ]\n",
      "after 100 epochs: [0.49662715 0.4969047  0.5020367  0.5023142 ]\n"
     ]
    }
   ],
   "source": [
    "tf.keras.backend.clear_session()\n",
    "\n",
    "linear_model = tf.keras.Sequential([\n",
    "    tf.keras.layers.Dense(1, input_shape=(2,))\n",
    "])\n",
    "\n",
    "linear_model.compile(optimizer=tf.keras.optimizers.SGD(learning_rate=0.1),\n",
    "                     loss='mean_squared_error')\n",
    "\n",
    "for epoch in range(100):\n",
    "    linear_model.train_on_batch(xor_input, xor_output)\n",
    "    if (epoch + 1) % 10 == 0:\n",
    "        print('after {} epochs:'.format(epoch+1), linear_model(xor_input).numpy().reshape((4,)))"
   ]
  },
  {
   "cell_type": "markdown",
   "metadata": {},
   "source": [
    "As you can see, it's not doing very well. Ideally, the predictions should be [0, 1, 1, 0], but in this case they are hovering around 0.5 for every input case.\n",
    "\n",
    "In order to improve this architecture, let's add some non-linear layers into our model:"
   ]
  },
  {
   "cell_type": "code",
   "execution_count": 21,
   "metadata": {},
   "outputs": [
    {
     "output_type": "stream",
     "name": "stdout",
     "text": [
      "after 10 epochs: [0.45989323 0.43093646 0.5608539  0.4981238 ]\n",
      "after 20 epochs: [0.44220766 0.4436216  0.5664791  0.4958412 ]\n",
      "after 30 epochs: [0.42046416 0.4651907  0.5780684  0.4755422 ]\n",
      "after 40 epochs: [0.3811382  0.5118334  0.60057974 0.44931892]\n",
      "after 50 epochs: [0.3169607  0.57953346 0.6369069  0.4177347 ]\n",
      "after 60 epochs: [0.24966076 0.65029657 0.683118   0.36941773]\n",
      "after 70 epochs: [0.1966033  0.7101349  0.7308061  0.31433743]\n",
      "after 80 epochs: [0.158757   0.75610703 0.77194    0.26597506]\n",
      "after 90 epochs: [0.13208759 0.79046917 0.80423    0.22808403]\n",
      "after 100 epochs: [0.11291733 0.8162875  0.8289151  0.19923615]\n"
     ]
    }
   ],
   "source": [
    "tf.keras.backend.clear_session()\n",
    "\n",
    "nonlinear_model = tf.keras.Sequential([\n",
    "    tf.keras.layers.Dense(5, input_shape=(2,), activation='tanh'), # note that these settings can be changed\n",
    "    tf.keras.layers.Dense(1, activation='sigmoid')\n",
    "])\n",
    "\n",
    "nonlinear_model.compile(optimizer=tf.keras.optimizers.SGD(learning_rate=1),\n",
    "                        loss='mean_squared_error')\n",
    "\n",
    "for epoch in range(100):\n",
    "    nonlinear_model.train_on_batch(xor_input, xor_output)\n",
    "    if (epoch + 1) % 10 == 0:\n",
    "        print('after {} epochs:'.format(epoch+1), nonlinear_model(xor_input).numpy().reshape((4,)))"
   ]
  },
  {
   "cell_type": "markdown",
   "metadata": {},
   "source": [
    "This is much better. The values are much closer to [0, 1, 1, 0] than before, and they will continue improving if we train for longer. (Remember that the model is initialised randomly – if you run it a few times, you will see that the results vary with each run. Check the [documentation](https://www.tensorflow.org/tutorials/keras/save_and_load) on how you can save and restore a particular model).\n",
    "\n",
    "We also had to increase the learning rate for this network. It would still be learning with a smaller learning rate, but it would be converging very slowly. As we discussed in the lectures, learning rate is a hyperparameter that can vary quite a bit depending on the network architecture and dataset.\n",
    "\n",
    "**Optional**: Try changing various settings in the current network, e.g. *width* (number of neurons per layer), *depth* (number of layers), *activation functions* applied to each layer, and number of *epochs*. What changes do you observe?"
   ]
  },
  {
   "cell_type": "code",
   "execution_count": 22,
   "metadata": {},
   "outputs": [
    {
     "output_type": "stream",
     "name": "stdout",
     "text": [
      "after 100 epochs: [0.03405055 0.9807839  0.97118914 0.02849326]\n",
      "after 200 epochs: [0.0208869  0.9877085  0.98192626 0.01688921]\n",
      "after 300 epochs: [0.01615027 0.99028826 0.9858793  0.01283455]\n",
      "after 400 epochs: [0.01357406 0.99171394 0.98808396 0.01066193]\n",
      "after 500 epochs: [0.01190048 0.99266267 0.9895389  0.00927323]\n",
      "after 600 epochs: [0.01070145 0.99334526 0.9905808  0.0082871 ]\n",
      "after 700 epochs: [0.00979254 0.9938662  0.99137616 0.00754517]\n",
      "after 800 epochs: [0.00907442 0.9942793  0.99200195 0.00696218]\n",
      "after 900 epochs: [0.00848827 0.9946203  0.9925239  0.00649017]\n",
      "after 1000 epochs: [0.00799954 0.99490553 0.9929513  0.00609764]\n"
     ]
    }
   ],
   "source": [
    "# Mine\n",
    "\n",
    "tf.keras.backend.clear_session()\n",
    "\n",
    "nonlinear_model = tf.keras.Sequential([\n",
    "    tf.keras.layers.Dense(64, input_shape=(2,), activation='relu'),\n",
    "    tf.keras.layers.Dense(32, input_shape=(2,), activation='relu'),\n",
    "    tf.keras.layers.Dense(16, input_shape=(2,), activation='relu'),\n",
    "    tf.keras.layers.Dense(8, input_shape=(2,), activation='tanh'), # note that these settings can be changed\n",
    "    tf.keras.layers.Dense(1, activation='sigmoid')\n",
    "])\n",
    "\n",
    "nonlinear_model.compile(optimizer=tf.keras.optimizers.SGD(learning_rate=1),\n",
    "                        loss='mean_squared_error')\n",
    "\n",
    "for epoch in range(1000):\n",
    "    nonlinear_model.train_on_batch(xor_input, xor_output)\n",
    "    if (epoch + 1) % 100 == 0:\n",
    "        print('after {} epochs:'.format(epoch+1), nonlinear_model(xor_input).numpy().reshape((4,)))"
   ]
  },
  {
   "cell_type": "markdown",
   "metadata": {},
   "source": [
    "- tf.keras.layers.Dense(100, input_shape=(2,), activation='relu') - got after 100 epochs: [0.15288806 0.91357195 0.910642   0.06977707]\n",
    "\n",
    "- tf.keras.layers.Dense(100, input_shape=(2,), activation='sigmoid') got after 100 epochs: [0.7675986  0.7659911  0.74394864 0.74212164] or after 100 epochs: [0.2369608  0.24330732 0.2336308  0.2398197 ] = weird\n",
    "\n",
    "- with more layers \n",
    "\n",
    "nonlinear_model = tf.keras.Sequential([\n",
    "   \n",
    "    tf.keras.layers.Dense(16, input_shape=(2,), activation='tanh'),\n",
    "   \n",
    "    tf.keras.layers.Dense(8, input_shape=(2,), activation='tanh'), # note that these settings can be changed\n",
    "   \n",
    "    tf.keras.layers.Dense(1, activation='sigmoid')\n",
    "])\n",
    " \n",
    "\n",
    " after 100 epochs: [0.07005394 0.90713346 0.90309864 0.0912008 ]\n",
    "\n",
    "\n",
    "\n",
    "nonlinear_model = tf.keras.Sequential([\n",
    "    \n",
    "    tf.keras.layers.Dense(16, input_shape=(2,), activation='tanh'),\n",
    "    \n",
    "    tf.keras.layers.Dense(8, input_shape=(2,), activation='relu'), # note that these settings can be changed\n",
    "    \n",
    "    tf.keras.layers.Dense(1, activation='sigmoid')\n",
    "])\n",
    "\n",
    "\n",
    "after 100 epochs: [0.0411101  0.9592626  0.96524894 0.04195771]\n",
    "\n",
    "\n",
    "- best I got with 1000 epoch\n",
    "nonlinear_model = tf.keras.Sequential([\n",
    "    \n",
    "    tf.keras.layers.Dense(16, input_shape=(2,), activation='relu'),\n",
    "    \n",
    "    tf.keras.layers.Dense(8, input_shape=(2,), activation='tanh'), # note that these settings can be changed\n",
    "    \n",
    "    tf.keras.layers.Dense(1, activation='sigmoid')\n",
    "])\n",
    "\n",
    "after 1000 epochs: [0.01317123 0.99075276 0.991938   0.0065771 ]\n",
    "\n"
   ]
  },
  {
   "cell_type": "markdown",
   "metadata": {},
   "source": [
    "# XOR Classification\n",
    "\n",
    "We can also do classification with `TensorFlow`. For this, we often use the softmax activation function described above, which predicts the probability for each of the possible classes.\n",
    "\n",
    "We also have to change the loss function, as squared error is not suitable for classification. A suitable loss function is [cross entropy](https://en.wikipedia.org/wiki/Cross_entropy). Since the correct output has probability 1 for the correct class, and probability 0 for the rest, minimising cross entropy is the same as minimising the negative log probability of the correct class for each datapoint. In other words, by minimising cross entropy, we are trying to find the maximum likelihood model, which assigns high values for the correct label.\n",
    "\n",
    "We can change the XOR example above to perform classification instead. In this case, we are constructing a binary classifier – choosing between the classes of 0 and 1. The output here prints the predicted probabilities of the two classes."
   ]
  },
  {
   "cell_type": "code",
   "execution_count": 23,
   "metadata": {},
   "outputs": [
    {
     "output_type": "stream",
     "name": "stdout",
     "text": [
      "after 10 epochs:\n[[0.5755808  0.42441922]\n [0.51878613 0.4812138 ]\n [0.22188988 0.7781101 ]\n [0.5690694  0.4309306 ]]\nafter 20 epochs:\n[[0.6481799  0.35182008]\n [0.3930721  0.60692793]\n [0.07570078 0.92429924]\n [0.5817306  0.41826934]]\nafter 30 epochs:\n[[0.76032287 0.23967713]\n [0.27142018 0.7285798 ]\n [0.03043336 0.96956664]\n [0.8030073  0.19699265]]\nafter 40 epochs:\n[[0.91551244 0.08448751]\n [0.09463698 0.90536296]\n [0.0310323  0.9689677 ]\n [0.93439513 0.0656049 ]]\nafter 50 epochs:\n[[0.9531057  0.04689433]\n [0.04946918 0.9505309 ]\n [0.02252371 0.9774763 ]\n [0.96838623 0.03161371]]\n"
     ]
    }
   ],
   "source": [
    "tf.keras.backend.clear_session()\n",
    "\n",
    "nonlinear_model = tf.keras.Sequential([\n",
    "    tf.keras.layers.Dense(10, input_shape=(2,), activation='relu'),\n",
    "    tf.keras.layers.Dense(2, activation='softmax')\n",
    "])\n",
    "\n",
    "nonlinear_model.compile(optimizer=tf.keras.optimizers.SGD(learning_rate=1),\n",
    "                        loss='sparse_categorical_crossentropy')\n",
    "\n",
    "for epoch in range(50):\n",
    "    nonlinear_model.train_on_batch(xor_input, xor_output)\n",
    "    if (epoch + 1) % 10 == 0:\n",
    "        print('after {} epochs:'.format(epoch+1), nonlinear_model(xor_input).numpy(), sep='\\n')"
   ]
  },
  {
   "cell_type": "markdown",
   "metadata": {},
   "source": [
    "Let's convert these probabilities into class predictions and also report some of the more familiar [evaluation metrics](https://www.tensorflow.org/api_docs/python/tf/keras/metrics), e.g. *accuracy*:"
   ]
  },
  {
   "cell_type": "code",
   "execution_count": 24,
   "metadata": {},
   "outputs": [
    {
     "output_type": "stream",
     "name": "stdout",
     "text": [
      "\n",
      "After 10 epochs: 0 1 0 0\n",
      "1/1 - 0s - loss: 0.5911 - accuracy: 0.7500\n",
      "\n",
      "Accuracy: 0.75\n",
      "\n",
      "After 20 epochs: 0 1 1 0\n",
      "1/1 - 0s - loss: 0.5160 - accuracy: 1.0000\n",
      "\n",
      "Accuracy: 1.0\n",
      "\n",
      "After 30 epochs: 0 1 1 0\n",
      "1/1 - 0s - loss: 0.4340 - accuracy: 1.0000\n",
      "\n",
      "Accuracy: 1.0\n",
      "\n",
      "After 40 epochs: 0 1 1 0\n",
      "1/1 - 0s - loss: 0.3807 - accuracy: 1.0000\n",
      "\n",
      "Accuracy: 1.0\n",
      "\n",
      "After 50 epochs: 0 1 1 0\n",
      "1/1 - 0s - loss: 0.3614 - accuracy: 1.0000\n",
      "\n",
      "Accuracy: 1.0\n"
     ]
    }
   ],
   "source": [
    "tf.keras.backend.clear_session()\n",
    "\n",
    "nonlinear_model = tf.keras.Sequential([\n",
    "    tf.keras.layers.Dense(10, input_shape=(2,), activation='relu'),\n",
    "    tf.keras.layers.Dense(2, activation='softmax')\n",
    "])\n",
    "\n",
    "nonlinear_model.compile(optimizer=tf.keras.optimizers.SGD(learning_rate=1),\n",
    "              loss=tf.keras.losses.SparseCategoricalCrossentropy(from_logits=True),\n",
    "              metrics=['accuracy'])  \n",
    "\n",
    "for epoch in range(50):\n",
    "    nonlinear_model.train_on_batch(xor_input, xor_output)\n",
    "    predictions = nonlinear_model.predict(xor_input)\n",
    "    result = tf.argmax(predictions, axis=1)\n",
    "    \n",
    "    if (epoch + 1) % 10 == 0:\n",
    "        print('\\nAfter {} epochs:'.format(epoch+1), \" \".join([str(x) for x in result.numpy()]))\n",
    "        test_loss, test_acc = nonlinear_model.evaluate(xor_input, xor_output, verbose=2)\n",
    "        print('\\nAccuracy:', test_acc)\n"
   ]
  },
  {
   "cell_type": "markdown",
   "metadata": {},
   "source": [
    "You should be able to see in this printout that the model starts off with incorrect predictions, but fairly soon learns to return the correct sequence of [0, 1, 1, 0].\n",
    "\n",
    "Finally, here is how you can print out the confusion matrix. Since we are looking into a simple case here and the predictions from above are quite accurate, there is not much to be learned from the confusion matrix at this point (but note that this functionality may come in handy later in your practical):"
   ]
  },
  {
   "cell_type": "code",
   "execution_count": 25,
   "metadata": {},
   "outputs": [
    {
     "output_type": "stream",
     "name": "stdout",
     "text": [
      "[[2 0]\n [0 2]]\n"
     ]
    }
   ],
   "source": [
    "conf_mx = tf.math.confusion_matrix(xor_output, result.numpy()).numpy()\n",
    "print(conf_mx)"
   ]
  },
  {
   "cell_type": "markdown",
   "metadata": {},
   "source": [
    "# Minibatching\n",
    "\n",
    "For the XOR data, there are only 4 datapoints. However, with realistic datasets, it is inefficient to train on the whole dataset at once, because this will require a lot of computation in order to make a single update step. \n",
    "\n",
    "Instead, we can train on a batch of data at a time. For example, here is how you can take batches of 2 datapoints for the XOR data:"
   ]
  },
  {
   "cell_type": "code",
   "execution_count": 26,
   "metadata": {},
   "outputs": [
    {
     "output_type": "stream",
     "name": "stdout",
     "text": [
      "after 10 epochs:\n",
      "[[0.6146366  0.38536337]\n",
      " [0.32704777 0.67295223]\n",
      " [0.14118719 0.8588128 ]\n",
      " [0.8864163  0.1135837 ]]\n",
      "after 20 epochs:\n",
      "[[0.85141915 0.14858085]\n",
      " [0.03759621 0.96240383]\n",
      " [0.02701439 0.9729856 ]\n",
      " [0.98371613 0.01628381]]\n",
      "after 30 epochs:\n",
      "[[0.92407423 0.0759258 ]\n",
      " [0.0157696  0.98423034]\n",
      " [0.01245207 0.9875479 ]\n",
      " [0.9922225  0.00777754]]\n",
      "after 40 epochs:\n",
      "[[0.9498043  0.05019573]\n",
      " [0.00977722 0.9902228 ]\n",
      " [0.0082536  0.9917464 ]\n",
      " [0.99536395 0.00463601]]\n",
      "after 50 epochs:\n",
      "[[0.96288854 0.03711141]\n",
      " [0.00697349 0.9930265 ]\n",
      " [0.00622556 0.9937744 ]\n",
      " [0.99687386 0.00312617]]\n"
     ]
    }
   ],
   "source": [
    "tf.keras.backend.clear_session()\n",
    "\n",
    "nonlinear_model = tf.keras.Sequential([\n",
    "    tf.keras.layers.Dense(10, input_shape=(2,), activation='relu'),\n",
    "    tf.keras.layers.Dense(2, activation='softmax')\n",
    "])\n",
    "\n",
    "nonlinear_model.compile(optimizer=tf.keras.optimizers.SGD(learning_rate=1),\n",
    "                        loss='sparse_categorical_crossentropy')\n",
    "\n",
    "BATCH_SIZE = 2\n",
    "\n",
    "for epoch in range(50):\n",
    "    for i in range(0,len(xor_input),BATCH_SIZE):\n",
    "        input_batch = xor_input[i:i+BATCH_SIZE]\n",
    "        output_batch = xor_output[i:i+BATCH_SIZE]\n",
    "        nonlinear_model.train_on_batch(input_batch, output_batch)\n",
    "    if (epoch + 1) % 10 == 0:\n",
    "        print('after {} epochs:'.format(epoch+1), nonlinear_model(xor_input).numpy(), sep='\\n')"
   ]
  },
  {
   "cell_type": "markdown",
   "metadata": {},
   "source": [
    "Again, this kind of functionality is built into `TensorFlow`. The following code trains the model with the given batch size and number of epochs:"
   ]
  },
  {
   "cell_type": "code",
   "execution_count": 27,
   "metadata": {},
   "outputs": [
    {
     "output_type": "stream",
     "name": "stdout",
     "text": [
      "Epoch 1/50\n",
      "2/2 [==============================] - 0s 998us/step - loss: 1.6983\n",
      "Epoch 2/50\n",
      "2/2 [==============================] - 0s 496us/step - loss: 0.7185\n",
      "Epoch 3/50\n",
      "2/2 [==============================] - 0s 499us/step - loss: 0.9771\n",
      "Epoch 4/50\n",
      "2/2 [==============================] - 0s 999us/step - loss: 0.6602\n",
      "Epoch 5/50\n",
      "2/2 [==============================] - 0s 512us/step - loss: 0.9783\n",
      "Epoch 6/50\n",
      "2/2 [==============================] - 0s 997us/step - loss: 0.7468\n",
      "Epoch 7/50\n",
      "2/2 [==============================] - 0s 997us/step - loss: 0.6661\n",
      "Epoch 8/50\n",
      "2/2 [==============================] - 0s 996us/step - loss: 0.6424\n",
      "Epoch 9/50\n",
      "2/2 [==============================] - 0s 998us/step - loss: 0.9845\n",
      "Epoch 10/50\n",
      "2/2 [==============================] - 0s 499us/step - loss: 1.0566\n",
      "Epoch 11/50\n",
      "2/2 [==============================] - 0s 998us/step - loss: 0.7347\n",
      "Epoch 12/50\n",
      "2/2 [==============================] - 0s 996us/step - loss: 0.6960\n",
      "Epoch 13/50\n",
      "2/2 [==============================] - 0s 498us/step - loss: 0.6933\n",
      "Epoch 14/50\n",
      "2/2 [==============================] - 0s 980us/step - loss: 0.6932\n",
      "Epoch 15/50\n",
      "2/2 [==============================] - 0s 985us/step - loss: 0.6931\n",
      "Epoch 16/50\n",
      "2/2 [==============================] - 0s 997us/step - loss: 0.6931\n",
      "Epoch 17/50\n",
      "2/2 [==============================] - 0s 998us/step - loss: 1.0032\n",
      "Epoch 18/50\n",
      "2/2 [==============================] - 0s 998us/step - loss: 0.9895\n",
      "Epoch 19/50\n",
      "2/2 [==============================] - 0s 2ms/step - loss: 0.9899\n",
      "Epoch 20/50\n",
      "2/2 [==============================] - 0s 996us/step - loss: 0.9893\n",
      "Epoch 21/50\n",
      "2/2 [==============================] - 0s 498us/step - loss: 0.9895\n",
      "Epoch 22/50\n",
      "2/2 [==============================] - 0s 991us/step - loss: 0.7029\n",
      "Epoch 23/50\n",
      "2/2 [==============================] - 0s 999us/step - loss: 1.0098\n",
      "Epoch 24/50\n",
      "2/2 [==============================] - 0s 995us/step - loss: 0.9898\n",
      "Epoch 25/50\n",
      "2/2 [==============================] - 0s 998us/step - loss: 0.7004\n",
      "Epoch 26/50\n",
      "2/2 [==============================] - 0s 499us/step - loss: 1.0088\n",
      "Epoch 27/50\n",
      "2/2 [==============================] - 0s 997us/step - loss: 0.7115\n",
      "Epoch 28/50\n",
      "2/2 [==============================] - 0s 499us/step - loss: 0.6944\n",
      "Epoch 29/50\n",
      "2/2 [==============================] - 0s 503us/step - loss: 0.6932\n",
      "Epoch 30/50\n",
      "2/2 [==============================] - 0s 998us/step - loss: 1.0027\n",
      "Epoch 31/50\n",
      "2/2 [==============================] - 0s 499us/step - loss: 1.0485\n",
      "Epoch 32/50\n",
      "2/2 [==============================] - 0s 499us/step - loss: 0.7212\n",
      "Epoch 33/50\n",
      "2/2 [==============================] - 0s 997us/step - loss: 0.6950\n",
      "Epoch 34/50\n",
      "2/2 [==============================] - 0s 997us/step - loss: 0.6933\n",
      "Epoch 35/50\n",
      "2/2 [==============================] - 0s 998us/step - loss: 1.0026\n",
      "Epoch 36/50\n",
      "2/2 [==============================] - 0s 998us/step - loss: 0.9894\n",
      "Epoch 37/50\n",
      "2/2 [==============================] - 0s 495us/step - loss: 0.7009\n",
      "Epoch 38/50\n",
      "2/2 [==============================] - 0s 492us/step - loss: 0.9983\n",
      "Epoch 39/50\n",
      "2/2 [==============================] - 0s 998us/step - loss: 0.7081\n",
      "Epoch 40/50\n",
      "2/2 [==============================] - 0s 998us/step - loss: 0.6941\n",
      "Epoch 41/50\n",
      "2/2 [==============================] - 0s 997us/step - loss: 1.0014\n",
      "Epoch 42/50\n",
      "2/2 [==============================] - 0s 998us/step - loss: 0.9894\n",
      "Epoch 43/50\n",
      "2/2 [==============================] - 0s 500us/step - loss: 0.9898\n",
      "Epoch 44/50\n",
      "2/2 [==============================] - 0s 2ms/step - loss: 1.0367\n",
      "Epoch 45/50\n",
      "2/2 [==============================] - 0s 998us/step - loss: 0.7185\n",
      "Epoch 46/50\n",
      "2/2 [==============================] - 0s 998us/step - loss: 1.0147\n",
      "Epoch 47/50\n",
      "2/2 [==============================] - 0s 498us/step - loss: 0.9901\n",
      "Epoch 48/50\n",
      "2/2 [==============================] - 0s 998us/step - loss: 0.7001\n",
      "Epoch 49/50\n",
      "2/2 [==============================] - 0s 499us/step - loss: 1.0087\n",
      "Epoch 50/50\n",
      "2/2 [==============================] - 0s 499us/step - loss: 0.7115\n",
      "1/1 [==============================] - 0s 1ms/step - loss: 0.6951\n",
      "final loss: 0.695073127746582\n",
      "final predictions:\n",
      "[[0.5310022  0.46899778]\n",
      " [0.5310022  0.46899778]\n",
      " [0.5310022  0.46899778]\n",
      " [0.5310022  0.46899778]]\n"
     ]
    }
   ],
   "source": [
    "tf.keras.backend.clear_session()\n",
    "\n",
    "nonlinear_model = tf.keras.Sequential([\n",
    "    tf.keras.layers.Dense(10, input_shape=(2,), activation='relu'),\n",
    "    tf.keras.layers.Dense(2, activation='softmax')\n",
    "])\n",
    "\n",
    "nonlinear_model.compile(optimizer=tf.keras.optimizers.SGD(learning_rate=1),\n",
    "                        loss='sparse_categorical_crossentropy')\n",
    "\n",
    "nonlinear_model.fit(xor_input, xor_output, batch_size=2, epochs=50)\n",
    "\n",
    "print('final loss:', nonlinear_model.evaluate(xor_input, xor_output))\n",
    "print('final predictions:', nonlinear_model.predict(xor_input), sep='\\n')"
   ]
  },
  {
   "cell_type": "markdown",
   "metadata": {},
   "source": [
    "# TensorBoard\n",
    "\n",
    "So far, you have been exploring the results using simple print out messages. However, neural networks can grow very large and complicated, and you may wish to visualise and explore various components along the way. Visualisation in this case is not only a useful method for reporting and sharing your results, but also a good way to inspect your network and debug it. \n",
    "\n",
    "[`TensorBoard`](https://www.tensorflow.org/tensorboard) provides you with all the needed visualisation functionality and allows you to:\n",
    "\n",
    "- track and visualise metrics such as loss and accuracy;\n",
    "- visualise the model graph (ops and layers);\n",
    "- view histograms of weights, biases, or other tensors as they change over time;\n",
    "- project embeddings to a lower dimensional space;\n",
    "- display images, text, and audio data;\n",
    "- profile TensorFlow programs;\n",
    "\n",
    "among other things. Moreover, you can run it in your browser or embed it directly into your notebook as the code below shows:"
   ]
  },
  {
   "cell_type": "code",
   "execution_count": 28,
   "metadata": {},
   "outputs": [],
   "source": [
    "# Load the TensorBoard notebook extension\n",
    "%load_ext tensorboard"
   ]
  },
  {
   "cell_type": "code",
   "execution_count": 29,
   "metadata": {},
   "outputs": [],
   "source": [
    "%reload_ext tensorboard"
   ]
  },
  {
   "cell_type": "markdown",
   "metadata": {},
   "source": [
    "Since you will likely be introducing changes into your network and rerunning your code, it's important to be able to distinguish between these different runs to track the changes. Every time you run a new model, it will be stored in log files and added to your `TensorBoard`, so a good way to distinguish between various models is to add a time stamp to each of them. Let's add this functionality:"
   ]
  },
  {
   "cell_type": "code",
   "execution_count": 30,
   "metadata": {},
   "outputs": [],
   "source": [
    "import datetime"
   ]
  },
  {
   "cell_type": "markdown",
   "metadata": {},
   "source": [
    "Now, make sure you clean all the previous logs (e.g., if you've run this notebook before). You can clear any logs from previous runs by running `rm -rf ./logs/` from within your notebook folder in your terminal.\n",
    "\n",
    "Once this is done, let's train a network and store its details in the log files."
   ]
  },
  {
   "cell_type": "code",
   "execution_count": 31,
   "metadata": {},
   "outputs": [
    {
     "output_type": "stream",
     "name": "stdout",
     "text": [
      "Epoch 1/50\n",
      "1/2 [==============>...............] - ETA: 0s - loss: 0.6669WARNING:tensorflow:From C:\\Users\\user\\AppData\\Local\\Programs\\Python\\Python38\\lib\\site-packages\\tensorflow\\python\\ops\\summary_ops_v2.py:1277: stop (from tensorflow.python.eager.profiler) is deprecated and will be removed after 2020-07-01.\n",
      "Instructions for updating:\n",
      "use `tf.profiler.experimental.stop` instead.\n",
      "2/2 [==============================] - ETA: 0s - loss: 0.7930WARNING:tensorflow:Callbacks method `on_train_batch_begin` is slow compared to the batch time (batch time: 0.0010s vs `on_train_batch_begin` time: 0.0020s). Check your callbacks.\n",
      "WARNING:tensorflow:Callbacks method `on_train_batch_end` is slow compared to the batch time (batch time: 0.0010s vs `on_train_batch_end` time: 0.6528s). Check your callbacks.\n",
      "2/2 [==============================] - 1s 506ms/step - loss: 0.7930 - val_loss: 0.7293\n",
      "Epoch 2/50\n",
      "2/2 [==============================] - 0s 33ms/step - loss: 2.1100 - val_loss: 0.8371\n",
      "Epoch 3/50\n",
      "2/2 [==============================] - 0s 24ms/step - loss: 0.8793 - val_loss: 0.7183\n",
      "Epoch 4/50\n",
      "2/2 [==============================] - 0s 25ms/step - loss: 0.7631 - val_loss: 0.7015\n",
      "Epoch 5/50\n",
      "2/2 [==============================] - 0s 90ms/step - loss: 0.7424 - val_loss: 0.6861\n",
      "Epoch 6/50\n",
      "2/2 [==============================] - 0s 32ms/step - loss: 1.4614 - val_loss: 0.7392\n",
      "Epoch 7/50\n",
      "2/2 [==============================] - 0s 37ms/step - loss: 0.8521 - val_loss: 0.6931\n",
      "Epoch 8/50\n",
      "2/2 [==============================] - 0s 28ms/step - loss: 1.1602 - val_loss: 0.7474\n",
      "Epoch 9/50\n",
      "2/2 [==============================] - 0s 25ms/step - loss: 1.0201 - val_loss: 0.7013\n",
      "Epoch 10/50\n",
      "2/2 [==============================] - 0s 26ms/step - loss: 0.8136 - val_loss: 0.6911\n",
      "Epoch 11/50\n",
      "2/2 [==============================] - 0s 163ms/step - loss: 1.0423 - val_loss: 0.7274\n",
      "Epoch 12/50\n",
      "2/2 [==============================] - 0s 28ms/step - loss: 0.8014 - val_loss: 0.6957\n",
      "Epoch 13/50\n",
      "2/2 [==============================] - 0s 13ms/step - loss: 1.0411 - val_loss: 0.7305\n",
      "Epoch 14/50\n",
      "2/2 [==============================] - 0s 11ms/step - loss: 0.7833 - val_loss: 0.6964\n",
      "Epoch 15/50\n",
      "2/2 [==============================] - 0s 9ms/step - loss: 0.7500 - val_loss: 0.6930\n",
      "Epoch 16/50\n",
      "2/2 [==============================] - 0s 8ms/step - loss: 0.7751 - val_loss: 0.6926\n",
      "Epoch 17/50\n",
      "2/2 [==============================] - 0s 9ms/step - loss: 1.0454 - val_loss: 0.7303\n",
      "Epoch 18/50\n",
      "2/2 [==============================] - 0s 9ms/step - loss: 0.7775 - val_loss: 0.6981\n",
      "Epoch 19/50\n",
      "2/2 [==============================] - 0s 9ms/step - loss: 1.0328 - val_loss: 0.7287\n",
      "Epoch 20/50\n",
      "2/2 [==============================] - 0s 9ms/step - loss: 0.9918 - val_loss: 0.7036\n",
      "Epoch 21/50\n",
      "2/2 [==============================] - 0s 17ms/step - loss: 0.7602 - val_loss: 0.6934\n",
      "Epoch 22/50\n",
      "2/2 [==============================] - 0s 11ms/step - loss: 0.7469 - val_loss: 0.6941\n",
      "Epoch 23/50\n",
      "2/2 [==============================] - 0s 9ms/step - loss: 1.0069 - val_loss: 0.7197\n",
      "Epoch 24/50\n",
      "2/2 [==============================] - 0s 10ms/step - loss: 0.9906 - val_loss: 0.7055\n",
      "Epoch 25/50\n",
      "2/2 [==============================] - 0s 10ms/step - loss: 1.0318 - val_loss: 0.7314\n",
      "Epoch 26/50\n",
      "2/2 [==============================] - 0s 11ms/step - loss: 0.7558 - val_loss: 0.6971\n",
      "Epoch 27/50\n",
      "2/2 [==============================] - 0s 12ms/step - loss: 0.9982 - val_loss: 0.7149\n",
      "Epoch 28/50\n",
      "2/2 [==============================] - 0s 9ms/step - loss: 0.7603 - val_loss: 0.6936\n",
      "Epoch 29/50\n",
      "2/2 [==============================] - 0s 10ms/step - loss: 0.7343 - val_loss: 0.6932\n",
      "Epoch 30/50\n",
      "2/2 [==============================] - 0s 12ms/step - loss: 0.7266 - val_loss: 0.6930\n",
      "Epoch 31/50\n",
      "2/2 [==============================] - 0s 9ms/step - loss: 0.7208 - val_loss: 0.6935\n",
      "Epoch 32/50\n",
      "2/2 [==============================] - 0s 10ms/step - loss: 1.0107 - val_loss: 0.7189\n",
      "Epoch 33/50\n",
      "2/2 [==============================] - 0s 9ms/step - loss: 0.7426 - val_loss: 0.6937\n",
      "Epoch 34/50\n",
      "2/2 [==============================] - 0s 10ms/step - loss: 0.7149 - val_loss: 0.6931\n",
      "Epoch 35/50\n",
      "2/2 [==============================] - 0s 10ms/step - loss: 1.0083 - val_loss: 0.7212\n",
      "Epoch 36/50\n",
      "2/2 [==============================] - 0s 9ms/step - loss: 0.7228 - val_loss: 0.6955\n",
      "Epoch 37/50\n",
      "2/2 [==============================] - 0s 9ms/step - loss: 0.7064 - val_loss: 0.6937\n",
      "Epoch 38/50\n",
      "2/2 [==============================] - 0s 9ms/step - loss: 1.0092 - val_loss: 0.7215\n",
      "Epoch 39/50\n",
      "2/2 [==============================] - 0s 9ms/step - loss: 0.7449 - val_loss: 0.6957\n",
      "Epoch 40/50\n",
      "2/2 [==============================] - 0s 11ms/step - loss: 0.7062 - val_loss: 0.6936\n",
      "Epoch 41/50\n",
      "2/2 [==============================] - 0s 11ms/step - loss: 0.7028 - val_loss: 0.6934\n",
      "Epoch 42/50\n",
      "2/2 [==============================] - 0s 10ms/step - loss: 1.0020 - val_loss: 0.7184\n",
      "Epoch 43/50\n",
      "2/2 [==============================] - 0s 10ms/step - loss: 1.0478 - val_loss: 0.7370\n",
      "Epoch 44/50\n",
      "2/2 [==============================] - 0s 10ms/step - loss: 0.7604 - val_loss: 0.6952\n",
      "Epoch 45/50\n",
      "2/2 [==============================] - 0s 9ms/step - loss: 1.0134 - val_loss: 0.7242\n",
      "Epoch 46/50\n",
      "2/2 [==============================] - 0s 11ms/step - loss: 0.7269 - val_loss: 0.6943\n",
      "Epoch 47/50\n",
      "2/2 [==============================] - 0s 11ms/step - loss: 0.7210 - val_loss: 0.6931\n",
      "Epoch 48/50\n",
      "2/2 [==============================] - 0s 10ms/step - loss: 1.0050 - val_loss: 0.7196\n",
      "Epoch 49/50\n",
      "2/2 [==============================] - 0s 12ms/step - loss: 1.0493 - val_loss: 0.7376\n",
      "Epoch 50/50\n",
      "2/2 [==============================] - 0s 13ms/step - loss: 0.7394 - val_loss: 0.6969\n",
      "1/1 [==============================] - 0s 997us/step - loss: 0.6969\n",
      "final loss: 0.6968719363212585\n",
      "final predictions:\n",
      "[[0.5454252  0.45457473]\n",
      " [0.54256004 0.45743993]\n",
      " [0.5431422  0.4568578 ]\n",
      " [0.54020566 0.4597943 ]]\n"
     ]
    }
   ],
   "source": [
    "tf.keras.backend.clear_session()\n",
    "\n",
    "nonlinear_model = tf.keras.Sequential([\n",
    "    tf.keras.layers.Dense(10, input_shape=(2,), activation='tanh'),\n",
    "    tf.keras.layers.Dense(2, activation='softmax')\n",
    "])\n",
    "\n",
    "nonlinear_model.compile(optimizer=tf.keras.optimizers.SGD(learning_rate=1),\n",
    "                        loss='sparse_categorical_crossentropy')\n",
    "\n",
    "log_dir = \"logs/fit/\" + datetime.datetime.now().strftime(\"%Y%m%d-%H%M%S\")\n",
    "tensorboard_callback = tf.keras.callbacks.TensorBoard(log_dir=log_dir, histogram_freq=1)\n",
    "\n",
    "nonlinear_model.fit(xor_input, xor_output, \n",
    "                    batch_size=2, epochs=50, \n",
    "                    validation_data=(xor_input, xor_output),\n",
    "                    callbacks=[tensorboard_callback])\n",
    "\n",
    "print('final loss:', nonlinear_model.evaluate(xor_input, xor_output))\n",
    "print('final predictions:', nonlinear_model.predict(xor_input), sep='\\n')"
   ]
  },
  {
   "cell_type": "markdown",
   "metadata": {},
   "source": [
    "And now you can explore your model in `TensorBoard`:"
   ]
  },
  {
   "cell_type": "code",
   "execution_count": 32,
   "metadata": {
    "scrolled": true
   },
   "outputs": [
    {
     "output_type": "display_data",
     "data": {
      "text/plain": "Reusing TensorBoard on port 6006 (pid 3400), started 1:58:19 ago. (Use '!kill 3400' to kill it.)"
     },
     "metadata": {}
    }
   ],
   "source": [
    "%tensorboard --logdir logs/fit --host localhost"
   ]
  },
  {
   "cell_type": "markdown",
   "metadata": {},
   "source": [
    "You can explore both the results (e.g., learning curves) under the `Scalars` tab and the network architecture itself under the `Graphs` tab. All visualisations are interactive – note that you can scroll in on the network components in the `Graph` visualisation and double-click on the \"+\" sign in the upper right corner of any component to track operations, weights, etc.\n",
    "\n",
    "A brief overview of the dashboards from [`TensorBoard` documentation](https://www.tensorflow.org/tensorboard/get_started):\n",
    "\n",
    "- The `Scalars` dashboard shows how the loss and metrics change with every epoch. You can use it to also track training speed, learning rate, and other scalar values.\n",
    "- The `Graphs` dashboard helps you visualise your model. In this case, the Keras graph of layers is shown which can help you ensure it is built correctly.\n",
    "- The `Distributions` and `Histograms` dashboards show the distribution of a Tensor over time. This can be useful to visualize weights and biases and verify that they are changing in an expected way.\n",
    "\n",
    "There are additional `TensorBoard` plugins, which are automatically enabled when you log other types of data (note, it is not applicable to this notebook, as you are not working with any other types of data here). For example, the Keras `TensorBoard` callback lets you log images and embeddings as well. You can see what other plugins are available in `TensorBoard` by clicking on the \"inactive\" dropdown towards the top right.\n",
    "\n",
    "\n",
    "# Keeping track of the history\n",
    "\n",
    "There are other ways to get more information and description of your model, which are useful when you introduce more complexity to the model and would like to keep track of the changes. We'll summarise them in this section."
   ]
  },
  {
   "cell_type": "code",
   "execution_count": 33,
   "metadata": {},
   "outputs": [],
   "source": [
    "tf.keras.backend.clear_session()\n",
    "nonlinear_model = tf.keras.Sequential([\n",
    "    tf.keras.layers.Dense(10, input_shape=(2,), activation='relu'),\n",
    "    tf.keras.layers.Dense(2, activation='softmax')\n",
    "])"
   ]
  },
  {
   "cell_type": "markdown",
   "metadata": {},
   "source": [
    "For instance, here is how you can return the information on the networks' layers and their types:"
   ]
  },
  {
   "cell_type": "code",
   "execution_count": 34,
   "metadata": {},
   "outputs": [
    {
     "output_type": "execute_result",
     "data": {
      "text/plain": [
       "[<tensorflow.python.keras.layers.core.Dense at 0x17978c7a670>,\n",
       " <tensorflow.python.keras.layers.core.Dense at 0x17901da3580>]"
      ]
     },
     "metadata": {},
     "execution_count": 34
    }
   ],
   "source": [
    "nonlinear_model.layers"
   ]
  },
  {
   "cell_type": "markdown",
   "metadata": {},
   "source": [
    "And here is how you can get a concise summary of the network layers (note that the first dimension in the output shape column is specified as `None` – this is to denote that this dimension is variable as it depends on the batch size):"
   ]
  },
  {
   "cell_type": "code",
   "execution_count": 35,
   "metadata": {},
   "outputs": [
    {
     "output_type": "stream",
     "name": "stdout",
     "text": [
      "Model: \"sequential\"\n_________________________________________________________________\nLayer (type)                 Output Shape              Param #   \n=================================================================\ndense (Dense)                (None, 10)                30        \n_________________________________________________________________\ndense_1 (Dense)              (None, 2)                 22        \n=================================================================\nTotal params: 52\nTrainable params: 52\nNon-trainable params: 0\n_________________________________________________________________\n"
     ]
    }
   ],
   "source": [
    "nonlinear_model.summary()"
   ]
  },
  {
   "cell_type": "markdown",
   "metadata": {},
   "source": [
    "Finally, you can also plot tje model summary like so:"
   ]
  },
  {
   "cell_type": "code",
   "execution_count": 36,
   "metadata": {},
   "outputs": [
    {
     "output_type": "execute_result",
     "data": {
      "image/png": "[encoded data removed]",
      "text/plain": [
       "<IPython.core.display.Image object>"
      ]
     },
     "metadata": {},
     "execution_count": 36
    }
   ],
   "source": [
    "import os\n",
    "os.environ[\"PATH\"] += os.pathsep + 'C:/Program Files/Graphviz 2.44.1/bin/'\n",
    "tf.keras.utils.plot_model(nonlinear_model, show_shapes=True)"
   ]
  },
  {
   "cell_type": "markdown",
   "metadata": {},
   "source": [
    "Below are a number of ways to extract (and store) the information on individual layers, as well as on weights and biases in the network:"
   ]
  },
  {
   "cell_type": "code",
   "execution_count": 37,
   "metadata": {},
   "outputs": [
    {
     "output_type": "execute_result",
     "data": {
      "text/plain": [
       "'dense_1'"
      ]
     },
     "metadata": {},
     "execution_count": 37
    }
   ],
   "source": [
    "hidden1 = nonlinear_model.layers[1]\n",
    "hidden1.name"
   ]
  },
  {
   "cell_type": "code",
   "execution_count": 38,
   "metadata": {},
   "outputs": [
    {
     "output_type": "execute_result",
     "data": {
      "text/plain": [
       "True"
      ]
     },
     "metadata": {},
     "execution_count": 38
    }
   ],
   "source": [
    "nonlinear_model.get_layer(hidden1.name) is hidden1"
   ]
  },
  {
   "cell_type": "code",
   "execution_count": 39,
   "metadata": {},
   "outputs": [],
   "source": [
    "weights, biases = hidden1.get_weights()"
   ]
  },
  {
   "cell_type": "code",
   "execution_count": 40,
   "metadata": {},
   "outputs": [
    {
     "output_type": "execute_result",
     "data": {
      "text/plain": [
       "array([[-0.64844376, -0.5216976 ],\n",
       "       [-0.33111575, -0.6379927 ],\n",
       "       [ 0.23762882, -0.6461444 ],\n",
       "       [-0.7063906 , -0.29117098],\n",
       "       [-0.69072443, -0.16513067],\n",
       "       [ 0.27732825, -0.36772484],\n",
       "       [ 0.482199  , -0.69763535],\n",
       "       [ 0.5370552 , -0.19780695],\n",
       "       [-0.4398944 , -0.6286145 ],\n",
       "       [ 0.0842163 ,  0.3300665 ]], dtype=float32)"
      ]
     },
     "metadata": {},
     "execution_count": 40
    }
   ],
   "source": [
    "weights"
   ]
  },
  {
   "cell_type": "code",
   "execution_count": 41,
   "metadata": {},
   "outputs": [
    {
     "output_type": "execute_result",
     "data": {
      "text/plain": [
       "(10, 2)"
      ]
     },
     "metadata": {},
     "execution_count": 41
    }
   ],
   "source": [
    "weights.shape"
   ]
  },
  {
   "cell_type": "code",
   "execution_count": 42,
   "metadata": {},
   "outputs": [
    {
     "output_type": "execute_result",
     "data": {
      "text/plain": [
       "array([0., 0.], dtype=float32)"
      ]
     },
     "metadata": {},
     "execution_count": 42
    }
   ],
   "source": [
    "biases"
   ]
  },
  {
   "cell_type": "code",
   "execution_count": 43,
   "metadata": {},
   "outputs": [
    {
     "output_type": "execute_result",
     "data": {
      "text/plain": [
       "(2,)"
      ]
     },
     "metadata": {},
     "execution_count": 43
    }
   ],
   "source": [
    "biases.shape"
   ]
  },
  {
   "cell_type": "markdown",
   "metadata": {},
   "source": [
    "Now let's train the model and track the changes in the loss and accuracy on the training and validation data:"
   ]
  },
  {
   "cell_type": "code",
   "execution_count": 44,
   "metadata": {},
   "outputs": [],
   "source": [
    "nonlinear_model.compile(optimizer=tf.keras.optimizers.SGD(learning_rate=1),\n",
    "                        loss='sparse_categorical_crossentropy',\n",
    "                       metrics = ['accuracy'])"
   ]
  },
  {
   "cell_type": "code",
   "execution_count": 45,
   "metadata": {},
   "outputs": [
    {
     "output_type": "stream",
     "name": "stdout",
     "text": [
      "Epoch 1/50\n",
      "2/2 [==============================] - 0s 62ms/step - loss: 0.7609 - accuracy: 0.2500 - val_loss: 0.7885 - val_accuracy: 0.5000\n",
      "Epoch 2/50\n",
      "2/2 [==============================] - 0s 7ms/step - loss: 1.4270 - accuracy: 0.5000 - val_loss: 1.2168 - val_accuracy: 0.5000\n",
      "Epoch 3/50\n",
      "2/2 [==============================] - 0s 6ms/step - loss: 1.6811 - accuracy: 0.0000e+00 - val_loss: 0.7909 - val_accuracy: 0.5000\n",
      "Epoch 4/50\n",
      "2/2 [==============================] - 0s 7ms/step - loss: 1.2337 - accuracy: 0.0000e+00 - val_loss: 0.7302 - val_accuracy: 0.5000\n",
      "Epoch 5/50\n",
      "2/2 [==============================] - 0s 7ms/step - loss: 0.7164 - accuracy: 0.5000 - val_loss: 0.6943 - val_accuracy: 0.5000\n",
      "Epoch 6/50\n",
      "2/2 [==============================] - 0s 9ms/step - loss: 0.6933 - accuracy: 0.5000 - val_loss: 0.6901 - val_accuracy: 0.5000\n",
      "Epoch 7/50\n",
      "2/2 [==============================] - 0s 7ms/step - loss: 0.6901 - accuracy: 0.7500 - val_loss: 0.6870 - val_accuracy: 0.7500\n",
      "Epoch 8/50\n",
      "2/2 [==============================] - 0s 7ms/step - loss: 0.6907 - accuracy: 0.7500 - val_loss: 0.6850 - val_accuracy: 0.7500\n",
      "Epoch 9/50\n",
      "2/2 [==============================] - 0s 8ms/step - loss: 0.6851 - accuracy: 0.7500 - val_loss: 0.6804 - val_accuracy: 0.5000\n",
      "Epoch 10/50\n",
      "2/2 [==============================] - 0s 8ms/step - loss: 1.0005 - accuracy: 0.2500 - val_loss: 0.7028 - val_accuracy: 0.5000\n",
      "Epoch 11/50\n",
      "2/2 [==============================] - 0s 7ms/step - loss: 0.6926 - accuracy: 0.5000 - val_loss: 0.6746 - val_accuracy: 0.5000\n",
      "Epoch 12/50\n",
      "2/2 [==============================] - 0s 9ms/step - loss: 0.6738 - accuracy: 0.5000 - val_loss: 0.6518 - val_accuracy: 0.5000\n",
      "Epoch 13/50\n",
      "2/2 [==============================] - 0s 7ms/step - loss: 0.6521 - accuracy: 0.5000 - val_loss: 0.6425 - val_accuracy: 0.7500\n",
      "Epoch 14/50\n",
      "2/2 [==============================] - 0s 6ms/step - loss: 0.6667 - accuracy: 0.5000 - val_loss: 0.6573 - val_accuracy: 0.7500\n",
      "Epoch 15/50\n",
      "2/2 [==============================] - 0s 6ms/step - loss: 0.6651 - accuracy: 0.7500 - val_loss: 0.6312 - val_accuracy: 0.7500\n",
      "Epoch 16/50\n",
      "2/2 [==============================] - 0s 9ms/step - loss: 0.6327 - accuracy: 0.7500 - val_loss: 0.5787 - val_accuracy: 0.7500\n",
      "Epoch 17/50\n",
      "2/2 [==============================] - 0s 9ms/step - loss: 0.5815 - accuracy: 0.7500 - val_loss: 0.6105 - val_accuracy: 0.5000\n",
      "Epoch 18/50\n",
      "2/2 [==============================] - 0s 7ms/step - loss: 0.6777 - accuracy: 0.5000 - val_loss: 0.5578 - val_accuracy: 0.7500\n",
      "Epoch 19/50\n",
      "2/2 [==============================] - 0s 7ms/step - loss: 0.8176 - accuracy: 0.2500 - val_loss: 0.6121 - val_accuracy: 0.7500\n",
      "Epoch 20/50\n",
      "2/2 [==============================] - 0s 7ms/step - loss: 0.6022 - accuracy: 0.7500 - val_loss: 0.5114 - val_accuracy: 0.7500\n",
      "Epoch 21/50\n",
      "2/2 [==============================] - 0s 10ms/step - loss: 0.5654 - accuracy: 0.7500 - val_loss: 0.5656 - val_accuracy: 0.7500\n",
      "Epoch 22/50\n",
      "2/2 [==============================] - 0s 9ms/step - loss: 0.5722 - accuracy: 0.7500 - val_loss: 0.5123 - val_accuracy: 0.7500\n",
      "Epoch 23/50\n",
      "2/2 [==============================] - 0s 6ms/step - loss: 0.6813 - accuracy: 0.7500 - val_loss: 0.5104 - val_accuracy: 0.7500\n",
      "Epoch 24/50\n",
      "2/2 [==============================] - 0s 7ms/step - loss: 0.5337 - accuracy: 0.7500 - val_loss: 0.5100 - val_accuracy: 0.7500\n",
      "Epoch 25/50\n",
      "2/2 [==============================] - 0s 6ms/step - loss: 0.5305 - accuracy: 0.7500 - val_loss: 0.4998 - val_accuracy: 0.7500\n",
      "Epoch 26/50\n",
      "2/2 [==============================] - 0s 6ms/step - loss: 0.5166 - accuracy: 0.7500 - val_loss: 0.4894 - val_accuracy: 0.7500\n",
      "Epoch 27/50\n",
      "2/2 [==============================] - 0s 6ms/step - loss: 0.5173 - accuracy: 0.7500 - val_loss: 0.4881 - val_accuracy: 0.7500\n",
      "Epoch 28/50\n",
      "2/2 [==============================] - 0s 8ms/step - loss: 0.5162 - accuracy: 0.7500 - val_loss: 0.4879 - val_accuracy: 0.7500\n",
      "Epoch 29/50\n",
      "2/2 [==============================] - 0s 6ms/step - loss: 0.5096 - accuracy: 0.7500 - val_loss: 0.4829 - val_accuracy: 0.7500\n",
      "Epoch 30/50\n",
      "2/2 [==============================] - 0s 7ms/step - loss: 0.6265 - accuracy: 0.2500 - val_loss: 0.4903 - val_accuracy: 0.7500\n",
      "Epoch 31/50\n",
      "2/2 [==============================] - 0s 7ms/step - loss: 0.6002 - accuracy: 0.7500 - val_loss: 0.4820 - val_accuracy: 0.7500\n",
      "Epoch 32/50\n",
      "2/2 [==============================] - 0s 6ms/step - loss: 0.5118 - accuracy: 0.7500 - val_loss: 0.5472 - val_accuracy: 0.7500\n",
      "Epoch 33/50\n",
      "2/2 [==============================] - 0s 7ms/step - loss: 0.7448 - accuracy: 0.2500 - val_loss: 0.4921 - val_accuracy: 0.7500\n",
      "Epoch 34/50\n",
      "2/2 [==============================] - 0s 7ms/step - loss: 0.5240 - accuracy: 0.7500 - val_loss: 0.4866 - val_accuracy: 0.7500\n",
      "Epoch 35/50\n",
      "2/2 [==============================] - 0s 7ms/step - loss: 0.5173 - accuracy: 0.7500 - val_loss: 0.4822 - val_accuracy: 0.7500\n",
      "Epoch 36/50\n",
      "2/2 [==============================] - 0s 7ms/step - loss: 0.6137 - accuracy: 0.7500 - val_loss: 0.4834 - val_accuracy: 0.7500\n",
      "Epoch 37/50\n",
      "2/2 [==============================] - 0s 6ms/step - loss: 0.6273 - accuracy: 0.2500 - val_loss: 0.4854 - val_accuracy: 0.7500\n",
      "Epoch 38/50\n",
      "2/2 [==============================] - 0s 8ms/step - loss: 0.5200 - accuracy: 0.7500 - val_loss: 0.4827 - val_accuracy: 0.7500\n",
      "Epoch 39/50\n",
      "2/2 [==============================] - 0s 7ms/step - loss: 0.6175 - accuracy: 0.7500 - val_loss: 0.4921 - val_accuracy: 0.7500\n",
      "Epoch 40/50\n",
      "2/2 [==============================] - 0s 7ms/step - loss: 0.5245 - accuracy: 0.7500 - val_loss: 0.4795 - val_accuracy: 0.7500\n",
      "Epoch 41/50\n",
      "2/2 [==============================] - 0s 10ms/step - loss: 0.5126 - accuracy: 0.7500 - val_loss: 0.4801 - val_accuracy: 0.7500\n",
      "Epoch 42/50\n",
      "2/2 [==============================] - 0s 7ms/step - loss: 0.5071 - accuracy: 0.7500 - val_loss: 0.4790 - val_accuracy: 0.7500\n",
      "Epoch 43/50\n",
      "2/2 [==============================] - 0s 7ms/step - loss: 0.6016 - accuracy: 0.7500 - val_loss: 0.4800 - val_accuracy: 0.7500\n",
      "Epoch 44/50\n",
      "2/2 [==============================] - 0s 7ms/step - loss: 0.6108 - accuracy: 0.7500 - val_loss: 0.4817 - val_accuracy: 0.7500\n",
      "Epoch 45/50\n",
      "2/2 [==============================] - 0s 7ms/step - loss: 0.6159 - accuracy: 0.7500 - val_loss: 0.4826 - val_accuracy: 0.7500\n",
      "Epoch 46/50\n",
      "2/2 [==============================] - 0s 7ms/step - loss: 0.6182 - accuracy: 0.7500 - val_loss: 0.4829 - val_accuracy: 0.7500\n",
      "Epoch 47/50\n",
      "2/2 [==============================] - 0s 7ms/step - loss: 0.5130 - accuracy: 0.7500 - val_loss: 0.4834 - val_accuracy: 0.7500\n",
      "Epoch 48/50\n",
      "2/2 [==============================] - 0s 6ms/step - loss: 0.6260 - accuracy: 0.2500 - val_loss: 0.4825 - val_accuracy: 0.7500\n",
      "Epoch 49/50\n",
      "2/2 [==============================] - 0s 7ms/step - loss: 0.5165 - accuracy: 0.7500 - val_loss: 0.4782 - val_accuracy: 0.7500\n",
      "Epoch 50/50\n",
      "2/2 [==============================] - 0s 7ms/step - loss: 0.5113 - accuracy: 0.7500 - val_loss: 0.4801 - val_accuracy: 0.7500\n"
     ]
    }
   ],
   "source": [
    "history = nonlinear_model.fit(xor_input, xor_output, batch_size=2, epochs=50,\n",
    "                    validation_data=(xor_input, xor_output))\n"
   ]
  },
  {
   "cell_type": "code",
   "execution_count": 46,
   "metadata": {},
   "outputs": [
    {
     "output_type": "execute_result",
     "data": {
      "text/plain": [
       "{'verbose': 1, 'epochs': 50, 'steps': 2}"
      ]
     },
     "metadata": {},
     "execution_count": 46
    }
   ],
   "source": [
    "history.params"
   ]
  },
  {
   "cell_type": "code",
   "execution_count": 47,
   "metadata": {},
   "outputs": [
    {
     "output_type": "stream",
     "name": "stdout",
     "text": [
      "[0, 1, 2, 3, 4, 5, 6, 7, 8, 9, 10, 11, 12, 13, 14, 15, 16, 17, 18, 19, 20, 21, 22, 23, 24, 25, 26, 27, 28, 29, 30, 31, 32, 33, 34, 35, 36, 37, 38, 39, 40, 41, 42, 43, 44, 45, 46, 47, 48, 49]\n"
     ]
    }
   ],
   "source": [
    "print(history.epoch)"
   ]
  },
  {
   "cell_type": "code",
   "execution_count": 48,
   "metadata": {},
   "outputs": [
    {
     "output_type": "execute_result",
     "data": {
      "text/plain": [
       "dict_keys(['loss', 'accuracy', 'val_loss', 'val_accuracy'])"
      ]
     },
     "metadata": {},
     "execution_count": 48
    }
   ],
   "source": [
    "history.history.keys()"
   ]
  },
  {
   "cell_type": "markdown",
   "metadata": {},
   "source": [
    "Finally, let's plot the changes across all epochs:"
   ]
  },
  {
   "cell_type": "code",
   "execution_count": 49,
   "metadata": {},
   "outputs": [
    {
     "output_type": "display_data",
     "data": {
      "text/plain": "<Figure size 576x360 with 1 Axes>",
      "image/svg+xml": "<?xml version=\"1.0\" encoding=\"utf-8\" standalone=\"no\"?>\r\n<!DOCTYPE svg PUBLIC \"-//W3C//DTD SVG 1.1//EN\"\r\n  \"http://www.w3.org/Graphics/SVG/1.1/DTD/svg11.dtd\">\r\n<!-- Created with matplotlib (https://matplotlib.org/) -->\r\n<svg height=\"306.677344pt\" version=\"1.1\" viewBox=\"0 0 483.703125 306.677344\" width=\"483.703125pt\" xmlns=\"http://www.w3.org/2000/svg\" xmlns:xlink=\"http://www.w3.org/1999/xlink\">\r\n <metadata>\r\n  <rdf:RDF xmlns:cc=\"http://creativecommons.org/ns#\" xmlns:dc=\"http://purl.org/dc/elements/1.1/\" xmlns:rdf=\"http://www.w3.org/1999/02/22-rdf-syntax-ns#\">\r\n   <cc:Work>\r\n    <dc:type rdf:resource=\"http://purl.org/dc/dcmitype/StillImage\"/>\r\n    <dc:date>2020-11-24T12:44:03.181830</dc:date>\r\n    <dc:format>image/svg+xml</dc:format>\r\n    <dc:creator>\r\n     <cc:Agent>\r\n      <dc:title>Matplotlib v3.3.2, https://matplotlib.org/</dc:title>\r\n     </cc:Agent>\r\n    </dc:creator>\r\n   </cc:Work>\r\n  </rdf:RDF>\r\n </metadata>\r\n <defs>\r\n  <style type=\"text/css\">*{stroke-linecap:butt;stroke-linejoin:round;}</style>\r\n </defs>\r\n <g id=\"figure_1\">\r\n  <g id=\"patch_1\">\r\n   <path d=\"M 0 306.677344 \r\nL 483.703125 306.677344 \r\nL 483.703125 0 \r\nL 0 0 \r\nz\r\n\" style=\"fill:none;\"/>\r\n  </g>\r\n  <g id=\"axes_1\">\r\n   <g id=\"patch_2\">\r\n    <path d=\"M 30.103125 282.799219 \r\nL 476.503125 282.799219 \r\nL 476.503125 10.999219 \r\nL 30.103125 10.999219 \r\nz\r\n\" style=\"fill:#ffffff;\"/>\r\n   </g>\r\n   <g id=\"matplotlib.axis_1\">\r\n    <g id=\"xtick_1\">\r\n     <g id=\"line2d_1\">\r\n      <path clip-path=\"url(#p1f26e91176)\" d=\"M 50.394034 282.799219 \r\nL 50.394034 10.999219 \r\n\" style=\"fill:none;stroke:#b0b0b0;stroke-linecap:square;stroke-width:0.8;\"/>\r\n     </g>\r\n     <g id=\"line2d_2\">\r\n      <defs>\r\n       <path d=\"M 0 0 \r\nL 0 3.5 \r\n\" id=\"mdba028918b\" style=\"stroke:#000000;stroke-width:0.8;\"/>\r\n      </defs>\r\n      <g>\r\n       <use style=\"stroke:#000000;stroke-width:0.8;\" x=\"50.394034\" xlink:href=\"#mdba028918b\" y=\"282.799219\"/>\r\n      </g>\r\n     </g>\r\n     <g id=\"text_1\">\r\n      <!-- 0 -->\r\n      <g transform=\"translate(47.212784 297.397656)scale(0.1 -0.1)\">\r\n       <defs>\r\n        <path d=\"M 31.78125 66.40625 \r\nQ 24.171875 66.40625 20.328125 58.90625 \r\nQ 16.5 51.421875 16.5 36.375 \r\nQ 16.5 21.390625 20.328125 13.890625 \r\nQ 24.171875 6.390625 31.78125 6.390625 \r\nQ 39.453125 6.390625 43.28125 13.890625 \r\nQ 47.125 21.390625 47.125 36.375 \r\nQ 47.125 51.421875 43.28125 58.90625 \r\nQ 39.453125 66.40625 31.78125 66.40625 \r\nz\r\nM 31.78125 74.21875 \r\nQ 44.046875 74.21875 50.515625 64.515625 \r\nQ 56.984375 54.828125 56.984375 36.375 \r\nQ 56.984375 17.96875 50.515625 8.265625 \r\nQ 44.046875 -1.421875 31.78125 -1.421875 \r\nQ 19.53125 -1.421875 13.0625 8.265625 \r\nQ 6.59375 17.96875 6.59375 36.375 \r\nQ 6.59375 54.828125 13.0625 64.515625 \r\nQ 19.53125 74.21875 31.78125 74.21875 \r\nz\r\n\" id=\"DejaVuSans-48\"/>\r\n       </defs>\r\n       <use xlink:href=\"#DejaVuSans-48\"/>\r\n      </g>\r\n     </g>\r\n    </g>\r\n    <g id=\"xtick_2\">\r\n     <g id=\"line2d_3\">\r\n      <path clip-path=\"url(#p1f26e91176)\" d=\"M 133.214071 282.799219 \r\nL 133.214071 10.999219 \r\n\" style=\"fill:none;stroke:#b0b0b0;stroke-linecap:square;stroke-width:0.8;\"/>\r\n     </g>\r\n     <g id=\"line2d_4\">\r\n      <g>\r\n       <use style=\"stroke:#000000;stroke-width:0.8;\" x=\"133.214071\" xlink:href=\"#mdba028918b\" y=\"282.799219\"/>\r\n      </g>\r\n     </g>\r\n     <g id=\"text_2\">\r\n      <!-- 10 -->\r\n      <g transform=\"translate(126.851571 297.397656)scale(0.1 -0.1)\">\r\n       <defs>\r\n        <path d=\"M 12.40625 8.296875 \r\nL 28.515625 8.296875 \r\nL 28.515625 63.921875 \r\nL 10.984375 60.40625 \r\nL 10.984375 69.390625 \r\nL 28.421875 72.90625 \r\nL 38.28125 72.90625 \r\nL 38.28125 8.296875 \r\nL 54.390625 8.296875 \r\nL 54.390625 0 \r\nL 12.40625 0 \r\nz\r\n\" id=\"DejaVuSans-49\"/>\r\n       </defs>\r\n       <use xlink:href=\"#DejaVuSans-49\"/>\r\n       <use x=\"63.623047\" xlink:href=\"#DejaVuSans-48\"/>\r\n      </g>\r\n     </g>\r\n    </g>\r\n    <g id=\"xtick_3\">\r\n     <g id=\"line2d_5\">\r\n      <path clip-path=\"url(#p1f26e91176)\" d=\"M 216.034108 282.799219 \r\nL 216.034108 10.999219 \r\n\" style=\"fill:none;stroke:#b0b0b0;stroke-linecap:square;stroke-width:0.8;\"/>\r\n     </g>\r\n     <g id=\"line2d_6\">\r\n      <g>\r\n       <use style=\"stroke:#000000;stroke-width:0.8;\" x=\"216.034108\" xlink:href=\"#mdba028918b\" y=\"282.799219\"/>\r\n      </g>\r\n     </g>\r\n     <g id=\"text_3\">\r\n      <!-- 20 -->\r\n      <g transform=\"translate(209.671608 297.397656)scale(0.1 -0.1)\">\r\n       <defs>\r\n        <path d=\"M 19.1875 8.296875 \r\nL 53.609375 8.296875 \r\nL 53.609375 0 \r\nL 7.328125 0 \r\nL 7.328125 8.296875 \r\nQ 12.9375 14.109375 22.625 23.890625 \r\nQ 32.328125 33.6875 34.8125 36.53125 \r\nQ 39.546875 41.84375 41.421875 45.53125 \r\nQ 43.3125 49.21875 43.3125 52.78125 \r\nQ 43.3125 58.59375 39.234375 62.25 \r\nQ 35.15625 65.921875 28.609375 65.921875 \r\nQ 23.96875 65.921875 18.8125 64.3125 \r\nQ 13.671875 62.703125 7.8125 59.421875 \r\nL 7.8125 69.390625 \r\nQ 13.765625 71.78125 18.9375 73 \r\nQ 24.125 74.21875 28.421875 74.21875 \r\nQ 39.75 74.21875 46.484375 68.546875 \r\nQ 53.21875 62.890625 53.21875 53.421875 \r\nQ 53.21875 48.921875 51.53125 44.890625 \r\nQ 49.859375 40.875 45.40625 35.40625 \r\nQ 44.1875 33.984375 37.640625 27.21875 \r\nQ 31.109375 20.453125 19.1875 8.296875 \r\nz\r\n\" id=\"DejaVuSans-50\"/>\r\n       </defs>\r\n       <use xlink:href=\"#DejaVuSans-50\"/>\r\n       <use x=\"63.623047\" xlink:href=\"#DejaVuSans-48\"/>\r\n      </g>\r\n     </g>\r\n    </g>\r\n    <g id=\"xtick_4\">\r\n     <g id=\"line2d_7\">\r\n      <path clip-path=\"url(#p1f26e91176)\" d=\"M 298.854145 282.799219 \r\nL 298.854145 10.999219 \r\n\" style=\"fill:none;stroke:#b0b0b0;stroke-linecap:square;stroke-width:0.8;\"/>\r\n     </g>\r\n     <g id=\"line2d_8\">\r\n      <g>\r\n       <use style=\"stroke:#000000;stroke-width:0.8;\" x=\"298.854145\" xlink:href=\"#mdba028918b\" y=\"282.799219\"/>\r\n      </g>\r\n     </g>\r\n     <g id=\"text_4\">\r\n      <!-- 30 -->\r\n      <g transform=\"translate(292.491645 297.397656)scale(0.1 -0.1)\">\r\n       <defs>\r\n        <path d=\"M 40.578125 39.3125 \r\nQ 47.65625 37.796875 51.625 33 \r\nQ 55.609375 28.21875 55.609375 21.1875 \r\nQ 55.609375 10.40625 48.1875 4.484375 \r\nQ 40.765625 -1.421875 27.09375 -1.421875 \r\nQ 22.515625 -1.421875 17.65625 -0.515625 \r\nQ 12.796875 0.390625 7.625 2.203125 \r\nL 7.625 11.71875 \r\nQ 11.71875 9.328125 16.59375 8.109375 \r\nQ 21.484375 6.890625 26.8125 6.890625 \r\nQ 36.078125 6.890625 40.9375 10.546875 \r\nQ 45.796875 14.203125 45.796875 21.1875 \r\nQ 45.796875 27.640625 41.28125 31.265625 \r\nQ 36.765625 34.90625 28.71875 34.90625 \r\nL 20.21875 34.90625 \r\nL 20.21875 43.015625 \r\nL 29.109375 43.015625 \r\nQ 36.375 43.015625 40.234375 45.921875 \r\nQ 44.09375 48.828125 44.09375 54.296875 \r\nQ 44.09375 59.90625 40.109375 62.90625 \r\nQ 36.140625 65.921875 28.71875 65.921875 \r\nQ 24.65625 65.921875 20.015625 65.03125 \r\nQ 15.375 64.15625 9.8125 62.3125 \r\nL 9.8125 71.09375 \r\nQ 15.4375 72.65625 20.34375 73.4375 \r\nQ 25.25 74.21875 29.59375 74.21875 \r\nQ 40.828125 74.21875 47.359375 69.109375 \r\nQ 53.90625 64.015625 53.90625 55.328125 \r\nQ 53.90625 49.265625 50.4375 45.09375 \r\nQ 46.96875 40.921875 40.578125 39.3125 \r\nz\r\n\" id=\"DejaVuSans-51\"/>\r\n       </defs>\r\n       <use xlink:href=\"#DejaVuSans-51\"/>\r\n       <use x=\"63.623047\" xlink:href=\"#DejaVuSans-48\"/>\r\n      </g>\r\n     </g>\r\n    </g>\r\n    <g id=\"xtick_5\">\r\n     <g id=\"line2d_9\">\r\n      <path clip-path=\"url(#p1f26e91176)\" d=\"M 381.674183 282.799219 \r\nL 381.674183 10.999219 \r\n\" style=\"fill:none;stroke:#b0b0b0;stroke-linecap:square;stroke-width:0.8;\"/>\r\n     </g>\r\n     <g id=\"line2d_10\">\r\n      <g>\r\n       <use style=\"stroke:#000000;stroke-width:0.8;\" x=\"381.674183\" xlink:href=\"#mdba028918b\" y=\"282.799219\"/>\r\n      </g>\r\n     </g>\r\n     <g id=\"text_5\">\r\n      <!-- 40 -->\r\n      <g transform=\"translate(375.311683 297.397656)scale(0.1 -0.1)\">\r\n       <defs>\r\n        <path d=\"M 37.796875 64.3125 \r\nL 12.890625 25.390625 \r\nL 37.796875 25.390625 \r\nz\r\nM 35.203125 72.90625 \r\nL 47.609375 72.90625 \r\nL 47.609375 25.390625 \r\nL 58.015625 25.390625 \r\nL 58.015625 17.1875 \r\nL 47.609375 17.1875 \r\nL 47.609375 0 \r\nL 37.796875 0 \r\nL 37.796875 17.1875 \r\nL 4.890625 17.1875 \r\nL 4.890625 26.703125 \r\nz\r\n\" id=\"DejaVuSans-52\"/>\r\n       </defs>\r\n       <use xlink:href=\"#DejaVuSans-52\"/>\r\n       <use x=\"63.623047\" xlink:href=\"#DejaVuSans-48\"/>\r\n      </g>\r\n     </g>\r\n    </g>\r\n    <g id=\"xtick_6\">\r\n     <g id=\"line2d_11\">\r\n      <path clip-path=\"url(#p1f26e91176)\" d=\"M 464.49422 282.799219 \r\nL 464.49422 10.999219 \r\n\" style=\"fill:none;stroke:#b0b0b0;stroke-linecap:square;stroke-width:0.8;\"/>\r\n     </g>\r\n     <g id=\"line2d_12\">\r\n      <g>\r\n       <use style=\"stroke:#000000;stroke-width:0.8;\" x=\"464.49422\" xlink:href=\"#mdba028918b\" y=\"282.799219\"/>\r\n      </g>\r\n     </g>\r\n     <g id=\"text_6\">\r\n      <!-- 50 -->\r\n      <g transform=\"translate(458.13172 297.397656)scale(0.1 -0.1)\">\r\n       <defs>\r\n        <path d=\"M 10.796875 72.90625 \r\nL 49.515625 72.90625 \r\nL 49.515625 64.59375 \r\nL 19.828125 64.59375 \r\nL 19.828125 46.734375 \r\nQ 21.96875 47.46875 24.109375 47.828125 \r\nQ 26.265625 48.1875 28.421875 48.1875 \r\nQ 40.625 48.1875 47.75 41.5 \r\nQ 54.890625 34.8125 54.890625 23.390625 \r\nQ 54.890625 11.625 47.5625 5.09375 \r\nQ 40.234375 -1.421875 26.90625 -1.421875 \r\nQ 22.3125 -1.421875 17.546875 -0.640625 \r\nQ 12.796875 0.140625 7.71875 1.703125 \r\nL 7.71875 11.625 \r\nQ 12.109375 9.234375 16.796875 8.0625 \r\nQ 21.484375 6.890625 26.703125 6.890625 \r\nQ 35.15625 6.890625 40.078125 11.328125 \r\nQ 45.015625 15.765625 45.015625 23.390625 \r\nQ 45.015625 31 40.078125 35.4375 \r\nQ 35.15625 39.890625 26.703125 39.890625 \r\nQ 22.75 39.890625 18.8125 39.015625 \r\nQ 14.890625 38.140625 10.796875 36.28125 \r\nz\r\n\" id=\"DejaVuSans-53\"/>\r\n       </defs>\r\n       <use xlink:href=\"#DejaVuSans-53\"/>\r\n       <use x=\"63.623047\" xlink:href=\"#DejaVuSans-48\"/>\r\n      </g>\r\n     </g>\r\n    </g>\r\n   </g>\r\n   <g id=\"matplotlib.axis_2\">\r\n    <g id=\"ytick_1\">\r\n     <g id=\"line2d_13\">\r\n      <path clip-path=\"url(#p1f26e91176)\" d=\"M 30.103125 282.799219 \r\nL 476.503125 282.799219 \r\n\" style=\"fill:none;stroke:#b0b0b0;stroke-linecap:square;stroke-width:0.8;\"/>\r\n     </g>\r\n     <g id=\"line2d_14\">\r\n      <defs>\r\n       <path d=\"M 0 0 \r\nL -3.5 0 \r\n\" id=\"mf8571d802e\" style=\"stroke:#000000;stroke-width:0.8;\"/>\r\n      </defs>\r\n      <g>\r\n       <use style=\"stroke:#000000;stroke-width:0.8;\" x=\"30.103125\" xlink:href=\"#mf8571d802e\" y=\"282.799219\"/>\r\n      </g>\r\n     </g>\r\n     <g id=\"text_7\">\r\n      <!-- 0.0 -->\r\n      <g transform=\"translate(7.2 286.598437)scale(0.1 -0.1)\">\r\n       <defs>\r\n        <path d=\"M 10.6875 12.40625 \r\nL 21 12.40625 \r\nL 21 0 \r\nL 10.6875 0 \r\nz\r\n\" id=\"DejaVuSans-46\"/>\r\n       </defs>\r\n       <use xlink:href=\"#DejaVuSans-48\"/>\r\n       <use x=\"63.623047\" xlink:href=\"#DejaVuSans-46\"/>\r\n       <use x=\"95.410156\" xlink:href=\"#DejaVuSans-48\"/>\r\n      </g>\r\n     </g>\r\n    </g>\r\n    <g id=\"ytick_2\">\r\n     <g id=\"line2d_15\">\r\n      <path clip-path=\"url(#p1f26e91176)\" d=\"M 30.103125 228.439219 \r\nL 476.503125 228.439219 \r\n\" style=\"fill:none;stroke:#b0b0b0;stroke-linecap:square;stroke-width:0.8;\"/>\r\n     </g>\r\n     <g id=\"line2d_16\">\r\n      <g>\r\n       <use style=\"stroke:#000000;stroke-width:0.8;\" x=\"30.103125\" xlink:href=\"#mf8571d802e\" y=\"228.439219\"/>\r\n      </g>\r\n     </g>\r\n     <g id=\"text_8\">\r\n      <!-- 0.2 -->\r\n      <g transform=\"translate(7.2 232.238437)scale(0.1 -0.1)\">\r\n       <use xlink:href=\"#DejaVuSans-48\"/>\r\n       <use x=\"63.623047\" xlink:href=\"#DejaVuSans-46\"/>\r\n       <use x=\"95.410156\" xlink:href=\"#DejaVuSans-50\"/>\r\n      </g>\r\n     </g>\r\n    </g>\r\n    <g id=\"ytick_3\">\r\n     <g id=\"line2d_17\">\r\n      <path clip-path=\"url(#p1f26e91176)\" d=\"M 30.103125 174.079219 \r\nL 476.503125 174.079219 \r\n\" style=\"fill:none;stroke:#b0b0b0;stroke-linecap:square;stroke-width:0.8;\"/>\r\n     </g>\r\n     <g id=\"line2d_18\">\r\n      <g>\r\n       <use style=\"stroke:#000000;stroke-width:0.8;\" x=\"30.103125\" xlink:href=\"#mf8571d802e\" y=\"174.079219\"/>\r\n      </g>\r\n     </g>\r\n     <g id=\"text_9\">\r\n      <!-- 0.4 -->\r\n      <g transform=\"translate(7.2 177.878437)scale(0.1 -0.1)\">\r\n       <use xlink:href=\"#DejaVuSans-48\"/>\r\n       <use x=\"63.623047\" xlink:href=\"#DejaVuSans-46\"/>\r\n       <use x=\"95.410156\" xlink:href=\"#DejaVuSans-52\"/>\r\n      </g>\r\n     </g>\r\n    </g>\r\n    <g id=\"ytick_4\">\r\n     <g id=\"line2d_19\">\r\n      <path clip-path=\"url(#p1f26e91176)\" d=\"M 30.103125 119.719219 \r\nL 476.503125 119.719219 \r\n\" style=\"fill:none;stroke:#b0b0b0;stroke-linecap:square;stroke-width:0.8;\"/>\r\n     </g>\r\n     <g id=\"line2d_20\">\r\n      <g>\r\n       <use style=\"stroke:#000000;stroke-width:0.8;\" x=\"30.103125\" xlink:href=\"#mf8571d802e\" y=\"119.719219\"/>\r\n      </g>\r\n     </g>\r\n     <g id=\"text_10\">\r\n      <!-- 0.6 -->\r\n      <g transform=\"translate(7.2 123.518437)scale(0.1 -0.1)\">\r\n       <defs>\r\n        <path d=\"M 33.015625 40.375 \r\nQ 26.375 40.375 22.484375 35.828125 \r\nQ 18.609375 31.296875 18.609375 23.390625 \r\nQ 18.609375 15.53125 22.484375 10.953125 \r\nQ 26.375 6.390625 33.015625 6.390625 \r\nQ 39.65625 6.390625 43.53125 10.953125 \r\nQ 47.40625 15.53125 47.40625 23.390625 \r\nQ 47.40625 31.296875 43.53125 35.828125 \r\nQ 39.65625 40.375 33.015625 40.375 \r\nz\r\nM 52.59375 71.296875 \r\nL 52.59375 62.3125 \r\nQ 48.875 64.0625 45.09375 64.984375 \r\nQ 41.3125 65.921875 37.59375 65.921875 \r\nQ 27.828125 65.921875 22.671875 59.328125 \r\nQ 17.53125 52.734375 16.796875 39.40625 \r\nQ 19.671875 43.65625 24.015625 45.921875 \r\nQ 28.375 48.1875 33.59375 48.1875 \r\nQ 44.578125 48.1875 50.953125 41.515625 \r\nQ 57.328125 34.859375 57.328125 23.390625 \r\nQ 57.328125 12.15625 50.6875 5.359375 \r\nQ 44.046875 -1.421875 33.015625 -1.421875 \r\nQ 20.359375 -1.421875 13.671875 8.265625 \r\nQ 6.984375 17.96875 6.984375 36.375 \r\nQ 6.984375 53.65625 15.1875 63.9375 \r\nQ 23.390625 74.21875 37.203125 74.21875 \r\nQ 40.921875 74.21875 44.703125 73.484375 \r\nQ 48.484375 72.75 52.59375 71.296875 \r\nz\r\n\" id=\"DejaVuSans-54\"/>\r\n       </defs>\r\n       <use xlink:href=\"#DejaVuSans-48\"/>\r\n       <use x=\"63.623047\" xlink:href=\"#DejaVuSans-46\"/>\r\n       <use x=\"95.410156\" xlink:href=\"#DejaVuSans-54\"/>\r\n      </g>\r\n     </g>\r\n    </g>\r\n    <g id=\"ytick_5\">\r\n     <g id=\"line2d_21\">\r\n      <path clip-path=\"url(#p1f26e91176)\" d=\"M 30.103125 65.359219 \r\nL 476.503125 65.359219 \r\n\" style=\"fill:none;stroke:#b0b0b0;stroke-linecap:square;stroke-width:0.8;\"/>\r\n     </g>\r\n     <g id=\"line2d_22\">\r\n      <g>\r\n       <use style=\"stroke:#000000;stroke-width:0.8;\" x=\"30.103125\" xlink:href=\"#mf8571d802e\" y=\"65.359219\"/>\r\n      </g>\r\n     </g>\r\n     <g id=\"text_11\">\r\n      <!-- 0.8 -->\r\n      <g transform=\"translate(7.2 69.158437)scale(0.1 -0.1)\">\r\n       <defs>\r\n        <path d=\"M 31.78125 34.625 \r\nQ 24.75 34.625 20.71875 30.859375 \r\nQ 16.703125 27.09375 16.703125 20.515625 \r\nQ 16.703125 13.921875 20.71875 10.15625 \r\nQ 24.75 6.390625 31.78125 6.390625 \r\nQ 38.8125 6.390625 42.859375 10.171875 \r\nQ 46.921875 13.96875 46.921875 20.515625 \r\nQ 46.921875 27.09375 42.890625 30.859375 \r\nQ 38.875 34.625 31.78125 34.625 \r\nz\r\nM 21.921875 38.8125 \r\nQ 15.578125 40.375 12.03125 44.71875 \r\nQ 8.5 49.078125 8.5 55.328125 \r\nQ 8.5 64.0625 14.71875 69.140625 \r\nQ 20.953125 74.21875 31.78125 74.21875 \r\nQ 42.671875 74.21875 48.875 69.140625 \r\nQ 55.078125 64.0625 55.078125 55.328125 \r\nQ 55.078125 49.078125 51.53125 44.71875 \r\nQ 48 40.375 41.703125 38.8125 \r\nQ 48.828125 37.15625 52.796875 32.3125 \r\nQ 56.78125 27.484375 56.78125 20.515625 \r\nQ 56.78125 9.90625 50.3125 4.234375 \r\nQ 43.84375 -1.421875 31.78125 -1.421875 \r\nQ 19.734375 -1.421875 13.25 4.234375 \r\nQ 6.78125 9.90625 6.78125 20.515625 \r\nQ 6.78125 27.484375 10.78125 32.3125 \r\nQ 14.796875 37.15625 21.921875 38.8125 \r\nz\r\nM 18.3125 54.390625 \r\nQ 18.3125 48.734375 21.84375 45.5625 \r\nQ 25.390625 42.390625 31.78125 42.390625 \r\nQ 38.140625 42.390625 41.71875 45.5625 \r\nQ 45.3125 48.734375 45.3125 54.390625 \r\nQ 45.3125 60.0625 41.71875 63.234375 \r\nQ 38.140625 66.40625 31.78125 66.40625 \r\nQ 25.390625 66.40625 21.84375 63.234375 \r\nQ 18.3125 60.0625 18.3125 54.390625 \r\nz\r\n\" id=\"DejaVuSans-56\"/>\r\n       </defs>\r\n       <use xlink:href=\"#DejaVuSans-48\"/>\r\n       <use x=\"63.623047\" xlink:href=\"#DejaVuSans-46\"/>\r\n       <use x=\"95.410156\" xlink:href=\"#DejaVuSans-56\"/>\r\n      </g>\r\n     </g>\r\n    </g>\r\n    <g id=\"ytick_6\">\r\n     <g id=\"line2d_23\">\r\n      <path clip-path=\"url(#p1f26e91176)\" d=\"M 30.103125 10.999219 \r\nL 476.503125 10.999219 \r\n\" style=\"fill:none;stroke:#b0b0b0;stroke-linecap:square;stroke-width:0.8;\"/>\r\n     </g>\r\n     <g id=\"line2d_24\">\r\n      <g>\r\n       <use style=\"stroke:#000000;stroke-width:0.8;\" x=\"30.103125\" xlink:href=\"#mf8571d802e\" y=\"10.999219\"/>\r\n      </g>\r\n     </g>\r\n     <g id=\"text_12\">\r\n      <!-- 1.0 -->\r\n      <g transform=\"translate(7.2 14.798437)scale(0.1 -0.1)\">\r\n       <use xlink:href=\"#DejaVuSans-49\"/>\r\n       <use x=\"63.623047\" xlink:href=\"#DejaVuSans-46\"/>\r\n       <use x=\"95.410156\" xlink:href=\"#DejaVuSans-48\"/>\r\n      </g>\r\n     </g>\r\n    </g>\r\n   </g>\r\n   <g id=\"line2d_25\">\r\n    <path clip-path=\"url(#p1f26e91176)\" d=\"M 50.394034 75.992879 \r\nL 53.915758 -1 \r\nM 78.275035 -1 \r\nL 83.522049 88.084105 \r\nL 91.804053 94.349746 \r\nL 100.086056 95.238832 \r\nL 108.36806 95.072695 \r\nL 116.650064 96.598349 \r\nL 124.932067 10.860866 \r\nL 133.214071 94.561617 \r\nL 141.496075 99.661936 \r\nL 149.778079 105.570728 \r\nL 158.060082 101.602081 \r\nL 166.342086 102.024591 \r\nL 174.62409 110.827399 \r\nL 182.906093 124.757192 \r\nL 191.188097 98.607054 \r\nL 199.470101 60.580849 \r\nL 207.752105 119.118869 \r\nL 216.034108 129.11577 \r\nL 224.316112 127.27521 \r\nL 232.598116 97.611515 \r\nL 240.880119 137.744859 \r\nL 249.162123 138.604735 \r\nL 257.444127 142.384192 \r\nL 265.726131 142.205533 \r\nL 274.008134 142.494891 \r\nL 282.290138 144.289263 \r\nL 290.572142 112.514183 \r\nL 298.854145 119.664811 \r\nL 307.136149 143.680625 \r\nL 315.418153 80.349691 \r\nL 323.700157 140.372279 \r\nL 331.98216 142.184407 \r\nL 340.264164 116.00088 \r\nL 348.546168 112.298359 \r\nL 356.828171 141.47147 \r\nL 365.110175 114.949254 \r\nL 373.392179 140.244895 \r\nL 381.674183 143.474732 \r\nL 389.956186 144.964518 \r\nL 398.23819 119.28925 \r\nL 406.520194 116.785748 \r\nL 414.802197 115.392679 \r\nL 423.084201 114.773462 \r\nL 431.366205 143.363353 \r\nL 439.648208 112.665075 \r\nL 447.930212 142.414876 \r\nL 456.212216 143.828017 \r\n\" style=\"fill:none;stroke:#1f77b4;stroke-linecap:square;stroke-width:1.5;\"/>\r\n   </g>\r\n   <g id=\"line2d_26\">\r\n    <path clip-path=\"url(#p1f26e91176)\" d=\"M 50.394034 214.849219 \r\nL 58.676038 146.899219 \r\nL 66.958042 282.799219 \r\nL 75.240045 282.799219 \r\nL 83.522049 146.899219 \r\nL 91.804053 146.899219 \r\nL 100.086056 78.949219 \r\nL 108.36806 78.949219 \r\nL 116.650064 78.949219 \r\nL 124.932067 214.849219 \r\nL 133.214071 146.899219 \r\nL 141.496075 146.899219 \r\nL 149.778079 146.899219 \r\nL 158.060082 146.899219 \r\nL 166.342086 78.949219 \r\nL 174.62409 78.949219 \r\nL 182.906093 78.949219 \r\nL 191.188097 146.899219 \r\nL 199.470101 214.849219 \r\nL 207.752105 78.949219 \r\nL 216.034108 78.949219 \r\nL 224.316112 78.949219 \r\nL 232.598116 78.949219 \r\nL 240.880119 78.949219 \r\nL 249.162123 78.949219 \r\nL 257.444127 78.949219 \r\nL 265.726131 78.949219 \r\nL 274.008134 78.949219 \r\nL 282.290138 78.949219 \r\nL 290.572142 214.849219 \r\nL 298.854145 78.949219 \r\nL 307.136149 78.949219 \r\nL 315.418153 214.849219 \r\nL 323.700157 78.949219 \r\nL 331.98216 78.949219 \r\nL 340.264164 78.949219 \r\nL 348.546168 214.849219 \r\nL 356.828171 78.949219 \r\nL 365.110175 78.949219 \r\nL 373.392179 78.949219 \r\nL 381.674183 78.949219 \r\nL 389.956186 78.949219 \r\nL 398.23819 78.949219 \r\nL 406.520194 78.949219 \r\nL 414.802197 78.949219 \r\nL 423.084201 78.949219 \r\nL 431.366205 78.949219 \r\nL 439.648208 214.849219 \r\nL 447.930212 78.949219 \r\nL 456.212216 78.949219 \r\n\" style=\"fill:none;stroke:#ff7f0e;stroke-linecap:square;stroke-width:1.5;\"/>\r\n   </g>\r\n   <g id=\"line2d_27\">\r\n    <path clip-path=\"url(#p1f26e91176)\" d=\"M 50.394034 68.490635 \r\nL 55.337535 -1 \r\nM 62.033536 -1 \r\nL 66.958042 67.831953 \r\nL 75.240045 84.333858 \r\nL 83.522049 94.094118 \r\nL 91.804053 95.229111 \r\nL 100.086056 96.081422 \r\nL 108.36806 96.60444 \r\nL 116.650064 97.859415 \r\nL 124.932067 91.791259 \r\nL 133.214071 99.440928 \r\nL 141.496075 105.63877 \r\nL 149.778079 108.177638 \r\nL 158.060082 104.143978 \r\nL 166.342086 111.251205 \r\nL 174.62409 125.509448 \r\nL 182.906093 116.865471 \r\nL 191.188097 131.201233 \r\nL 199.470101 116.420263 \r\nL 207.752105 143.809678 \r\nL 216.034108 129.063637 \r\nL 224.316112 143.547116 \r\nL 232.598116 144.077343 \r\nL 240.880119 144.184267 \r\nL 249.162123 146.961494 \r\nL 257.444127 149.790732 \r\nL 265.726131 150.144544 \r\nL 274.008134 150.176507 \r\nL 282.290138 151.548297 \r\nL 290.572142 149.522718 \r\nL 298.854145 151.795736 \r\nL 307.136149 134.063497 \r\nL 315.418153 149.04008 \r\nL 323.700157 150.554053 \r\nL 331.98216 151.727037 \r\nL 340.264164 151.412455 \r\nL 348.546168 150.863224 \r\nL 356.828171 151.595124 \r\nL 365.110175 149.050707 \r\nL 373.392179 152.483335 \r\nL 381.674183 152.314785 \r\nL 389.956186 152.605876 \r\nL 398.23819 152.343857 \r\nL 406.520194 151.88466 \r\nL 414.802197 151.636193 \r\nL 423.084201 151.535061 \r\nL 431.366205 151.408008 \r\nL 439.648208 151.664357 \r\nL 447.930212 152.811121 \r\nL 456.212216 152.305801 \r\n\" style=\"fill:none;stroke:#2ca02c;stroke-linecap:square;stroke-width:1.5;\"/>\r\n   </g>\r\n   <g id=\"line2d_28\">\r\n    <path clip-path=\"url(#p1f26e91176)\" d=\"M 50.394034 146.899219 \r\nL 58.676038 146.899219 \r\nL 66.958042 146.899219 \r\nL 75.240045 146.899219 \r\nL 83.522049 146.899219 \r\nL 91.804053 146.899219 \r\nL 100.086056 78.949219 \r\nL 108.36806 78.949219 \r\nL 116.650064 146.899219 \r\nL 124.932067 146.899219 \r\nL 133.214071 146.899219 \r\nL 141.496075 146.899219 \r\nL 149.778079 78.949219 \r\nL 158.060082 78.949219 \r\nL 166.342086 78.949219 \r\nL 174.62409 78.949219 \r\nL 182.906093 146.899219 \r\nL 191.188097 78.949219 \r\nL 199.470101 78.949219 \r\nL 207.752105 78.949219 \r\nL 216.034108 78.949219 \r\nL 224.316112 78.949219 \r\nL 232.598116 78.949219 \r\nL 240.880119 78.949219 \r\nL 249.162123 78.949219 \r\nL 257.444127 78.949219 \r\nL 265.726131 78.949219 \r\nL 274.008134 78.949219 \r\nL 282.290138 78.949219 \r\nL 290.572142 78.949219 \r\nL 298.854145 78.949219 \r\nL 307.136149 78.949219 \r\nL 315.418153 78.949219 \r\nL 323.700157 78.949219 \r\nL 331.98216 78.949219 \r\nL 340.264164 78.949219 \r\nL 348.546168 78.949219 \r\nL 356.828171 78.949219 \r\nL 365.110175 78.949219 \r\nL 373.392179 78.949219 \r\nL 381.674183 78.949219 \r\nL 389.956186 78.949219 \r\nL 398.23819 78.949219 \r\nL 406.520194 78.949219 \r\nL 414.802197 78.949219 \r\nL 423.084201 78.949219 \r\nL 431.366205 78.949219 \r\nL 439.648208 78.949219 \r\nL 447.930212 78.949219 \r\nL 456.212216 78.949219 \r\n\" style=\"fill:none;stroke:#d62728;stroke-linecap:square;stroke-width:1.5;\"/>\r\n   </g>\r\n   <g id=\"patch_3\">\r\n    <path d=\"M 30.103125 282.799219 \r\nL 30.103125 10.999219 \r\n\" style=\"fill:none;stroke:#000000;stroke-linecap:square;stroke-linejoin:miter;stroke-width:0.8;\"/>\r\n   </g>\r\n   <g id=\"patch_4\">\r\n    <path d=\"M 476.503125 282.799219 \r\nL 476.503125 10.999219 \r\n\" style=\"fill:none;stroke:#000000;stroke-linecap:square;stroke-linejoin:miter;stroke-width:0.8;\"/>\r\n   </g>\r\n   <g id=\"patch_5\">\r\n    <path d=\"M 30.103125 282.799219 \r\nL 476.503125 282.799219 \r\n\" style=\"fill:none;stroke:#000000;stroke-linecap:square;stroke-linejoin:miter;stroke-width:0.8;\"/>\r\n   </g>\r\n   <g id=\"patch_6\">\r\n    <path d=\"M 30.103125 10.999219 \r\nL 476.503125 10.999219 \r\n\" style=\"fill:none;stroke:#000000;stroke-linecap:square;stroke-linejoin:miter;stroke-width:0.8;\"/>\r\n   </g>\r\n   <g id=\"legend_1\">\r\n    <g id=\"patch_7\">\r\n     <path d=\"M 372.559375 78.267969 \r\nL 469.503125 78.267969 \r\nQ 471.503125 78.267969 471.503125 76.267969 \r\nL 471.503125 17.999219 \r\nQ 471.503125 15.999219 469.503125 15.999219 \r\nL 372.559375 15.999219 \r\nQ 370.559375 15.999219 370.559375 17.999219 \r\nL 370.559375 76.267969 \r\nQ 370.559375 78.267969 372.559375 78.267969 \r\nz\r\n\" style=\"fill:#ffffff;opacity:0.8;stroke:#cccccc;stroke-linejoin:miter;\"/>\r\n    </g>\r\n    <g id=\"line2d_29\">\r\n     <path d=\"M 374.559375 24.097656 \r\nL 394.559375 24.097656 \r\n\" style=\"fill:none;stroke:#1f77b4;stroke-linecap:square;stroke-width:1.5;\"/>\r\n    </g>\r\n    <g id=\"line2d_30\"/>\r\n    <g id=\"text_13\">\r\n     <!-- loss -->\r\n     <g transform=\"translate(402.559375 27.597656)scale(0.1 -0.1)\">\r\n      <defs>\r\n       <path d=\"M 9.421875 75.984375 \r\nL 18.40625 75.984375 \r\nL 18.40625 0 \r\nL 9.421875 0 \r\nz\r\n\" id=\"DejaVuSans-108\"/>\r\n       <path d=\"M 30.609375 48.390625 \r\nQ 23.390625 48.390625 19.1875 42.75 \r\nQ 14.984375 37.109375 14.984375 27.296875 \r\nQ 14.984375 17.484375 19.15625 11.84375 \r\nQ 23.34375 6.203125 30.609375 6.203125 \r\nQ 37.796875 6.203125 41.984375 11.859375 \r\nQ 46.1875 17.53125 46.1875 27.296875 \r\nQ 46.1875 37.015625 41.984375 42.703125 \r\nQ 37.796875 48.390625 30.609375 48.390625 \r\nz\r\nM 30.609375 56 \r\nQ 42.328125 56 49.015625 48.375 \r\nQ 55.71875 40.765625 55.71875 27.296875 \r\nQ 55.71875 13.875 49.015625 6.21875 \r\nQ 42.328125 -1.421875 30.609375 -1.421875 \r\nQ 18.84375 -1.421875 12.171875 6.21875 \r\nQ 5.515625 13.875 5.515625 27.296875 \r\nQ 5.515625 40.765625 12.171875 48.375 \r\nQ 18.84375 56 30.609375 56 \r\nz\r\n\" id=\"DejaVuSans-111\"/>\r\n       <path d=\"M 44.28125 53.078125 \r\nL 44.28125 44.578125 \r\nQ 40.484375 46.53125 36.375 47.5 \r\nQ 32.28125 48.484375 27.875 48.484375 \r\nQ 21.1875 48.484375 17.84375 46.4375 \r\nQ 14.5 44.390625 14.5 40.28125 \r\nQ 14.5 37.15625 16.890625 35.375 \r\nQ 19.28125 33.59375 26.515625 31.984375 \r\nL 29.59375 31.296875 \r\nQ 39.15625 29.25 43.1875 25.515625 \r\nQ 47.21875 21.78125 47.21875 15.09375 \r\nQ 47.21875 7.46875 41.1875 3.015625 \r\nQ 35.15625 -1.421875 24.609375 -1.421875 \r\nQ 20.21875 -1.421875 15.453125 -0.5625 \r\nQ 10.6875 0.296875 5.421875 2 \r\nL 5.421875 11.28125 \r\nQ 10.40625 8.6875 15.234375 7.390625 \r\nQ 20.0625 6.109375 24.8125 6.109375 \r\nQ 31.15625 6.109375 34.5625 8.28125 \r\nQ 37.984375 10.453125 37.984375 14.40625 \r\nQ 37.984375 18.0625 35.515625 20.015625 \r\nQ 33.0625 21.96875 24.703125 23.78125 \r\nL 21.578125 24.515625 \r\nQ 13.234375 26.265625 9.515625 29.90625 \r\nQ 5.8125 33.546875 5.8125 39.890625 \r\nQ 5.8125 47.609375 11.28125 51.796875 \r\nQ 16.75 56 26.8125 56 \r\nQ 31.78125 56 36.171875 55.265625 \r\nQ 40.578125 54.546875 44.28125 53.078125 \r\nz\r\n\" id=\"DejaVuSans-115\"/>\r\n      </defs>\r\n      <use xlink:href=\"#DejaVuSans-108\"/>\r\n      <use x=\"27.783203\" xlink:href=\"#DejaVuSans-111\"/>\r\n      <use x=\"88.964844\" xlink:href=\"#DejaVuSans-115\"/>\r\n      <use x=\"141.064453\" xlink:href=\"#DejaVuSans-115\"/>\r\n     </g>\r\n    </g>\r\n    <g id=\"line2d_31\">\r\n     <path d=\"M 374.559375 38.775781 \r\nL 394.559375 38.775781 \r\n\" style=\"fill:none;stroke:#ff7f0e;stroke-linecap:square;stroke-width:1.5;\"/>\r\n    </g>\r\n    <g id=\"line2d_32\"/>\r\n    <g id=\"text_14\">\r\n     <!-- accuracy -->\r\n     <g transform=\"translate(402.559375 42.275781)scale(0.1 -0.1)\">\r\n      <defs>\r\n       <path d=\"M 34.28125 27.484375 \r\nQ 23.390625 27.484375 19.1875 25 \r\nQ 14.984375 22.515625 14.984375 16.5 \r\nQ 14.984375 11.71875 18.140625 8.90625 \r\nQ 21.296875 6.109375 26.703125 6.109375 \r\nQ 34.1875 6.109375 38.703125 11.40625 \r\nQ 43.21875 16.703125 43.21875 25.484375 \r\nL 43.21875 27.484375 \r\nz\r\nM 52.203125 31.203125 \r\nL 52.203125 0 \r\nL 43.21875 0 \r\nL 43.21875 8.296875 \r\nQ 40.140625 3.328125 35.546875 0.953125 \r\nQ 30.953125 -1.421875 24.3125 -1.421875 \r\nQ 15.921875 -1.421875 10.953125 3.296875 \r\nQ 6 8.015625 6 15.921875 \r\nQ 6 25.140625 12.171875 29.828125 \r\nQ 18.359375 34.515625 30.609375 34.515625 \r\nL 43.21875 34.515625 \r\nL 43.21875 35.40625 \r\nQ 43.21875 41.609375 39.140625 45 \r\nQ 35.0625 48.390625 27.6875 48.390625 \r\nQ 23 48.390625 18.546875 47.265625 \r\nQ 14.109375 46.140625 10.015625 43.890625 \r\nL 10.015625 52.203125 \r\nQ 14.9375 54.109375 19.578125 55.046875 \r\nQ 24.21875 56 28.609375 56 \r\nQ 40.484375 56 46.34375 49.84375 \r\nQ 52.203125 43.703125 52.203125 31.203125 \r\nz\r\n\" id=\"DejaVuSans-97\"/>\r\n       <path d=\"M 48.78125 52.59375 \r\nL 48.78125 44.1875 \r\nQ 44.96875 46.296875 41.140625 47.34375 \r\nQ 37.3125 48.390625 33.40625 48.390625 \r\nQ 24.65625 48.390625 19.8125 42.84375 \r\nQ 14.984375 37.3125 14.984375 27.296875 \r\nQ 14.984375 17.28125 19.8125 11.734375 \r\nQ 24.65625 6.203125 33.40625 6.203125 \r\nQ 37.3125 6.203125 41.140625 7.25 \r\nQ 44.96875 8.296875 48.78125 10.40625 \r\nL 48.78125 2.09375 \r\nQ 45.015625 0.34375 40.984375 -0.53125 \r\nQ 36.96875 -1.421875 32.421875 -1.421875 \r\nQ 20.0625 -1.421875 12.78125 6.34375 \r\nQ 5.515625 14.109375 5.515625 27.296875 \r\nQ 5.515625 40.671875 12.859375 48.328125 \r\nQ 20.21875 56 33.015625 56 \r\nQ 37.15625 56 41.109375 55.140625 \r\nQ 45.0625 54.296875 48.78125 52.59375 \r\nz\r\n\" id=\"DejaVuSans-99\"/>\r\n       <path d=\"M 8.5 21.578125 \r\nL 8.5 54.6875 \r\nL 17.484375 54.6875 \r\nL 17.484375 21.921875 \r\nQ 17.484375 14.15625 20.5 10.265625 \r\nQ 23.53125 6.390625 29.59375 6.390625 \r\nQ 36.859375 6.390625 41.078125 11.03125 \r\nQ 45.3125 15.671875 45.3125 23.6875 \r\nL 45.3125 54.6875 \r\nL 54.296875 54.6875 \r\nL 54.296875 0 \r\nL 45.3125 0 \r\nL 45.3125 8.40625 \r\nQ 42.046875 3.421875 37.71875 1 \r\nQ 33.40625 -1.421875 27.6875 -1.421875 \r\nQ 18.265625 -1.421875 13.375 4.4375 \r\nQ 8.5 10.296875 8.5 21.578125 \r\nz\r\nM 31.109375 56 \r\nz\r\n\" id=\"DejaVuSans-117\"/>\r\n       <path d=\"M 41.109375 46.296875 \r\nQ 39.59375 47.171875 37.8125 47.578125 \r\nQ 36.03125 48 33.890625 48 \r\nQ 26.265625 48 22.1875 43.046875 \r\nQ 18.109375 38.09375 18.109375 28.8125 \r\nL 18.109375 0 \r\nL 9.078125 0 \r\nL 9.078125 54.6875 \r\nL 18.109375 54.6875 \r\nL 18.109375 46.1875 \r\nQ 20.953125 51.171875 25.484375 53.578125 \r\nQ 30.03125 56 36.53125 56 \r\nQ 37.453125 56 38.578125 55.875 \r\nQ 39.703125 55.765625 41.0625 55.515625 \r\nz\r\n\" id=\"DejaVuSans-114\"/>\r\n       <path d=\"M 32.171875 -5.078125 \r\nQ 28.375 -14.84375 24.75 -17.8125 \r\nQ 21.140625 -20.796875 15.09375 -20.796875 \r\nL 7.90625 -20.796875 \r\nL 7.90625 -13.28125 \r\nL 13.1875 -13.28125 \r\nQ 16.890625 -13.28125 18.9375 -11.515625 \r\nQ 21 -9.765625 23.484375 -3.21875 \r\nL 25.09375 0.875 \r\nL 2.984375 54.6875 \r\nL 12.5 54.6875 \r\nL 29.59375 11.921875 \r\nL 46.6875 54.6875 \r\nL 56.203125 54.6875 \r\nz\r\n\" id=\"DejaVuSans-121\"/>\r\n      </defs>\r\n      <use xlink:href=\"#DejaVuSans-97\"/>\r\n      <use x=\"61.279297\" xlink:href=\"#DejaVuSans-99\"/>\r\n      <use x=\"116.259766\" xlink:href=\"#DejaVuSans-99\"/>\r\n      <use x=\"171.240234\" xlink:href=\"#DejaVuSans-117\"/>\r\n      <use x=\"234.619141\" xlink:href=\"#DejaVuSans-114\"/>\r\n      <use x=\"275.732422\" xlink:href=\"#DejaVuSans-97\"/>\r\n      <use x=\"337.011719\" xlink:href=\"#DejaVuSans-99\"/>\r\n      <use x=\"391.992188\" xlink:href=\"#DejaVuSans-121\"/>\r\n     </g>\r\n    </g>\r\n    <g id=\"line2d_33\">\r\n     <path d=\"M 374.559375 53.453906 \r\nL 394.559375 53.453906 \r\n\" style=\"fill:none;stroke:#2ca02c;stroke-linecap:square;stroke-width:1.5;\"/>\r\n    </g>\r\n    <g id=\"line2d_34\"/>\r\n    <g id=\"text_15\">\r\n     <!-- val_loss -->\r\n     <g transform=\"translate(402.559375 56.953906)scale(0.1 -0.1)\">\r\n      <defs>\r\n       <path d=\"M 2.984375 54.6875 \r\nL 12.5 54.6875 \r\nL 29.59375 8.796875 \r\nL 46.6875 54.6875 \r\nL 56.203125 54.6875 \r\nL 35.6875 0 \r\nL 23.484375 0 \r\nz\r\n\" id=\"DejaVuSans-118\"/>\r\n       <path d=\"M 50.984375 -16.609375 \r\nL 50.984375 -23.578125 \r\nL -0.984375 -23.578125 \r\nL -0.984375 -16.609375 \r\nz\r\n\" id=\"DejaVuSans-95\"/>\r\n      </defs>\r\n      <use xlink:href=\"#DejaVuSans-118\"/>\r\n      <use x=\"59.179688\" xlink:href=\"#DejaVuSans-97\"/>\r\n      <use x=\"120.458984\" xlink:href=\"#DejaVuSans-108\"/>\r\n      <use x=\"148.242188\" xlink:href=\"#DejaVuSans-95\"/>\r\n      <use x=\"198.242188\" xlink:href=\"#DejaVuSans-108\"/>\r\n      <use x=\"226.025391\" xlink:href=\"#DejaVuSans-111\"/>\r\n      <use x=\"287.207031\" xlink:href=\"#DejaVuSans-115\"/>\r\n      <use x=\"339.306641\" xlink:href=\"#DejaVuSans-115\"/>\r\n     </g>\r\n    </g>\r\n    <g id=\"line2d_35\">\r\n     <path d=\"M 374.559375 68.410156 \r\nL 394.559375 68.410156 \r\n\" style=\"fill:none;stroke:#d62728;stroke-linecap:square;stroke-width:1.5;\"/>\r\n    </g>\r\n    <g id=\"line2d_36\"/>\r\n    <g id=\"text_16\">\r\n     <!-- val_accuracy -->\r\n     <g transform=\"translate(402.559375 71.910156)scale(0.1 -0.1)\">\r\n      <use xlink:href=\"#DejaVuSans-118\"/>\r\n      <use x=\"59.179688\" xlink:href=\"#DejaVuSans-97\"/>\r\n      <use x=\"120.458984\" xlink:href=\"#DejaVuSans-108\"/>\r\n      <use x=\"148.242188\" xlink:href=\"#DejaVuSans-95\"/>\r\n      <use x=\"198.242188\" xlink:href=\"#DejaVuSans-97\"/>\r\n      <use x=\"259.521484\" xlink:href=\"#DejaVuSans-99\"/>\r\n      <use x=\"314.501953\" xlink:href=\"#DejaVuSans-99\"/>\r\n      <use x=\"369.482422\" xlink:href=\"#DejaVuSans-117\"/>\r\n      <use x=\"432.861328\" xlink:href=\"#DejaVuSans-114\"/>\r\n      <use x=\"473.974609\" xlink:href=\"#DejaVuSans-97\"/>\r\n      <use x=\"535.253906\" xlink:href=\"#DejaVuSans-99\"/>\r\n      <use x=\"590.234375\" xlink:href=\"#DejaVuSans-121\"/>\r\n     </g>\r\n    </g>\r\n   </g>\r\n  </g>\r\n </g>\r\n <defs>\r\n  <clipPath id=\"p1f26e91176\">\r\n   <rect height=\"271.8\" width=\"446.4\" x=\"30.103125\" y=\"10.999219\"/>\r\n  </clipPath>\r\n </defs>\r\n</svg>\r\n",
      "image/png": "[encoded data removed]"
     },
     "metadata": {
      "needs_background": "light"
     }
    }
   ],
   "source": [
    "import pandas as pd\n",
    "\n",
    "pd.DataFrame(history.history).plot(figsize=(8, 5))\n",
    "plt.grid(True)\n",
    "plt.gca().set_ylim(0, 1)\n",
    "plt.show()"
   ]
  },
  {
   "cell_type": "markdown",
   "metadata": {},
   "source": [
    "# Case of regression\n",
    "\n",
    "Finally, you can address not only classification but also regression tasks with `TensorFlow`. Let's look at a short example here.\n",
    "\n",
    "In Practical 1 you have been using a custom version of the California housing dataset (refer to the Practical 1 to see what differences were introduced in the original data). The original version is [accessible via `sklearn`](https://scikit-learn.org/stable/modules/generated/sklearn.datasets.fetch_california_housing.html), and the code below shows how to access a dataset from `sklearn` (in fact, `sklearn` provides access to a number of useful ML datasets, so take a look at the [documentation](https://scikit-learn.org/stable/datasets/index.html)):"
   ]
  },
  {
   "cell_type": "code",
   "execution_count": 50,
   "metadata": {},
   "outputs": [],
   "source": [
    "np.random.seed(42)\n",
    "tf.random.set_seed(42)\n",
    "from sklearn.datasets import fetch_california_housing\n",
    "\n",
    "housing = fetch_california_housing()"
   ]
  },
  {
   "cell_type": "markdown",
   "metadata": {},
   "source": [
    "Now let't split the dataset into training, validation, and test sets. Note that you can access the data from the dataset with `housing.data`, and the labels with `housing.target`:"
   ]
  },
  {
   "cell_type": "code",
   "execution_count": 51,
   "metadata": {},
   "outputs": [],
   "source": [
    "from sklearn.model_selection import train_test_split\n",
    "\n",
    "X_train_full, X_test, y_train_full, y_test = train_test_split(housing.data, housing.target, random_state=42)\n",
    "X_train, X_valid, y_train, y_valid = train_test_split(X_train_full, y_train_full, random_state=42)"
   ]
  },
  {
   "cell_type": "markdown",
   "metadata": {},
   "source": [
    "And scale the data using standardisation:"
   ]
  },
  {
   "cell_type": "code",
   "execution_count": 52,
   "metadata": {},
   "outputs": [],
   "source": [
    "from sklearn.preprocessing import StandardScaler\n",
    "\n",
    "scaler = StandardScaler()\n",
    "X_train = scaler.fit_transform(X_train)\n",
    "X_valid = scaler.transform(X_valid)\n",
    "X_test = scaler.transform(X_test)"
   ]
  },
  {
   "cell_type": "markdown",
   "metadata": {},
   "source": [
    "The code below shows to you how to implement a regression model using `TensorFlow`. It is quite similar to the code for classification with minor difference: the loss function that you use here is mean squared error, and the output is a single predicted value thus the dimensionality of the output layer."
   ]
  },
  {
   "cell_type": "code",
   "execution_count": 53,
   "metadata": {},
   "outputs": [
    {
     "output_type": "stream",
     "name": "stdout",
     "text": [
      "Epoch 1/20\n",
      "  1/363 [..............................] - ETA: 0s - loss: 3.7219WARNING:tensorflow:Callbacks method `on_train_batch_end` is slow compared to the batch time (batch time: 0.0000s vs `on_train_batch_end` time: 0.0010s). Check your callbacks.\n",
      "363/363 [==============================] - 0s 949us/step - loss: 1.6419 - val_loss: 0.8560\n",
      "Epoch 2/20\n",
      "363/363 [==============================] - 0s 711us/step - loss: 0.7047 - val_loss: 0.6531\n",
      "Epoch 3/20\n",
      "363/363 [==============================] - 0s 688us/step - loss: 0.6345 - val_loss: 0.6099\n",
      "Epoch 4/20\n",
      "363/363 [==============================] - 0s 736us/step - loss: 0.5977 - val_loss: 0.5658\n",
      "Epoch 5/20\n",
      "363/363 [==============================] - 0s 722us/step - loss: 0.5706 - val_loss: 0.5355\n",
      "Epoch 6/20\n",
      "363/363 [==============================] - 0s 730us/step - loss: 0.5472 - val_loss: 0.5173\n",
      "Epoch 7/20\n",
      "363/363 [==============================] - 0s 736us/step - loss: 0.5288 - val_loss: 0.5081\n",
      "Epoch 8/20\n",
      "363/363 [==============================] - 0s 727us/step - loss: 0.5130 - val_loss: 0.4799\n",
      "Epoch 9/20\n",
      "363/363 [==============================] - 0s 731us/step - loss: 0.4992 - val_loss: 0.4690\n",
      "Epoch 10/20\n",
      "363/363 [==============================] - 0s 678us/step - loss: 0.4875 - val_loss: 0.4656\n",
      "Epoch 11/20\n",
      "363/363 [==============================] - 0s 636us/step - loss: 0.4777 - val_loss: 0.4482\n",
      "Epoch 12/20\n",
      "363/363 [==============================] - 0s 706us/step - loss: 0.4688 - val_loss: 0.4479\n",
      "Epoch 13/20\n",
      "363/363 [==============================] - 0s 765us/step - loss: 0.4615 - val_loss: 0.4296\n",
      "Epoch 14/20\n",
      "363/363 [==============================] - 0s 757us/step - loss: 0.4547 - val_loss: 0.4233\n",
      "Epoch 15/20\n",
      "363/363 [==============================] - 0s 758us/step - loss: 0.4488 - val_loss: 0.4176\n",
      "Epoch 16/20\n",
      "363/363 [==============================] - 0s 717us/step - loss: 0.4435 - val_loss: 0.4123\n",
      "Epoch 17/20\n",
      "363/363 [==============================] - 0s 639us/step - loss: 0.4389 - val_loss: 0.4071\n",
      "Epoch 18/20\n",
      "363/363 [==============================] - 0s 743us/step - loss: 0.4347 - val_loss: 0.4037\n",
      "Epoch 19/20\n",
      "363/363 [==============================] - 0s 670us/step - loss: 0.4306 - val_loss: 0.4000\n",
      "Epoch 20/20\n",
      "363/363 [==============================] - 0s 642us/step - loss: 0.4273 - val_loss: 0.3969\n",
      "162/162 [==============================] - 0s 464us/step - loss: 0.4212\n"
     ]
    }
   ],
   "source": [
    "reg_model = tf.keras.models.Sequential([\n",
    "    tf.keras.layers.Dense(30, activation=\"relu\", input_shape=X_train.shape[1:]),\n",
    "    tf.keras.layers.Dense(1)\n",
    "])\n",
    "\n",
    "reg_model.compile(loss=\"mean_squared_error\", optimizer=tf.keras.optimizers.SGD(lr=1e-3))\n",
    "history = reg_model.fit(X_train, y_train, epochs=20, validation_data=(X_valid, y_valid))\n",
    "mse_test = reg_model.evaluate(X_test, y_test)"
   ]
  },
  {
   "cell_type": "markdown",
   "metadata": {},
   "source": [
    "Now let's plot the results:"
   ]
  },
  {
   "cell_type": "code",
   "execution_count": 54,
   "metadata": {},
   "outputs": [
    {
     "output_type": "display_data",
     "data": {
      "text/plain": "<Figure size 432x288 with 1 Axes>",
      "image/svg+xml": "<?xml version=\"1.0\" encoding=\"utf-8\" standalone=\"no\"?>\r\n<!DOCTYPE svg PUBLIC \"-//W3C//DTD SVG 1.1//EN\"\r\n  \"http://www.w3.org/Graphics/SVG/1.1/DTD/svg11.dtd\">\r\n<!-- Created with matplotlib (https://matplotlib.org/) -->\r\n<svg height=\"252.317344pt\" version=\"1.1\" viewBox=\"0 0 372.103125 252.317344\" width=\"372.103125pt\" xmlns=\"http://www.w3.org/2000/svg\" xmlns:xlink=\"http://www.w3.org/1999/xlink\">\r\n <metadata>\r\n  <rdf:RDF xmlns:cc=\"http://creativecommons.org/ns#\" xmlns:dc=\"http://purl.org/dc/elements/1.1/\" xmlns:rdf=\"http://www.w3.org/1999/02/22-rdf-syntax-ns#\">\r\n   <cc:Work>\r\n    <dc:type rdf:resource=\"http://purl.org/dc/dcmitype/StillImage\"/>\r\n    <dc:date>2020-11-24T12:44:10.320864</dc:date>\r\n    <dc:format>image/svg+xml</dc:format>\r\n    <dc:creator>\r\n     <cc:Agent>\r\n      <dc:title>Matplotlib v3.3.2, https://matplotlib.org/</dc:title>\r\n     </cc:Agent>\r\n    </dc:creator>\r\n   </cc:Work>\r\n  </rdf:RDF>\r\n </metadata>\r\n <defs>\r\n  <style type=\"text/css\">*{stroke-linecap:butt;stroke-linejoin:round;}</style>\r\n </defs>\r\n <g id=\"figure_1\">\r\n  <g id=\"patch_1\">\r\n   <path d=\"M 0 252.317344 \r\nL 372.103125 252.317344 \r\nL 372.103125 0 \r\nL 0 0 \r\nz\r\n\" style=\"fill:none;\"/>\r\n  </g>\r\n  <g id=\"axes_1\">\r\n   <g id=\"patch_2\">\r\n    <path d=\"M 30.103125 228.439219 \r\nL 364.903125 228.439219 \r\nL 364.903125 10.999219 \r\nL 30.103125 10.999219 \r\nz\r\n\" style=\"fill:#ffffff;\"/>\r\n   </g>\r\n   <g id=\"matplotlib.axis_1\">\r\n    <g id=\"xtick_1\">\r\n     <g id=\"line2d_1\">\r\n      <path clip-path=\"url(#p86dad68b03)\" d=\"M 45.321307 228.439219 \r\nL 45.321307 10.999219 \r\n\" style=\"fill:none;stroke:#b0b0b0;stroke-linecap:square;stroke-width:0.8;\"/>\r\n     </g>\r\n     <g id=\"line2d_2\">\r\n      <defs>\r\n       <path d=\"M 0 0 \r\nL 0 3.5 \r\n\" id=\"m8f2d756b00\" style=\"stroke:#000000;stroke-width:0.8;\"/>\r\n      </defs>\r\n      <g>\r\n       <use style=\"stroke:#000000;stroke-width:0.8;\" x=\"45.321307\" xlink:href=\"#m8f2d756b00\" y=\"228.439219\"/>\r\n      </g>\r\n     </g>\r\n     <g id=\"text_1\">\r\n      <!-- 0.0 -->\r\n      <g transform=\"translate(37.369744 243.037656)scale(0.1 -0.1)\">\r\n       <defs>\r\n        <path d=\"M 31.78125 66.40625 \r\nQ 24.171875 66.40625 20.328125 58.90625 \r\nQ 16.5 51.421875 16.5 36.375 \r\nQ 16.5 21.390625 20.328125 13.890625 \r\nQ 24.171875 6.390625 31.78125 6.390625 \r\nQ 39.453125 6.390625 43.28125 13.890625 \r\nQ 47.125 21.390625 47.125 36.375 \r\nQ 47.125 51.421875 43.28125 58.90625 \r\nQ 39.453125 66.40625 31.78125 66.40625 \r\nz\r\nM 31.78125 74.21875 \r\nQ 44.046875 74.21875 50.515625 64.515625 \r\nQ 56.984375 54.828125 56.984375 36.375 \r\nQ 56.984375 17.96875 50.515625 8.265625 \r\nQ 44.046875 -1.421875 31.78125 -1.421875 \r\nQ 19.53125 -1.421875 13.0625 8.265625 \r\nQ 6.59375 17.96875 6.59375 36.375 \r\nQ 6.59375 54.828125 13.0625 64.515625 \r\nQ 19.53125 74.21875 31.78125 74.21875 \r\nz\r\n\" id=\"DejaVuSans-48\"/>\r\n        <path d=\"M 10.6875 12.40625 \r\nL 21 12.40625 \r\nL 21 0 \r\nL 10.6875 0 \r\nz\r\n\" id=\"DejaVuSans-46\"/>\r\n       </defs>\r\n       <use xlink:href=\"#DejaVuSans-48\"/>\r\n       <use x=\"63.623047\" xlink:href=\"#DejaVuSans-46\"/>\r\n       <use x=\"95.410156\" xlink:href=\"#DejaVuSans-48\"/>\r\n      </g>\r\n     </g>\r\n    </g>\r\n    <g id=\"xtick_2\">\r\n     <g id=\"line2d_3\">\r\n      <path clip-path=\"url(#p86dad68b03)\" d=\"M 85.369154 228.439219 \r\nL 85.369154 10.999219 \r\n\" style=\"fill:none;stroke:#b0b0b0;stroke-linecap:square;stroke-width:0.8;\"/>\r\n     </g>\r\n     <g id=\"line2d_4\">\r\n      <g>\r\n       <use style=\"stroke:#000000;stroke-width:0.8;\" x=\"85.369154\" xlink:href=\"#m8f2d756b00\" y=\"228.439219\"/>\r\n      </g>\r\n     </g>\r\n     <g id=\"text_2\">\r\n      <!-- 2.5 -->\r\n      <g transform=\"translate(77.417591 243.037656)scale(0.1 -0.1)\">\r\n       <defs>\r\n        <path d=\"M 19.1875 8.296875 \r\nL 53.609375 8.296875 \r\nL 53.609375 0 \r\nL 7.328125 0 \r\nL 7.328125 8.296875 \r\nQ 12.9375 14.109375 22.625 23.890625 \r\nQ 32.328125 33.6875 34.8125 36.53125 \r\nQ 39.546875 41.84375 41.421875 45.53125 \r\nQ 43.3125 49.21875 43.3125 52.78125 \r\nQ 43.3125 58.59375 39.234375 62.25 \r\nQ 35.15625 65.921875 28.609375 65.921875 \r\nQ 23.96875 65.921875 18.8125 64.3125 \r\nQ 13.671875 62.703125 7.8125 59.421875 \r\nL 7.8125 69.390625 \r\nQ 13.765625 71.78125 18.9375 73 \r\nQ 24.125 74.21875 28.421875 74.21875 \r\nQ 39.75 74.21875 46.484375 68.546875 \r\nQ 53.21875 62.890625 53.21875 53.421875 \r\nQ 53.21875 48.921875 51.53125 44.890625 \r\nQ 49.859375 40.875 45.40625 35.40625 \r\nQ 44.1875 33.984375 37.640625 27.21875 \r\nQ 31.109375 20.453125 19.1875 8.296875 \r\nz\r\n\" id=\"DejaVuSans-50\"/>\r\n        <path d=\"M 10.796875 72.90625 \r\nL 49.515625 72.90625 \r\nL 49.515625 64.59375 \r\nL 19.828125 64.59375 \r\nL 19.828125 46.734375 \r\nQ 21.96875 47.46875 24.109375 47.828125 \r\nQ 26.265625 48.1875 28.421875 48.1875 \r\nQ 40.625 48.1875 47.75 41.5 \r\nQ 54.890625 34.8125 54.890625 23.390625 \r\nQ 54.890625 11.625 47.5625 5.09375 \r\nQ 40.234375 -1.421875 26.90625 -1.421875 \r\nQ 22.3125 -1.421875 17.546875 -0.640625 \r\nQ 12.796875 0.140625 7.71875 1.703125 \r\nL 7.71875 11.625 \r\nQ 12.109375 9.234375 16.796875 8.0625 \r\nQ 21.484375 6.890625 26.703125 6.890625 \r\nQ 35.15625 6.890625 40.078125 11.328125 \r\nQ 45.015625 15.765625 45.015625 23.390625 \r\nQ 45.015625 31 40.078125 35.4375 \r\nQ 35.15625 39.890625 26.703125 39.890625 \r\nQ 22.75 39.890625 18.8125 39.015625 \r\nQ 14.890625 38.140625 10.796875 36.28125 \r\nz\r\n\" id=\"DejaVuSans-53\"/>\r\n       </defs>\r\n       <use xlink:href=\"#DejaVuSans-50\"/>\r\n       <use x=\"63.623047\" xlink:href=\"#DejaVuSans-46\"/>\r\n       <use x=\"95.410156\" xlink:href=\"#DejaVuSans-53\"/>\r\n      </g>\r\n     </g>\r\n    </g>\r\n    <g id=\"xtick_3\">\r\n     <g id=\"line2d_5\">\r\n      <path clip-path=\"url(#p86dad68b03)\" d=\"M 125.417001 228.439219 \r\nL 125.417001 10.999219 \r\n\" style=\"fill:none;stroke:#b0b0b0;stroke-linecap:square;stroke-width:0.8;\"/>\r\n     </g>\r\n     <g id=\"line2d_6\">\r\n      <g>\r\n       <use style=\"stroke:#000000;stroke-width:0.8;\" x=\"125.417001\" xlink:href=\"#m8f2d756b00\" y=\"228.439219\"/>\r\n      </g>\r\n     </g>\r\n     <g id=\"text_3\">\r\n      <!-- 5.0 -->\r\n      <g transform=\"translate(117.465438 243.037656)scale(0.1 -0.1)\">\r\n       <use xlink:href=\"#DejaVuSans-53\"/>\r\n       <use x=\"63.623047\" xlink:href=\"#DejaVuSans-46\"/>\r\n       <use x=\"95.410156\" xlink:href=\"#DejaVuSans-48\"/>\r\n      </g>\r\n     </g>\r\n    </g>\r\n    <g id=\"xtick_4\">\r\n     <g id=\"line2d_7\">\r\n      <path clip-path=\"url(#p86dad68b03)\" d=\"M 165.464847 228.439219 \r\nL 165.464847 10.999219 \r\n\" style=\"fill:none;stroke:#b0b0b0;stroke-linecap:square;stroke-width:0.8;\"/>\r\n     </g>\r\n     <g id=\"line2d_8\">\r\n      <g>\r\n       <use style=\"stroke:#000000;stroke-width:0.8;\" x=\"165.464847\" xlink:href=\"#m8f2d756b00\" y=\"228.439219\"/>\r\n      </g>\r\n     </g>\r\n     <g id=\"text_4\">\r\n      <!-- 7.5 -->\r\n      <g transform=\"translate(157.513285 243.037656)scale(0.1 -0.1)\">\r\n       <defs>\r\n        <path d=\"M 8.203125 72.90625 \r\nL 55.078125 72.90625 \r\nL 55.078125 68.703125 \r\nL 28.609375 0 \r\nL 18.3125 0 \r\nL 43.21875 64.59375 \r\nL 8.203125 64.59375 \r\nz\r\n\" id=\"DejaVuSans-55\"/>\r\n       </defs>\r\n       <use xlink:href=\"#DejaVuSans-55\"/>\r\n       <use x=\"63.623047\" xlink:href=\"#DejaVuSans-46\"/>\r\n       <use x=\"95.410156\" xlink:href=\"#DejaVuSans-53\"/>\r\n      </g>\r\n     </g>\r\n    </g>\r\n    <g id=\"xtick_5\">\r\n     <g id=\"line2d_9\">\r\n      <path clip-path=\"url(#p86dad68b03)\" d=\"M 205.512694 228.439219 \r\nL 205.512694 10.999219 \r\n\" style=\"fill:none;stroke:#b0b0b0;stroke-linecap:square;stroke-width:0.8;\"/>\r\n     </g>\r\n     <g id=\"line2d_10\">\r\n      <g>\r\n       <use style=\"stroke:#000000;stroke-width:0.8;\" x=\"205.512694\" xlink:href=\"#m8f2d756b00\" y=\"228.439219\"/>\r\n      </g>\r\n     </g>\r\n     <g id=\"text_5\">\r\n      <!-- 10.0 -->\r\n      <g transform=\"translate(194.379882 243.037656)scale(0.1 -0.1)\">\r\n       <defs>\r\n        <path d=\"M 12.40625 8.296875 \r\nL 28.515625 8.296875 \r\nL 28.515625 63.921875 \r\nL 10.984375 60.40625 \r\nL 10.984375 69.390625 \r\nL 28.421875 72.90625 \r\nL 38.28125 72.90625 \r\nL 38.28125 8.296875 \r\nL 54.390625 8.296875 \r\nL 54.390625 0 \r\nL 12.40625 0 \r\nz\r\n\" id=\"DejaVuSans-49\"/>\r\n       </defs>\r\n       <use xlink:href=\"#DejaVuSans-49\"/>\r\n       <use x=\"63.623047\" xlink:href=\"#DejaVuSans-48\"/>\r\n       <use x=\"127.246094\" xlink:href=\"#DejaVuSans-46\"/>\r\n       <use x=\"159.033203\" xlink:href=\"#DejaVuSans-48\"/>\r\n      </g>\r\n     </g>\r\n    </g>\r\n    <g id=\"xtick_6\">\r\n     <g id=\"line2d_11\">\r\n      <path clip-path=\"url(#p86dad68b03)\" d=\"M 245.560541 228.439219 \r\nL 245.560541 10.999219 \r\n\" style=\"fill:none;stroke:#b0b0b0;stroke-linecap:square;stroke-width:0.8;\"/>\r\n     </g>\r\n     <g id=\"line2d_12\">\r\n      <g>\r\n       <use style=\"stroke:#000000;stroke-width:0.8;\" x=\"245.560541\" xlink:href=\"#m8f2d756b00\" y=\"228.439219\"/>\r\n      </g>\r\n     </g>\r\n     <g id=\"text_6\">\r\n      <!-- 12.5 -->\r\n      <g transform=\"translate(234.427729 243.037656)scale(0.1 -0.1)\">\r\n       <use xlink:href=\"#DejaVuSans-49\"/>\r\n       <use x=\"63.623047\" xlink:href=\"#DejaVuSans-50\"/>\r\n       <use x=\"127.246094\" xlink:href=\"#DejaVuSans-46\"/>\r\n       <use x=\"159.033203\" xlink:href=\"#DejaVuSans-53\"/>\r\n      </g>\r\n     </g>\r\n    </g>\r\n    <g id=\"xtick_7\">\r\n     <g id=\"line2d_13\">\r\n      <path clip-path=\"url(#p86dad68b03)\" d=\"M 285.608388 228.439219 \r\nL 285.608388 10.999219 \r\n\" style=\"fill:none;stroke:#b0b0b0;stroke-linecap:square;stroke-width:0.8;\"/>\r\n     </g>\r\n     <g id=\"line2d_14\">\r\n      <g>\r\n       <use style=\"stroke:#000000;stroke-width:0.8;\" x=\"285.608388\" xlink:href=\"#m8f2d756b00\" y=\"228.439219\"/>\r\n      </g>\r\n     </g>\r\n     <g id=\"text_7\">\r\n      <!-- 15.0 -->\r\n      <g transform=\"translate(274.475576 243.037656)scale(0.1 -0.1)\">\r\n       <use xlink:href=\"#DejaVuSans-49\"/>\r\n       <use x=\"63.623047\" xlink:href=\"#DejaVuSans-53\"/>\r\n       <use x=\"127.246094\" xlink:href=\"#DejaVuSans-46\"/>\r\n       <use x=\"159.033203\" xlink:href=\"#DejaVuSans-48\"/>\r\n      </g>\r\n     </g>\r\n    </g>\r\n    <g id=\"xtick_8\">\r\n     <g id=\"line2d_15\">\r\n      <path clip-path=\"url(#p86dad68b03)\" d=\"M 325.656235 228.439219 \r\nL 325.656235 10.999219 \r\n\" style=\"fill:none;stroke:#b0b0b0;stroke-linecap:square;stroke-width:0.8;\"/>\r\n     </g>\r\n     <g id=\"line2d_16\">\r\n      <g>\r\n       <use style=\"stroke:#000000;stroke-width:0.8;\" x=\"325.656235\" xlink:href=\"#m8f2d756b00\" y=\"228.439219\"/>\r\n      </g>\r\n     </g>\r\n     <g id=\"text_8\">\r\n      <!-- 17.5 -->\r\n      <g transform=\"translate(314.523423 243.037656)scale(0.1 -0.1)\">\r\n       <use xlink:href=\"#DejaVuSans-49\"/>\r\n       <use x=\"63.623047\" xlink:href=\"#DejaVuSans-55\"/>\r\n       <use x=\"127.246094\" xlink:href=\"#DejaVuSans-46\"/>\r\n       <use x=\"159.033203\" xlink:href=\"#DejaVuSans-53\"/>\r\n      </g>\r\n     </g>\r\n    </g>\r\n   </g>\r\n   <g id=\"matplotlib.axis_2\">\r\n    <g id=\"ytick_1\">\r\n     <g id=\"line2d_17\">\r\n      <path clip-path=\"url(#p86dad68b03)\" d=\"M 30.103125 228.439219 \r\nL 364.903125 228.439219 \r\n\" style=\"fill:none;stroke:#b0b0b0;stroke-linecap:square;stroke-width:0.8;\"/>\r\n     </g>\r\n     <g id=\"line2d_18\">\r\n      <defs>\r\n       <path d=\"M 0 0 \r\nL -3.5 0 \r\n\" id=\"mbbbc73eb53\" style=\"stroke:#000000;stroke-width:0.8;\"/>\r\n      </defs>\r\n      <g>\r\n       <use style=\"stroke:#000000;stroke-width:0.8;\" x=\"30.103125\" xlink:href=\"#mbbbc73eb53\" y=\"228.439219\"/>\r\n      </g>\r\n     </g>\r\n     <g id=\"text_9\">\r\n      <!-- 0.0 -->\r\n      <g transform=\"translate(7.2 232.238437)scale(0.1 -0.1)\">\r\n       <use xlink:href=\"#DejaVuSans-48\"/>\r\n       <use x=\"63.623047\" xlink:href=\"#DejaVuSans-46\"/>\r\n       <use x=\"95.410156\" xlink:href=\"#DejaVuSans-48\"/>\r\n      </g>\r\n     </g>\r\n    </g>\r\n    <g id=\"ytick_2\">\r\n     <g id=\"line2d_19\">\r\n      <path clip-path=\"url(#p86dad68b03)\" d=\"M 30.103125 184.951219 \r\nL 364.903125 184.951219 \r\n\" style=\"fill:none;stroke:#b0b0b0;stroke-linecap:square;stroke-width:0.8;\"/>\r\n     </g>\r\n     <g id=\"line2d_20\">\r\n      <g>\r\n       <use style=\"stroke:#000000;stroke-width:0.8;\" x=\"30.103125\" xlink:href=\"#mbbbc73eb53\" y=\"184.951219\"/>\r\n      </g>\r\n     </g>\r\n     <g id=\"text_10\">\r\n      <!-- 0.2 -->\r\n      <g transform=\"translate(7.2 188.750437)scale(0.1 -0.1)\">\r\n       <use xlink:href=\"#DejaVuSans-48\"/>\r\n       <use x=\"63.623047\" xlink:href=\"#DejaVuSans-46\"/>\r\n       <use x=\"95.410156\" xlink:href=\"#DejaVuSans-50\"/>\r\n      </g>\r\n     </g>\r\n    </g>\r\n    <g id=\"ytick_3\">\r\n     <g id=\"line2d_21\">\r\n      <path clip-path=\"url(#p86dad68b03)\" d=\"M 30.103125 141.463219 \r\nL 364.903125 141.463219 \r\n\" style=\"fill:none;stroke:#b0b0b0;stroke-linecap:square;stroke-width:0.8;\"/>\r\n     </g>\r\n     <g id=\"line2d_22\">\r\n      <g>\r\n       <use style=\"stroke:#000000;stroke-width:0.8;\" x=\"30.103125\" xlink:href=\"#mbbbc73eb53\" y=\"141.463219\"/>\r\n      </g>\r\n     </g>\r\n     <g id=\"text_11\">\r\n      <!-- 0.4 -->\r\n      <g transform=\"translate(7.2 145.262437)scale(0.1 -0.1)\">\r\n       <defs>\r\n        <path d=\"M 37.796875 64.3125 \r\nL 12.890625 25.390625 \r\nL 37.796875 25.390625 \r\nz\r\nM 35.203125 72.90625 \r\nL 47.609375 72.90625 \r\nL 47.609375 25.390625 \r\nL 58.015625 25.390625 \r\nL 58.015625 17.1875 \r\nL 47.609375 17.1875 \r\nL 47.609375 0 \r\nL 37.796875 0 \r\nL 37.796875 17.1875 \r\nL 4.890625 17.1875 \r\nL 4.890625 26.703125 \r\nz\r\n\" id=\"DejaVuSans-52\"/>\r\n       </defs>\r\n       <use xlink:href=\"#DejaVuSans-48\"/>\r\n       <use x=\"63.623047\" xlink:href=\"#DejaVuSans-46\"/>\r\n       <use x=\"95.410156\" xlink:href=\"#DejaVuSans-52\"/>\r\n      </g>\r\n     </g>\r\n    </g>\r\n    <g id=\"ytick_4\">\r\n     <g id=\"line2d_23\">\r\n      <path clip-path=\"url(#p86dad68b03)\" d=\"M 30.103125 97.975219 \r\nL 364.903125 97.975219 \r\n\" style=\"fill:none;stroke:#b0b0b0;stroke-linecap:square;stroke-width:0.8;\"/>\r\n     </g>\r\n     <g id=\"line2d_24\">\r\n      <g>\r\n       <use style=\"stroke:#000000;stroke-width:0.8;\" x=\"30.103125\" xlink:href=\"#mbbbc73eb53\" y=\"97.975219\"/>\r\n      </g>\r\n     </g>\r\n     <g id=\"text_12\">\r\n      <!-- 0.6 -->\r\n      <g transform=\"translate(7.2 101.774437)scale(0.1 -0.1)\">\r\n       <defs>\r\n        <path d=\"M 33.015625 40.375 \r\nQ 26.375 40.375 22.484375 35.828125 \r\nQ 18.609375 31.296875 18.609375 23.390625 \r\nQ 18.609375 15.53125 22.484375 10.953125 \r\nQ 26.375 6.390625 33.015625 6.390625 \r\nQ 39.65625 6.390625 43.53125 10.953125 \r\nQ 47.40625 15.53125 47.40625 23.390625 \r\nQ 47.40625 31.296875 43.53125 35.828125 \r\nQ 39.65625 40.375 33.015625 40.375 \r\nz\r\nM 52.59375 71.296875 \r\nL 52.59375 62.3125 \r\nQ 48.875 64.0625 45.09375 64.984375 \r\nQ 41.3125 65.921875 37.59375 65.921875 \r\nQ 27.828125 65.921875 22.671875 59.328125 \r\nQ 17.53125 52.734375 16.796875 39.40625 \r\nQ 19.671875 43.65625 24.015625 45.921875 \r\nQ 28.375 48.1875 33.59375 48.1875 \r\nQ 44.578125 48.1875 50.953125 41.515625 \r\nQ 57.328125 34.859375 57.328125 23.390625 \r\nQ 57.328125 12.15625 50.6875 5.359375 \r\nQ 44.046875 -1.421875 33.015625 -1.421875 \r\nQ 20.359375 -1.421875 13.671875 8.265625 \r\nQ 6.984375 17.96875 6.984375 36.375 \r\nQ 6.984375 53.65625 15.1875 63.9375 \r\nQ 23.390625 74.21875 37.203125 74.21875 \r\nQ 40.921875 74.21875 44.703125 73.484375 \r\nQ 48.484375 72.75 52.59375 71.296875 \r\nz\r\n\" id=\"DejaVuSans-54\"/>\r\n       </defs>\r\n       <use xlink:href=\"#DejaVuSans-48\"/>\r\n       <use x=\"63.623047\" xlink:href=\"#DejaVuSans-46\"/>\r\n       <use x=\"95.410156\" xlink:href=\"#DejaVuSans-54\"/>\r\n      </g>\r\n     </g>\r\n    </g>\r\n    <g id=\"ytick_5\">\r\n     <g id=\"line2d_25\">\r\n      <path clip-path=\"url(#p86dad68b03)\" d=\"M 30.103125 54.487219 \r\nL 364.903125 54.487219 \r\n\" style=\"fill:none;stroke:#b0b0b0;stroke-linecap:square;stroke-width:0.8;\"/>\r\n     </g>\r\n     <g id=\"line2d_26\">\r\n      <g>\r\n       <use style=\"stroke:#000000;stroke-width:0.8;\" x=\"30.103125\" xlink:href=\"#mbbbc73eb53\" y=\"54.487219\"/>\r\n      </g>\r\n     </g>\r\n     <g id=\"text_13\">\r\n      <!-- 0.8 -->\r\n      <g transform=\"translate(7.2 58.286437)scale(0.1 -0.1)\">\r\n       <defs>\r\n        <path d=\"M 31.78125 34.625 \r\nQ 24.75 34.625 20.71875 30.859375 \r\nQ 16.703125 27.09375 16.703125 20.515625 \r\nQ 16.703125 13.921875 20.71875 10.15625 \r\nQ 24.75 6.390625 31.78125 6.390625 \r\nQ 38.8125 6.390625 42.859375 10.171875 \r\nQ 46.921875 13.96875 46.921875 20.515625 \r\nQ 46.921875 27.09375 42.890625 30.859375 \r\nQ 38.875 34.625 31.78125 34.625 \r\nz\r\nM 21.921875 38.8125 \r\nQ 15.578125 40.375 12.03125 44.71875 \r\nQ 8.5 49.078125 8.5 55.328125 \r\nQ 8.5 64.0625 14.71875 69.140625 \r\nQ 20.953125 74.21875 31.78125 74.21875 \r\nQ 42.671875 74.21875 48.875 69.140625 \r\nQ 55.078125 64.0625 55.078125 55.328125 \r\nQ 55.078125 49.078125 51.53125 44.71875 \r\nQ 48 40.375 41.703125 38.8125 \r\nQ 48.828125 37.15625 52.796875 32.3125 \r\nQ 56.78125 27.484375 56.78125 20.515625 \r\nQ 56.78125 9.90625 50.3125 4.234375 \r\nQ 43.84375 -1.421875 31.78125 -1.421875 \r\nQ 19.734375 -1.421875 13.25 4.234375 \r\nQ 6.78125 9.90625 6.78125 20.515625 \r\nQ 6.78125 27.484375 10.78125 32.3125 \r\nQ 14.796875 37.15625 21.921875 38.8125 \r\nz\r\nM 18.3125 54.390625 \r\nQ 18.3125 48.734375 21.84375 45.5625 \r\nQ 25.390625 42.390625 31.78125 42.390625 \r\nQ 38.140625 42.390625 41.71875 45.5625 \r\nQ 45.3125 48.734375 45.3125 54.390625 \r\nQ 45.3125 60.0625 41.71875 63.234375 \r\nQ 38.140625 66.40625 31.78125 66.40625 \r\nQ 25.390625 66.40625 21.84375 63.234375 \r\nQ 18.3125 60.0625 18.3125 54.390625 \r\nz\r\n\" id=\"DejaVuSans-56\"/>\r\n       </defs>\r\n       <use xlink:href=\"#DejaVuSans-48\"/>\r\n       <use x=\"63.623047\" xlink:href=\"#DejaVuSans-46\"/>\r\n       <use x=\"95.410156\" xlink:href=\"#DejaVuSans-56\"/>\r\n      </g>\r\n     </g>\r\n    </g>\r\n    <g id=\"ytick_6\">\r\n     <g id=\"line2d_27\">\r\n      <path clip-path=\"url(#p86dad68b03)\" d=\"M 30.103125 10.999219 \r\nL 364.903125 10.999219 \r\n\" style=\"fill:none;stroke:#b0b0b0;stroke-linecap:square;stroke-width:0.8;\"/>\r\n     </g>\r\n     <g id=\"line2d_28\">\r\n      <g>\r\n       <use style=\"stroke:#000000;stroke-width:0.8;\" x=\"30.103125\" xlink:href=\"#mbbbc73eb53\" y=\"10.999219\"/>\r\n      </g>\r\n     </g>\r\n     <g id=\"text_14\">\r\n      <!-- 1.0 -->\r\n      <g transform=\"translate(7.2 14.798437)scale(0.1 -0.1)\">\r\n       <use xlink:href=\"#DejaVuSans-49\"/>\r\n       <use x=\"63.623047\" xlink:href=\"#DejaVuSans-46\"/>\r\n       <use x=\"95.410156\" xlink:href=\"#DejaVuSans-48\"/>\r\n      </g>\r\n     </g>\r\n    </g>\r\n   </g>\r\n   <g id=\"line2d_29\">\r\n    <path clip-path=\"url(#p86dad68b03)\" d=\"M 55.349557 -1 \r\nL 61.340446 75.210017 \r\nL 77.359584 90.464396 \r\nL 93.378723 98.467425 \r\nL 109.397862 104.361662 \r\nL 125.417001 109.446105 \r\nL 141.436139 113.466211 \r\nL 157.455278 116.889852 \r\nL 173.474417 119.902233 \r\nL 189.493556 122.437385 \r\nL 205.512694 124.560699 \r\nL 221.531833 126.511458 \r\nL 237.550972 128.08849 \r\nL 253.570111 129.565442 \r\nL 269.589249 130.858498 \r\nL 285.608388 132.010959 \r\nL 301.627527 133.009716 \r\nL 317.646666 133.927477 \r\nL 333.665804 134.805741 \r\nL 349.684943 135.522148 \r\n\" style=\"fill:none;stroke:#1f77b4;stroke-linecap:square;stroke-width:1.5;\"/>\r\n   </g>\r\n   <g id=\"line2d_30\">\r\n    <path clip-path=\"url(#p86dad68b03)\" d=\"M 45.321307 42.321024 \r\nL 61.340446 86.434323 \r\nL 77.359584 95.823069 \r\nL 93.378723 105.402436 \r\nL 109.397862 112.008758 \r\nL 125.417001 115.95626 \r\nL 141.436139 117.956289 \r\nL 157.455278 124.08498 \r\nL 173.474417 126.469317 \r\nL 189.493556 127.191278 \r\nL 205.512694 130.974513 \r\nL 221.531833 131.044746 \r\nL 237.550972 135.032276 \r\nL 253.570111 136.396906 \r\nL 269.589249 137.64692 \r\nL 285.608388 138.789914 \r\nL 301.627527 139.908581 \r\nL 317.646666 140.663824 \r\nL 333.665804 141.456763 \r\nL 349.684943 142.129364 \r\n\" style=\"fill:none;stroke:#ff7f0e;stroke-linecap:square;stroke-width:1.5;\"/>\r\n   </g>\r\n   <g id=\"patch_3\">\r\n    <path d=\"M 30.103125 228.439219 \r\nL 30.103125 10.999219 \r\n\" style=\"fill:none;stroke:#000000;stroke-linecap:square;stroke-linejoin:miter;stroke-width:0.8;\"/>\r\n   </g>\r\n   <g id=\"patch_4\">\r\n    <path d=\"M 364.903125 228.439219 \r\nL 364.903125 10.999219 \r\n\" style=\"fill:none;stroke:#000000;stroke-linecap:square;stroke-linejoin:miter;stroke-width:0.8;\"/>\r\n   </g>\r\n   <g id=\"patch_5\">\r\n    <path d=\"M 30.103125 228.439219 \r\nL 364.903125 228.439219 \r\n\" style=\"fill:none;stroke:#000000;stroke-linecap:square;stroke-linejoin:miter;stroke-width:0.8;\"/>\r\n   </g>\r\n   <g id=\"patch_6\">\r\n    <path d=\"M 30.103125 10.999219 \r\nL 364.903125 10.999219 \r\n\" style=\"fill:none;stroke:#000000;stroke-linecap:square;stroke-linejoin:miter;stroke-width:0.8;\"/>\r\n   </g>\r\n  </g>\r\n </g>\r\n <defs>\r\n  <clipPath id=\"p86dad68b03\">\r\n   <rect height=\"217.44\" width=\"334.8\" x=\"30.103125\" y=\"10.999219\"/>\r\n  </clipPath>\r\n </defs>\r\n</svg>\r\n",
      "image/png": "[encoded data removed]"
     },
     "metadata": {
      "needs_background": "light"
     }
    }
   ],
   "source": [
    "plt.plot(pd.DataFrame(history.history))\n",
    "plt.grid(True)\n",
    "plt.gca().set_ylim(0, 1)\n",
    "plt.show()"
   ]
  },
  {
   "cell_type": "markdown",
   "metadata": {},
   "source": [
    "Finally, you can also explore model's predictions on some selected datapoints and compare them to the true values for these datapoints:"
   ]
  },
  {
   "cell_type": "code",
   "execution_count": 55,
   "metadata": {},
   "outputs": [
    {
     "output_type": "execute_result",
     "data": {
      "text/plain": [
       "array([[0.3885664],\n",
       "       [1.6792021],\n",
       "       [3.1022797]], dtype=float32)"
      ]
     },
     "metadata": {},
     "execution_count": 55
    }
   ],
   "source": [
    "X_new = X_test[:3]\n",
    "y_pred = reg_model.predict(X_new)\n",
    "\n",
    "y_pred"
   ]
  },
  {
   "cell_type": "code",
   "execution_count": 56,
   "metadata": {},
   "outputs": [
    {
     "output_type": "execute_result",
     "data": {
      "text/plain": [
       "array([0.477  , 0.458  , 5.00001])"
      ]
     },
     "metadata": {},
     "execution_count": 56
    }
   ],
   "source": [
    "y_test[:3]"
   ]
  },
  {
   "cell_type": "markdown",
   "metadata": {},
   "source": [
    "# Assignment: Classification of House Locations\n",
    "\n",
    "In the first practical, you used the California House Prices Dataset in order to predict the prices of the houses based on various properties about the houses. In this assignment, we will experiment with `TensorFlow` and train a model to predict the \"ocean proximity\" of a house.\n",
    "\n",
    "First, let's read in the dataset:"
   ]
  },
  {
   "cell_type": "code",
   "execution_count": 57,
   "metadata": {},
   "outputs": [
    {
     "output_type": "execute_result",
     "data": {
      "text/plain": [
       "   longitude  latitude  housing_median_age  total_rooms  total_bedrooms  \\\n",
       "0    -122.23     37.88                41.0        880.0           129.0   \n",
       "1    -122.22     37.86                21.0       7099.0          1106.0   \n",
       "2    -122.24     37.85                52.0       1467.0           190.0   \n",
       "3    -122.25     37.85                52.0       1274.0           235.0   \n",
       "4    -122.25     37.85                52.0       1627.0           280.0   \n",
       "\n",
       "   population  households  median_income  median_house_value ocean_proximity  \n",
       "0       322.0       126.0         8.3252            452600.0        NEAR BAY  \n",
       "1      2401.0      1138.0         8.3014            358500.0        NEAR BAY  \n",
       "2       496.0       177.0         7.2574            352100.0        NEAR BAY  \n",
       "3       558.0       219.0         5.6431            341300.0        NEAR BAY  \n",
       "4       565.0       259.0         3.8462            342200.0        NEAR BAY  "
      ],
      "text/html": "<div>\n<style scoped>\n    .dataframe tbody tr th:only-of-type {\n        vertical-align: middle;\n    }\n\n    .dataframe tbody tr th {\n        vertical-align: top;\n    }\n\n    .dataframe thead th {\n        text-align: right;\n    }\n</style>\n<table border=\"1\" class=\"dataframe\">\n  <thead>\n    <tr style=\"text-align: right;\">\n      <th></th>\n      <th>longitude</th>\n      <th>latitude</th>\n      <th>housing_median_age</th>\n      <th>total_rooms</th>\n      <th>total_bedrooms</th>\n      <th>population</th>\n      <th>households</th>\n      <th>median_income</th>\n      <th>median_house_value</th>\n      <th>ocean_proximity</th>\n    </tr>\n  </thead>\n  <tbody>\n    <tr>\n      <th>0</th>\n      <td>-122.23</td>\n      <td>37.88</td>\n      <td>41.0</td>\n      <td>880.0</td>\n      <td>129.0</td>\n      <td>322.0</td>\n      <td>126.0</td>\n      <td>8.3252</td>\n      <td>452600.0</td>\n      <td>NEAR BAY</td>\n    </tr>\n    <tr>\n      <th>1</th>\n      <td>-122.22</td>\n      <td>37.86</td>\n      <td>21.0</td>\n      <td>7099.0</td>\n      <td>1106.0</td>\n      <td>2401.0</td>\n      <td>1138.0</td>\n      <td>8.3014</td>\n      <td>358500.0</td>\n      <td>NEAR BAY</td>\n    </tr>\n    <tr>\n      <th>2</th>\n      <td>-122.24</td>\n      <td>37.85</td>\n      <td>52.0</td>\n      <td>1467.0</td>\n      <td>190.0</td>\n      <td>496.0</td>\n      <td>177.0</td>\n      <td>7.2574</td>\n      <td>352100.0</td>\n      <td>NEAR BAY</td>\n    </tr>\n    <tr>\n      <th>3</th>\n      <td>-122.25</td>\n      <td>37.85</td>\n      <td>52.0</td>\n      <td>1274.0</td>\n      <td>235.0</td>\n      <td>558.0</td>\n      <td>219.0</td>\n      <td>5.6431</td>\n      <td>341300.0</td>\n      <td>NEAR BAY</td>\n    </tr>\n    <tr>\n      <th>4</th>\n      <td>-122.25</td>\n      <td>37.85</td>\n      <td>52.0</td>\n      <td>1627.0</td>\n      <td>280.0</td>\n      <td>565.0</td>\n      <td>259.0</td>\n      <td>3.8462</td>\n      <td>342200.0</td>\n      <td>NEAR BAY</td>\n    </tr>\n  </tbody>\n</table>\n</div>"
     },
     "metadata": {},
     "execution_count": 57
    }
   ],
   "source": [
    "import pandas as pd\n",
    "data = pd.read_csv('housing/housing.csv')\n",
    "data.head()"
   ]
  },
  {
   "cell_type": "markdown",
   "metadata": {},
   "source": [
    "Next, we split the ocean proximity column from the other features and convert the values to numerical IDs. Remember, the `ocean_proximity` column already contains discrete classes, so it is well-suited for the classification task. However, these are strings and in order to optimise the softmax function in `TensorFlow`, we need numerical IDs instead of strings. We can use the `pandas` map function to do the conversion:"
   ]
  },
  {
   "cell_type": "code",
   "execution_count": 58,
   "metadata": {},
   "outputs": [],
   "source": [
    "X = data.copy().drop([\"ocean_proximity\"], axis=1)\n",
    "Y = data.copy()[\"ocean_proximity\"]\n",
    "Y = data.copy()[\"ocean_proximity\"].map({\"<1H OCEAN\":0, \"INLAND\":1, \"ISLAND\": 2, \"NEAR BAY\": 3, \"NEAR OCEAN\": 4}).values"
   ]
  },
  {
   "cell_type": "markdown",
   "metadata": {},
   "source": [
    "Now, let's split off some data for development and testing:\n"
   ]
  },
  {
   "cell_type": "code",
   "execution_count": 59,
   "metadata": {},
   "outputs": [],
   "source": [
    "from sklearn.model_selection import train_test_split\n",
    "\n",
    "X_train, X_test, y_train, y_test = train_test_split(X, Y, test_size=0.2, train_size=0.8, random_state=42)\n",
    "X_train, X_dev, y_train, y_dev = train_test_split(X_train, y_train, test_size=0.2, train_size=0.8, random_state=42)"
   ]
  },
  {
   "cell_type": "markdown",
   "metadata": {},
   "source": [
    "And finally, let's preprocess the input features before giving them to the network. We need to fill in missing values with the imputer, and standardise the values to a similar range using the scaler:"
   ]
  },
  {
   "cell_type": "code",
   "execution_count": 60,
   "metadata": {},
   "outputs": [],
   "source": [
    "from sklearn.impute import SimpleImputer \n",
    "from sklearn import preprocessing\n",
    "\n",
    "imputer = SimpleImputer(strategy=\"median\")\n",
    "imputer.fit(X_train)\n",
    "\n",
    "X_train = imputer.transform(X_train)\n",
    "X_dev = imputer.transform(X_dev)\n",
    "X_test = imputer.transform(X_test)\n",
    "\n",
    "scaler = preprocessing.StandardScaler().fit(X_train)\n",
    "\n",
    "X_train = scaler.transform(X_train)\n",
    "X_dev = scaler.transform(X_dev)\n",
    "X_test = scaler.transform(X_test)"
   ]
  },
  {
   "cell_type": "markdown",
   "metadata": {},
   "source": [
    "We now have a dataset that we can work with.\n",
    "\n",
    "Input features:"
   ]
  },
  {
   "cell_type": "code",
   "execution_count": 61,
   "metadata": {},
   "outputs": [
    {
     "output_type": "stream",
     "name": "stdout",
     "text": [
      "(13209, 9)\n(3303, 9)\n(4128, 9)\n[[-0.69155432  1.10281811 -0.12449485 -0.44361185 -0.60289408 -0.48710064\n  -0.64120663  0.44340968 -0.25873131]\n [ 0.8544348  -0.72493883 -1.07770852  1.75575918  1.99734983  1.69902706\n   2.04218568  0.00321001 -0.28999612]\n [ 0.86440892 -0.88428174 -0.20392932 -0.15088981 -0.02963101 -0.13535041\n  -0.16516379 -0.52181236 -0.01729749]]\n"
     ]
    }
   ],
   "source": [
    "print(X_train.shape)\n",
    "print(X_dev.shape)\n",
    "print(X_test.shape)\n",
    "print(X_train[:3])"
   ]
  },
  {
   "cell_type": "markdown",
   "metadata": {},
   "source": [
    "And the correstponding gold-standard labels:"
   ]
  },
  {
   "cell_type": "code",
   "execution_count": 62,
   "metadata": {},
   "outputs": [
    {
     "output_type": "stream",
     "name": "stdout",
     "text": [
      "(13209,)\n(3303,)\n(4128,)\n[1 0 0 4 1 1 3 0 0 0]\n"
     ]
    }
   ],
   "source": [
    "print(y_train.shape)\n",
    "print(y_dev.shape)\n",
    "print(y_test.shape)\n",
    "print(y_train[:10])"
   ]
  },
  {
   "cell_type": "markdown",
   "metadata": {},
   "source": [
    "Based on the code examples above, construct a `TensorFlow` model, then train, tune and test it on this dataset. Experiment with different model settings and hyperparameters. Calculate and evaluate classification accuracy - the percentage of datapoints where the predicted class matches the gold-standard class.\n",
    "\n",
    "During the practical session, give examples of what you tried and what your findings were.\n",
    "\n",
    "Some suggestions and tips:\n",
    "\n",
    "- The XOR classification code can be a good place to start.\n",
    "- The output layer needs to have size 5, because the dataset has 5 possible classes.\n",
    "- Try testing on the development set as you are training, to make sure you don't overfit.\n",
    "- Evaluate on the dev set as much as you want, but evaluate on the test set only after you have chosen a good set of hyperparameters.\n",
    "- You could try different learning rates, hidden layer sizes, learning strategies, etc.\n",
    "- Adaptive learning rates can (and sometimes should) be used together with a regular hand-picked learning rate, and different adaptive learning rates can prefer very different regular learning rates.\n",
    "\n",
    "There are a number of additional (optional) steps that you can try: you can visualise your network architecture, changes in loss and metrics, print out and visualise confusion matrices, implement \"traditional\" machine learning algorithms (e.g., from Practicals 2 and 3) and compare the results, etc. "
   ]
  },
  {
   "cell_type": "markdown",
   "metadata": {},
   "source": [
    "## Command needed \n",
    "Remove-Item -Recurse -Force -Path ./logs/"
   ]
  },
  {
   "cell_type": "code",
   "execution_count": 63,
   "metadata": {},
   "outputs": [
    {
     "output_type": "stream",
     "name": "stdout",
     "text": [
      "Epoch 1/100\n",
      "207/207 [==============================] - 0s 694us/step - loss: 0.8447\n",
      "Epoch 2/100\n",
      "207/207 [==============================] - 0s 675us/step - loss: 0.5711\n",
      "Epoch 3/100\n",
      "207/207 [==============================] - 0s 617us/step - loss: 0.4677\n",
      "Epoch 4/100\n",
      "207/207 [==============================] - 0s 622us/step - loss: 0.3832\n",
      "Epoch 5/100\n",
      "207/207 [==============================] - 0s 635us/step - loss: 0.3355\n",
      "Epoch 6/100\n",
      "207/207 [==============================] - 0s 636us/step - loss: 0.3072\n",
      "Epoch 7/100\n",
      "207/207 [==============================] - 0s 605us/step - loss: 0.2846\n",
      "Epoch 8/100\n",
      "207/207 [==============================] - 0s 747us/step - loss: 0.2719\n",
      "Epoch 9/100\n",
      "207/207 [==============================] - 0s 636us/step - loss: 0.2605\n",
      "Epoch 10/100\n",
      "207/207 [==============================] - 0s 646us/step - loss: 0.2499\n",
      "Epoch 11/100\n",
      "207/207 [==============================] - 0s 650us/step - loss: 0.2428\n",
      "Epoch 12/100\n",
      "207/207 [==============================] - 0s 641us/step - loss: 0.2335\n",
      "Epoch 13/100\n",
      "207/207 [==============================] - 0s 655us/step - loss: 0.2282\n",
      "Epoch 14/100\n",
      "207/207 [==============================] - 0s 631us/step - loss: 0.2224\n",
      "Epoch 15/100\n",
      "207/207 [==============================] - 0s 650us/step - loss: 0.2152\n",
      "Epoch 16/100\n",
      "207/207 [==============================] - 0s 607us/step - loss: 0.2115\n",
      "Epoch 17/100\n",
      "207/207 [==============================] - 0s 607us/step - loss: 0.2062\n",
      "Epoch 18/100\n",
      "207/207 [==============================] - 0s 655us/step - loss: 0.2041\n",
      "Epoch 19/100\n",
      "207/207 [==============================] - 0s 578us/step - loss: 0.1983\n",
      "Epoch 20/100\n",
      "207/207 [==============================] - 0s 612us/step - loss: 0.1950\n",
      "Epoch 21/100\n",
      "207/207 [==============================] - 0s 631us/step - loss: 0.1891\n",
      "Epoch 22/100\n",
      "207/207 [==============================] - 0s 599us/step - loss: 0.1899\n",
      "Epoch 23/100\n",
      "207/207 [==============================] - 0s 633us/step - loss: 0.1865\n",
      "Epoch 24/100\n",
      "207/207 [==============================] - 0s 635us/step - loss: 0.1828\n",
      "Epoch 25/100\n",
      "207/207 [==============================] - 0s 656us/step - loss: 0.1800\n",
      "Epoch 26/100\n",
      "207/207 [==============================] - 0s 597us/step - loss: 0.1786\n",
      "Epoch 27/100\n",
      "207/207 [==============================] - 0s 614us/step - loss: 0.1769\n",
      "Epoch 28/100\n",
      "207/207 [==============================] - 0s 643us/step - loss: 0.1754\n",
      "Epoch 29/100\n",
      "207/207 [==============================] - 0s 684us/step - loss: 0.1741\n",
      "Epoch 30/100\n",
      "207/207 [==============================] - 0s 684us/step - loss: 0.1708\n",
      "Epoch 31/100\n",
      "207/207 [==============================] - 0s 701us/step - loss: 0.1699\n",
      "Epoch 32/100\n",
      "207/207 [==============================] - 0s 659us/step - loss: 0.1701\n",
      "Epoch 33/100\n",
      "207/207 [==============================] - 0s 644us/step - loss: 0.1672\n",
      "Epoch 34/100\n",
      "207/207 [==============================] - 0s 655us/step - loss: 0.1652\n",
      "Epoch 35/100\n",
      "207/207 [==============================] - 0s 664us/step - loss: 0.1647\n",
      "Epoch 36/100\n",
      "207/207 [==============================] - 0s 660us/step - loss: 0.1639\n",
      "Epoch 37/100\n",
      "207/207 [==============================] - 0s 650us/step - loss: 0.1626\n",
      "Epoch 38/100\n",
      "207/207 [==============================] - 0s 689us/step - loss: 0.1612\n",
      "Epoch 39/100\n",
      "207/207 [==============================] - 0s 665us/step - loss: 0.1607\n",
      "Epoch 40/100\n",
      "207/207 [==============================] - 0s 640us/step - loss: 0.1625\n",
      "Epoch 41/100\n",
      "207/207 [==============================] - 0s 668us/step - loss: 0.1588\n",
      "Epoch 42/100\n",
      "207/207 [==============================] - 0s 635us/step - loss: 0.1584\n",
      "Epoch 43/100\n",
      "207/207 [==============================] - 0s 650us/step - loss: 0.1561\n",
      "Epoch 44/100\n",
      "207/207 [==============================] - 0s 626us/step - loss: 0.1559\n",
      "Epoch 45/100\n",
      "207/207 [==============================] - 0s 660us/step - loss: 0.1548\n",
      "Epoch 46/100\n",
      "207/207 [==============================] - 0s 657us/step - loss: 0.1546\n",
      "Epoch 47/100\n",
      "207/207 [==============================] - 0s 607us/step - loss: 0.1529\n",
      "Epoch 48/100\n",
      "207/207 [==============================] - 0s 650us/step - loss: 0.1514\n",
      "Epoch 49/100\n",
      "207/207 [==============================] - 0s 667us/step - loss: 0.1532\n",
      "Epoch 50/100\n",
      "207/207 [==============================] - 0s 646us/step - loss: 0.1500\n",
      "Epoch 51/100\n",
      "207/207 [==============================] - 0s 631us/step - loss: 0.1513\n",
      "Epoch 52/100\n",
      "207/207 [==============================] - 0s 580us/step - loss: 0.1501\n",
      "Epoch 53/100\n",
      "207/207 [==============================] - 0s 694us/step - loss: 0.1518\n",
      "Epoch 54/100\n",
      "207/207 [==============================] - 0s 620us/step - loss: 0.1490\n",
      "Epoch 55/100\n",
      "207/207 [==============================] - 0s 618us/step - loss: 0.1474\n",
      "Epoch 56/100\n",
      "207/207 [==============================] - 0s 674us/step - loss: 0.1482\n",
      "Epoch 57/100\n",
      "207/207 [==============================] - 0s 646us/step - loss: 0.1487\n",
      "Epoch 58/100\n",
      "207/207 [==============================] - 0s 643us/step - loss: 0.1457\n",
      "Epoch 59/100\n",
      "207/207 [==============================] - 0s 677us/step - loss: 0.1452\n",
      "Epoch 60/100\n",
      "207/207 [==============================] - 0s 660us/step - loss: 0.1465\n",
      "Epoch 61/100\n",
      "207/207 [==============================] - 0s 631us/step - loss: 0.1465\n",
      "Epoch 62/100\n",
      "207/207 [==============================] - 0s 666us/step - loss: 0.1442\n",
      "Epoch 63/100\n",
      "207/207 [==============================] - 0s 858us/step - loss: 0.1442\n",
      "Epoch 64/100\n",
      "207/207 [==============================] - 0s 602us/step - loss: 0.1435\n",
      "Epoch 65/100\n",
      "207/207 [==============================] - 0s 585us/step - loss: 0.1426\n",
      "Epoch 66/100\n",
      "207/207 [==============================] - 0s 617us/step - loss: 0.1442\n",
      "Epoch 67/100\n",
      "207/207 [==============================] - 0s 650us/step - loss: 0.1427\n",
      "Epoch 68/100\n",
      "207/207 [==============================] - 0s 668us/step - loss: 0.1405\n",
      "Epoch 69/100\n",
      "207/207 [==============================] - 0s 608us/step - loss: 0.1435\n",
      "Epoch 70/100\n",
      "207/207 [==============================] - 0s 602us/step - loss: 0.1384\n",
      "Epoch 71/100\n",
      "207/207 [==============================] - 0s 679us/step - loss: 0.1398\n",
      "Epoch 72/100\n",
      "207/207 [==============================] - 0s 628us/step - loss: 0.1397\n",
      "Epoch 73/100\n",
      "207/207 [==============================] - 0s 581us/step - loss: 0.1412\n",
      "Epoch 74/100\n",
      "207/207 [==============================] - 0s 607us/step - loss: 0.1398\n",
      "Epoch 75/100\n",
      "207/207 [==============================] - 0s 615us/step - loss: 0.1386\n",
      "Epoch 76/100\n",
      "207/207 [==============================] - 0s 647us/step - loss: 0.1380\n",
      "Epoch 77/100\n",
      "207/207 [==============================] - 0s 653us/step - loss: 0.1361\n",
      "Epoch 78/100\n",
      "207/207 [==============================] - 0s 681us/step - loss: 0.1363\n",
      "Epoch 79/100\n",
      "207/207 [==============================] - 0s 665us/step - loss: 0.1349\n",
      "Epoch 80/100\n",
      "207/207 [==============================] - 0s 660us/step - loss: 0.1365\n",
      "Epoch 81/100\n",
      "207/207 [==============================] - 0s 655us/step - loss: 0.1351\n",
      "Epoch 82/100\n",
      "207/207 [==============================] - 0s 689us/step - loss: 0.1374\n",
      "Epoch 83/100\n",
      "207/207 [==============================] - 0s 674us/step - loss: 0.1346\n",
      "Epoch 84/100\n",
      "207/207 [==============================] - 0s 651us/step - loss: 0.1336\n",
      "Epoch 85/100\n",
      "207/207 [==============================] - 0s 657us/step - loss: 0.1359\n",
      "Epoch 86/100\n",
      "207/207 [==============================] - 0s 663us/step - loss: 0.1356\n",
      "Epoch 87/100\n",
      "207/207 [==============================] - 0s 665us/step - loss: 0.1339\n",
      "Epoch 88/100\n",
      "207/207 [==============================] - 0s 665us/step - loss: 0.1344\n",
      "Epoch 89/100\n",
      "207/207 [==============================] - 0s 694us/step - loss: 0.1340\n",
      "Epoch 90/100\n",
      "207/207 [==============================] - 0s 636us/step - loss: 0.1322\n",
      "Epoch 91/100\n",
      "207/207 [==============================] - 0s 631us/step - loss: 0.1355\n",
      "Epoch 92/100\n",
      "207/207 [==============================] - 0s 685us/step - loss: 0.1333\n",
      "Epoch 93/100\n",
      "207/207 [==============================] - 0s 680us/step - loss: 0.1321\n",
      "Epoch 94/100\n",
      "207/207 [==============================] - 0s 675us/step - loss: 0.1311\n",
      "Epoch 95/100\n",
      "207/207 [==============================] - 0s 669us/step - loss: 0.1337\n",
      "Epoch 96/100\n",
      "207/207 [==============================] - 0s 679us/step - loss: 0.1322\n",
      "Epoch 97/100\n",
      "207/207 [==============================] - 0s 838us/step - loss: 0.1296\n",
      "Epoch 98/100\n",
      "207/207 [==============================] - 0s 708us/step - loss: 0.1316\n",
      "Epoch 99/100\n",
      "207/207 [==============================] - 0s 647us/step - loss: 0.1313\n",
      "Epoch 100/100\n",
      "207/207 [==============================] - 0s 675us/step - loss: 0.1324\n",
      "  1/413 [..............................] - ETA: 0s - loss: 0.1691WARNING:tensorflow:Callbacks method `on_test_batch_end` is slow compared to the batch time (batch time: 0.0000s vs `on_test_batch_end` time: 0.0010s). Check your callbacks.\n",
      "413/413 [==============================] - 0s 462us/step - loss: 0.2065\n",
      "final loss: 0.20647907257080078\n",
      "WARNING:tensorflow:5 out of the last 54 calls to <function Model.make_predict_function.<locals>.predict_function at 0x00000179072DBDC0> triggered tf.function retracing. Tracing is expensive and the excessive number of tracings could be due to (1) creating @tf.function repeatedly in a loop, (2) passing tensors with different shapes, (3) passing Python objects instead of tensors. For (1), please define your @tf.function outside of the loop. For (2), @tf.function has experimental_relax_shapes=True option that relaxes argument shapes that can avoid unnecessary retracing. For (3), please refer to https://www.tensorflow.org/tutorials/customization/performance#python_or_tensor_args and https://www.tensorflow.org/api_docs/python/tf/function for  more details.\n",
      "final predictions:\n",
      "[[5.8212545e-06 9.9999273e-01 1.3836267e-06 2.6248335e-08 8.7169507e-09]\n",
      " [4.5395842e-01 5.4603219e-01 6.9329421e-06 1.2246733e-06 1.2036679e-06]\n",
      " [9.9823749e-01 1.7231053e-03 4.0195296e-06 1.1955137e-07 3.5209723e-05]\n",
      " ...\n",
      " [6.7555279e-01 2.2788960e-03 1.3469299e-04 8.5805915e-08 3.2203349e-01]\n",
      " [9.8907286e-01 1.0913862e-02 4.1470903e-06 1.9260332e-07 8.8712977e-06]\n",
      " [9.9738389e-01 1.4735429e-04 3.2038506e-06 5.3848680e-08 2.4655925e-03]]\n"
     ]
    }
   ],
   "source": [
    "tf.keras.backend.clear_session()\n",
    "\n",
    "nonlinear_model = tf.keras.Sequential([\n",
    "    #tf.keras.layers.Dense(1, input_shape=(9,), activation='relu'),\n",
    "    tf.keras.layers.Dense(64, input_shape=(9,), activation='tanh'),\n",
    "    tf.keras.layers.Dense(32, input_shape=(64,), activation='relu'),\n",
    "    tf.keras.layers.Dense(8, input_shape=(16,), activation='tanh'), # input shape ??\n",
    "    tf.keras.layers.Dense(5, activation='softmax')\n",
    "])\n",
    "\n",
    "nonlinear_model.compile(optimizer=tf.keras.optimizers.Adadelta(learning_rate=1),\n",
    "                        loss='sparse_categorical_crossentropy')\n",
    "\n",
    "nonlinear_model.fit(X_train, y_train, batch_size=64, epochs=100)\n",
    "\n",
    "print('final loss:', nonlinear_model.evaluate(X_train, y_train))\n",
    "print('final predictions:', nonlinear_model.predict(X_train), sep='\\n')\n",
    "#test_loss, test_acc = nonlinear_model.evaluate(X_train, y_train, verbose=2)\n",
    "#print('\\nAccuracy:', test_acc)"
   ]
  },
  {
   "source": [
    "final loss: 0.2197697013616562 with batch_size=64, epochs=100), depth 2, Adadelta\n",
    "\n",
    "RMS prop = bad performance\n",
    "\n",
    "Adadelta = good\n"
   ],
   "cell_type": "markdown",
   "metadata": {}
  },
  {
   "cell_type": "code",
   "execution_count": 64,
   "metadata": {
    "tags": []
   },
   "outputs": [
    {
     "output_type": "stream",
     "name": "stdout",
     "text": [
      "\n",
      "After 10 epochs:\n",
      "104/104 - 0s - loss: 1.4896 - accuracy: 0.6194\n",
      "\n",
      "Accuracy: 0.6194368600845337\n",
      "\n",
      "After 20 epochs:\n",
      "104/104 - 0s - loss: 1.3800 - accuracy: 0.6131\n",
      "\n",
      "Accuracy: 0.6130790114402771\n",
      "\n",
      "After 30 epochs:\n",
      "104/104 - 0s - loss: 1.3228 - accuracy: 0.6318\n",
      "\n",
      "Accuracy: 0.6318498253822327\n",
      "\n",
      "After 40 epochs:\n",
      "104/104 - 0s - loss: 1.2873 - accuracy: 0.6609\n",
      "\n",
      "Accuracy: 0.6609143018722534\n",
      "\n",
      "After 50 epochs:\n",
      "104/104 - 0s - loss: 1.2571 - accuracy: 0.6960\n",
      "\n",
      "Accuracy: 0.6960338950157166\n",
      "\n",
      "After 60 epochs:\n",
      "104/104 - 0s - loss: 1.2282 - accuracy: 0.7269\n",
      "\n",
      "Accuracy: 0.7269149422645569\n",
      "\n",
      "After 70 epochs:\n",
      "104/104 - 0s - loss: 1.2029 - accuracy: 0.7466\n",
      "\n",
      "Accuracy: 0.7465940117835999\n",
      "\n",
      "After 80 epochs:\n",
      "104/104 - 0s - loss: 1.1842 - accuracy: 0.7608\n",
      "\n",
      "Accuracy: 0.7608234882354736\n",
      "\n",
      "After 90 epochs:\n",
      "104/104 - 0s - loss: 1.1711 - accuracy: 0.7672\n",
      "\n",
      "Accuracy: 0.7671813368797302\n",
      "\n",
      "After 100 epochs:\n",
      "104/104 - 0s - loss: 1.1614 - accuracy: 0.7705\n",
      "\n",
      "Accuracy: 0.7705116271972656\n"
     ]
    }
   ],
   "source": [
    "tf.keras.backend.clear_session()\n",
    "\n",
    "nonlinear_model = tf.keras.Sequential([\n",
    "    #tf.keras.layers.Dense(1, input_shape=(9,), activation='relu'),\n",
    "    tf.keras.layers.Dense(64, input_shape=(9,), activation='tanh'),\n",
    "    tf.keras.layers.Dense(32, input_shape=(64,), activation='relu'),\n",
    "    tf.keras.layers.Dense(8, input_shape=(16,), activation='tanh'), # input shape ?????\n",
    "    tf.keras.layers.Dense(5, activation='softmax')\n",
    "])\n",
    "\n",
    "nonlinear_model.compile(optimizer=tf.keras.optimizers.Adadelta(learning_rate=1),\n",
    "                        loss=tf.keras.losses.SparseCategoricalCrossentropy(from_logits=True), \n",
    "                        metrics=['accuracy'])\n",
    "\n",
    "for epoch in range(100):\n",
    "    nonlinear_model.train_on_batch(X_train, y_train)\n",
    "    predictions = nonlinear_model.predict(X_train)\n",
    "    result = tf.argmax(predictions, axis=1)\n",
    "    \n",
    "    if (epoch + 1) % 10 == 0:\n",
    "        #print('\\nAfter {} epochs:'.format(epoch+1), \" \".join([str(x) for x in result.numpy()]))\n",
    "        print('\\nAfter {} epochs:'.format(epoch+1))\n",
    "        test_loss, test_acc = nonlinear_model.evaluate(X_dev, y_dev, verbose=2)\n",
    "        print('\\nAccuracy:', test_acc)"
   ]
  },
  {
   "cell_type": "code",
   "execution_count": 65,
   "metadata": {},
   "outputs": [
    {
     "output_type": "stream",
     "name": "stdout",
     "text": [
      "[[5414  138    0  296    0]\n [ 397 3745    0   75    0]\n [   2    0    0    0    0]\n [ 283   78    0 1130    0]\n [1321   61    0  269    0]]\n"
     ]
    }
   ],
   "source": [
    "conf_mx = tf.math.confusion_matrix(y_train, result.numpy()).numpy()\n",
    "print(conf_mx)"
   ]
  },
  {
   "cell_type": "code",
   "execution_count": 66,
   "metadata": {},
   "outputs": [
    {
     "output_type": "stream",
     "name": "stdout",
     "text": [
      "Epoch 1/100\n",
      "207/207 [==============================] - 0s 588us/step - loss: 0.6535\n",
      "Epoch 2/100\n",
      "207/207 [==============================] - 0s 554us/step - loss: 0.4857\n",
      "Epoch 3/100\n",
      "207/207 [==============================] - 0s 588us/step - loss: 0.4649\n",
      "Epoch 4/100\n",
      "207/207 [==============================] - 0s 583us/step - loss: 0.4161\n",
      "Epoch 5/100\n",
      "207/207 [==============================] - 0s 549us/step - loss: 0.4104\n",
      "Epoch 6/100\n",
      "207/207 [==============================] - 0s 578us/step - loss: 0.3838\n",
      "Epoch 7/100\n",
      "207/207 [==============================] - 0s 573us/step - loss: 0.3747\n",
      "Epoch 8/100\n",
      "207/207 [==============================] - 0s 583us/step - loss: 0.3756\n",
      "Epoch 9/100\n",
      "207/207 [==============================] - 0s 626us/step - loss: 0.3550\n",
      "Epoch 10/100\n",
      "207/207 [==============================] - 0s 597us/step - loss: 0.3594\n",
      "Epoch 11/100\n",
      "207/207 [==============================] - 0s 564us/step - loss: 0.3438\n",
      "Epoch 12/100\n",
      "207/207 [==============================] - 0s 583us/step - loss: 0.3376\n",
      "Epoch 13/100\n",
      "207/207 [==============================] - 0s 602us/step - loss: 0.3332\n",
      "Epoch 14/100\n",
      "207/207 [==============================] - 0s 588us/step - loss: 0.3389\n",
      "Epoch 15/100\n",
      "207/207 [==============================] - 0s 781us/step - loss: 0.3266\n",
      "Epoch 16/100\n",
      "207/207 [==============================] - 0s 525us/step - loss: 0.3374\n",
      "Epoch 17/100\n",
      "207/207 [==============================] - 0s 546us/step - loss: 0.3230\n",
      "Epoch 18/100\n",
      "207/207 [==============================] - 0s 546us/step - loss: 0.3274\n",
      "Epoch 19/100\n",
      "207/207 [==============================] - 0s 530us/step - loss: 0.3292\n",
      "Epoch 20/100\n",
      "207/207 [==============================] - 0s 544us/step - loss: 0.3209\n",
      "Epoch 21/100\n",
      "207/207 [==============================] - 0s 502us/step - loss: 0.3054\n",
      "Epoch 22/100\n",
      "207/207 [==============================] - 0s 539us/step - loss: 0.3148\n",
      "Epoch 23/100\n",
      "207/207 [==============================] - 0s 519us/step - loss: 0.3101\n",
      "Epoch 24/100\n",
      "207/207 [==============================] - 0s 511us/step - loss: 0.3260\n",
      "Epoch 25/100\n",
      "207/207 [==============================] - 0s 536us/step - loss: 0.3061\n",
      "Epoch 26/100\n",
      "207/207 [==============================] - 0s 533us/step - loss: 0.3070\n",
      "Epoch 27/100\n",
      "207/207 [==============================] - 0s 568us/step - loss: 0.3308\n",
      "Epoch 28/100\n",
      "207/207 [==============================] - 0s 546us/step - loss: 0.3104\n",
      "Epoch 29/100\n",
      "207/207 [==============================] - 0s 543us/step - loss: 0.3186\n",
      "Epoch 30/100\n",
      "207/207 [==============================] - 0s 533us/step - loss: 0.3029\n",
      "Epoch 31/100\n",
      "207/207 [==============================] - 0s 535us/step - loss: 0.3116\n",
      "Epoch 32/100\n",
      "207/207 [==============================] - 0s 559us/step - loss: 0.3046\n",
      "Epoch 33/100\n",
      "207/207 [==============================] - 0s 564us/step - loss: 0.3247\n",
      "Epoch 34/100\n",
      "207/207 [==============================] - 0s 558us/step - loss: 0.2943\n",
      "Epoch 35/100\n",
      "207/207 [==============================] - 0s 542us/step - loss: 0.2908\n",
      "Epoch 36/100\n",
      "207/207 [==============================] - 0s 536us/step - loss: 0.3152\n",
      "Epoch 37/100\n",
      "207/207 [==============================] - 0s 511us/step - loss: 0.3129\n",
      "Epoch 38/100\n",
      "207/207 [==============================] - 0s 535us/step - loss: 0.3029\n",
      "Epoch 39/100\n",
      "207/207 [==============================] - 0s 533us/step - loss: 0.2889\n",
      "Epoch 40/100\n",
      "207/207 [==============================] - 0s 518us/step - loss: 0.3014\n",
      "Epoch 41/100\n",
      "207/207 [==============================] - 0s 535us/step - loss: 0.3238\n",
      "Epoch 42/100\n",
      "207/207 [==============================] - 0s 544us/step - loss: 0.3077\n",
      "Epoch 43/100\n",
      "207/207 [==============================] - 0s 555us/step - loss: 0.2855\n",
      "Epoch 44/100\n",
      "207/207 [==============================] - 0s 530us/step - loss: 0.3131\n",
      "Epoch 45/100\n",
      "207/207 [==============================] - 0s 524us/step - loss: 0.3091\n",
      "Epoch 46/100\n",
      "207/207 [==============================] - 0s 593us/step - loss: 0.2958\n",
      "Epoch 47/100\n",
      "207/207 [==============================] - 0s 548us/step - loss: 0.2924\n",
      "Epoch 48/100\n",
      "207/207 [==============================] - 0s 569us/step - loss: 0.2920\n",
      "Epoch 49/100\n",
      "207/207 [==============================] - 0s 558us/step - loss: 0.2896\n",
      "Epoch 50/100\n",
      "207/207 [==============================] - 0s 549us/step - loss: 0.2987\n",
      "Epoch 51/100\n",
      "207/207 [==============================] - 0s 554us/step - loss: 0.2824\n",
      "Epoch 52/100\n",
      "207/207 [==============================] - 0s 542us/step - loss: 0.2819\n",
      "Epoch 53/100\n",
      "207/207 [==============================] - 0s 593us/step - loss: 0.2880\n",
      "Epoch 54/100\n",
      "207/207 [==============================] - 0s 556us/step - loss: 0.2968\n",
      "Epoch 55/100\n",
      "207/207 [==============================] - 0s 592us/step - loss: 0.3085\n",
      "Epoch 56/100\n",
      "207/207 [==============================] - 0s 588us/step - loss: 0.2910\n",
      "Epoch 57/100\n",
      "207/207 [==============================] - 0s 554us/step - loss: 0.2980\n",
      "Epoch 58/100\n",
      "207/207 [==============================] - 0s 530us/step - loss: 0.3005\n",
      "Epoch 59/100\n",
      "207/207 [==============================] - 0s 508us/step - loss: 0.2831\n",
      "Epoch 60/100\n",
      "207/207 [==============================] - 0s 501us/step - loss: 0.2765\n",
      "Epoch 61/100\n",
      "207/207 [==============================] - 0s 534us/step - loss: 0.2800\n",
      "Epoch 62/100\n",
      "207/207 [==============================] - 0s 520us/step - loss: 0.2956\n",
      "Epoch 63/100\n",
      "207/207 [==============================] - 0s 549us/step - loss: 0.2922\n",
      "Epoch 64/100\n",
      "207/207 [==============================] - 0s 544us/step - loss: 0.2929\n",
      "Epoch 65/100\n",
      "207/207 [==============================] - 0s 514us/step - loss: 0.2878\n",
      "Epoch 66/100\n",
      "207/207 [==============================] - 0s 526us/step - loss: 0.2853\n",
      "Epoch 67/100\n",
      "207/207 [==============================] - 0s 529us/step - loss: 0.2813\n",
      "Epoch 68/100\n",
      "207/207 [==============================] - 0s 535us/step - loss: 0.2889\n",
      "Epoch 69/100\n",
      "207/207 [==============================] - 0s 643us/step - loss: 0.2893\n",
      "Epoch 70/100\n",
      "207/207 [==============================] - 0s 641us/step - loss: 0.3045\n",
      "Epoch 71/100\n",
      "207/207 [==============================] - 0s 546us/step - loss: 0.3018\n",
      "Epoch 72/100\n",
      "207/207 [==============================] - 0s 540us/step - loss: 0.2794\n",
      "Epoch 73/100\n",
      "207/207 [==============================] - 0s 525us/step - loss: 0.2927\n",
      "Epoch 74/100\n",
      "207/207 [==============================] - 0s 543us/step - loss: 0.2883\n",
      "Epoch 75/100\n",
      "207/207 [==============================] - 0s 558us/step - loss: 0.3119\n",
      "Epoch 76/100\n",
      "207/207 [==============================] - 0s 576us/step - loss: 0.3140\n",
      "Epoch 77/100\n",
      "207/207 [==============================] - 0s 571us/step - loss: 0.2752\n",
      "Epoch 78/100\n",
      "207/207 [==============================] - 0s 535us/step - loss: 0.2724\n",
      "Epoch 79/100\n",
      "207/207 [==============================] - 0s 571us/step - loss: 0.3012\n",
      "Epoch 80/100\n",
      "207/207 [==============================] - 0s 578us/step - loss: 0.2919\n",
      "Epoch 81/100\n",
      "207/207 [==============================] - 0s 569us/step - loss: 0.2971\n",
      "Epoch 82/100\n",
      "207/207 [==============================] - 0s 549us/step - loss: 0.2938\n",
      "Epoch 83/100\n",
      "207/207 [==============================] - 0s 540us/step - loss: 0.2793\n",
      "Epoch 84/100\n",
      "207/207 [==============================] - 0s 564us/step - loss: 0.2991\n",
      "Epoch 85/100\n",
      "207/207 [==============================] - 0s 569us/step - loss: 0.3038\n",
      "Epoch 86/100\n",
      "207/207 [==============================] - 0s 569us/step - loss: 0.3292\n",
      "Epoch 87/100\n",
      "207/207 [==============================] - 0s 585us/step - loss: 0.2873\n",
      "Epoch 88/100\n",
      "207/207 [==============================] - 0s 573us/step - loss: 0.2690\n",
      "Epoch 89/100\n",
      "207/207 [==============================] - 0s 545us/step - loss: 0.2931\n",
      "Epoch 90/100\n",
      "207/207 [==============================] - 0s 578us/step - loss: 0.2664\n",
      "Epoch 91/100\n",
      "207/207 [==============================] - 0s 522us/step - loss: 0.2916\n",
      "Epoch 92/100\n",
      "207/207 [==============================] - 0s 548us/step - loss: 0.2991\n",
      "Epoch 93/100\n",
      "207/207 [==============================] - 0s 540us/step - loss: 0.3112\n",
      "Epoch 94/100\n",
      "207/207 [==============================] - 0s 536us/step - loss: 0.2979\n",
      "Epoch 95/100\n",
      "207/207 [==============================] - 0s 552us/step - loss: 0.2810\n",
      "Epoch 96/100\n",
      "207/207 [==============================] - 0s 612us/step - loss: 0.3152\n",
      "Epoch 97/100\n",
      "207/207 [==============================] - 0s 572us/step - loss: 0.2682\n",
      "Epoch 98/100\n",
      "207/207 [==============================] - 0s 546us/step - loss: 0.2772\n",
      "Epoch 99/100\n",
      "207/207 [==============================] - 0s 547us/step - loss: 0.2987\n",
      "Epoch 100/100\n",
      "207/207 [==============================] - 0s 583us/step - loss: 0.2767\n",
      "413/413 [==============================] - 0s 468us/step - loss: 0.2719\n",
      "final loss: 0.2719167172908783\n"
     ]
    }
   ],
   "source": [
    "tf.keras.backend.clear_session()\n",
    "\n",
    "nonlinear_model = tf.keras.Sequential([\n",
    "    tf.keras.layers.Dense(10, input_shape=(9,), activation='relu'),\n",
    "    tf.keras.layers.Dense(5, activation='softmax')\n",
    "])\n",
    "\n",
    "nonlinear_model.compile(optimizer=tf.keras.optimizers.SGD(learning_rate=1),\n",
    "                        loss='sparse_categorical_crossentropy')\n",
    "\n",
    "nonlinear_model.fit(X_train, y_train, batch_size=64, epochs=100)\n",
    "\n",
    "print('final loss:', nonlinear_model.evaluate(X_train, y_train))\n",
    "#print('final predictions:', nonlinear_model.predict(xor_input), sep='\\n')"
   ]
  },
  {
   "source": [
    "## Tensorboard"
   ],
   "cell_type": "markdown",
   "metadata": {}
  },
  {
   "cell_type": "code",
   "execution_count": 67,
   "metadata": {},
   "outputs": [
    {
     "output_type": "stream",
     "name": "stdout",
     "text": [
      "The tensorboard extension is already loaded. To reload it, use:\n  %reload_ext tensorboard\n"
     ]
    }
   ],
   "source": [
    "# Load the TensorBoard notebook extension\n",
    "%load_ext tensorboard"
   ]
  },
  {
   "cell_type": "code",
   "execution_count": 68,
   "metadata": {},
   "outputs": [],
   "source": [
    "%reload_ext tensorboard"
   ]
  },
  {
   "cell_type": "code",
   "execution_count": 69,
   "metadata": {},
   "outputs": [],
   "source": [
    "import datetime"
   ]
  },
  {
   "cell_type": "code",
   "execution_count": null,
   "metadata": {},
   "outputs": [],
   "source": []
  },
  {
   "cell_type": "code",
   "execution_count": 70,
   "metadata": {},
   "outputs": [
    {
     "output_type": "stream",
     "name": "stdout",
     "text": [
      "Epoch 1/100\n",
      "  2/207 [..............................] - ETA: 3:38 - loss: 1.5968WARNING:tensorflow:Callbacks method `on_train_batch_end` is slow compared to the batch time (batch time: 0.0010s vs `on_train_batch_end` time: 2.1341s). Check your callbacks.\n",
      "207/207 [==============================] - 2s 12ms/step - loss: 0.8502 - val_loss: 0.6224\n",
      "Epoch 2/100\n",
      "207/207 [==============================] - 0s 824us/step - loss: 0.5086 - val_loss: 0.4446\n",
      "Epoch 3/100\n",
      "207/207 [==============================] - 0s 834us/step - loss: 0.4018 - val_loss: 0.3779\n",
      "Epoch 4/100\n",
      "207/207 [==============================] - 0s 930us/step - loss: 0.3527 - val_loss: 0.3418\n",
      "Epoch 5/100\n",
      "207/207 [==============================] - 0s 848us/step - loss: 0.3279 - val_loss: 0.3625\n",
      "Epoch 6/100\n",
      "207/207 [==============================] - 0s 867us/step - loss: 0.3110 - val_loss: 0.3274\n",
      "Epoch 7/100\n",
      "207/207 [==============================] - 0s 790us/step - loss: 0.2931 - val_loss: 0.3340\n",
      "Epoch 8/100\n",
      "207/207 [==============================] - 0s 838us/step - loss: 0.2826 - val_loss: 0.2971\n",
      "Epoch 9/100\n",
      "207/207 [==============================] - 0s 867us/step - loss: 0.2722 - val_loss: 0.2788\n",
      "Epoch 10/100\n",
      "207/207 [==============================] - 0s 882us/step - loss: 0.2597 - val_loss: 0.2675\n",
      "Epoch 11/100\n",
      "207/207 [==============================] - 0s 882us/step - loss: 0.2528 - val_loss: 0.2645\n",
      "Epoch 12/100\n",
      "207/207 [==============================] - 0s 882us/step - loss: 0.2437 - val_loss: 0.2517\n",
      "Epoch 13/100\n",
      "207/207 [==============================] - 0s 848us/step - loss: 0.2401 - val_loss: 0.2605\n",
      "Epoch 14/100\n",
      "207/207 [==============================] - 0s 809us/step - loss: 0.2332 - val_loss: 0.2449\n",
      "Epoch 15/100\n",
      "207/207 [==============================] - 0s 795us/step - loss: 0.2277 - val_loss: 0.2470\n",
      "Epoch 16/100\n",
      "207/207 [==============================] - 0s 752us/step - loss: 0.2225 - val_loss: 0.2187\n",
      "Epoch 17/100\n",
      "207/207 [==============================] - 0s 776us/step - loss: 0.2180 - val_loss: 0.2356\n",
      "Epoch 18/100\n",
      "207/207 [==============================] - 0s 781us/step - loss: 0.2146 - val_loss: 0.2224\n",
      "Epoch 19/100\n",
      "207/207 [==============================] - 0s 824us/step - loss: 0.2099 - val_loss: 0.2178\n",
      "Epoch 20/100\n",
      "207/207 [==============================] - 0s 829us/step - loss: 0.2049 - val_loss: 0.2127\n",
      "Epoch 21/100\n",
      "207/207 [==============================] - 0s 853us/step - loss: 0.1995 - val_loss: 0.1960\n",
      "Epoch 22/100\n",
      "207/207 [==============================] - 0s 814us/step - loss: 0.1992 - val_loss: 0.2045\n",
      "Epoch 23/100\n",
      "207/207 [==============================] - 0s 785us/step - loss: 0.1958 - val_loss: 0.2102\n",
      "Epoch 24/100\n",
      "207/207 [==============================] - 0s 1ms/step - loss: 0.1920 - val_loss: 0.2746\n",
      "Epoch 25/100\n",
      "207/207 [==============================] - 0s 858us/step - loss: 0.1897 - val_loss: 0.2095\n",
      "Epoch 26/100\n",
      "207/207 [==============================] - 0s 838us/step - loss: 0.1881 - val_loss: 0.2143\n",
      "Epoch 27/100\n",
      "207/207 [==============================] - 0s 824us/step - loss: 0.1848 - val_loss: 0.2348\n",
      "Epoch 28/100\n",
      "207/207 [==============================] - 0s 824us/step - loss: 0.1825 - val_loss: 0.2028\n",
      "Epoch 29/100\n",
      "207/207 [==============================] - 0s 814us/step - loss: 0.1822 - val_loss: 0.2041\n",
      "Epoch 30/100\n",
      "207/207 [==============================] - 0s 805us/step - loss: 0.1775 - val_loss: 0.2305\n",
      "Epoch 31/100\n",
      "207/207 [==============================] - 0s 824us/step - loss: 0.1767 - val_loss: 0.2082\n",
      "Epoch 32/100\n",
      "207/207 [==============================] - 0s 957us/step - loss: 0.1773 - val_loss: 0.2367\n",
      "Epoch 33/100\n",
      "207/207 [==============================] - 0s 870us/step - loss: 0.1745 - val_loss: 0.2048\n",
      "Epoch 34/100\n",
      "207/207 [==============================] - 0s 902us/step - loss: 0.1728 - val_loss: 0.2183\n",
      "Epoch 35/100\n",
      "207/207 [==============================] - 0s 874us/step - loss: 0.1723 - val_loss: 0.2279\n",
      "Epoch 36/100\n",
      "207/207 [==============================] - 0s 865us/step - loss: 0.1709 - val_loss: 0.1771\n",
      "Epoch 37/100\n",
      "207/207 [==============================] - 0s 908us/step - loss: 0.1692 - val_loss: 0.1900\n",
      "Epoch 38/100\n",
      "207/207 [==============================] - 0s 955us/step - loss: 0.1675 - val_loss: 0.2068\n",
      "Epoch 39/100\n",
      "207/207 [==============================] - 0s 957us/step - loss: 0.1674 - val_loss: 0.1860\n",
      "Epoch 40/100\n",
      "207/207 [==============================] - 0s 925us/step - loss: 0.1676 - val_loss: 0.1798\n",
      "Epoch 41/100\n",
      "207/207 [==============================] - 0s 1ms/step - loss: 0.1645 - val_loss: 0.2370\n",
      "Epoch 42/100\n",
      "207/207 [==============================] - 0s 896us/step - loss: 0.1639 - val_loss: 0.2220\n",
      "Epoch 43/100\n",
      "207/207 [==============================] - 0s 882us/step - loss: 0.1627 - val_loss: 0.1660\n",
      "Epoch 44/100\n",
      "207/207 [==============================] - 0s 849us/step - loss: 0.1614 - val_loss: 0.2342\n",
      "Epoch 45/100\n",
      "207/207 [==============================] - 0s 865us/step - loss: 0.1620 - val_loss: 0.1889\n",
      "Epoch 46/100\n",
      "207/207 [==============================] - 0s 836us/step - loss: 0.1611 - val_loss: 0.1837\n",
      "Epoch 47/100\n",
      "207/207 [==============================] - 0s 958us/step - loss: 0.1588 - val_loss: 0.2355\n",
      "Epoch 48/100\n",
      "207/207 [==============================] - 0s 875us/step - loss: 0.1583 - val_loss: 0.2054\n",
      "Epoch 49/100\n",
      "207/207 [==============================] - 0s 886us/step - loss: 0.1591 - val_loss: 0.1709\n",
      "Epoch 50/100\n",
      "207/207 [==============================] - 0s 891us/step - loss: 0.1552 - val_loss: 0.2169\n",
      "Epoch 51/100\n",
      "207/207 [==============================] - 0s 831us/step - loss: 0.1579 - val_loss: 0.1879\n",
      "Epoch 52/100\n",
      "207/207 [==============================] - 0s 878us/step - loss: 0.1571 - val_loss: 0.2530\n",
      "Epoch 53/100\n",
      "207/207 [==============================] - 0s 877us/step - loss: 0.1562 - val_loss: 0.1771\n",
      "Epoch 54/100\n",
      "207/207 [==============================] - 0s 866us/step - loss: 0.1542 - val_loss: 0.1728\n",
      "Epoch 55/100\n",
      "207/207 [==============================] - 0s 1ms/step - loss: 0.1521 - val_loss: 0.1797\n",
      "Epoch 56/100\n",
      "207/207 [==============================] - 0s 905us/step - loss: 0.1556 - val_loss: 0.1589\n",
      "Epoch 57/100\n",
      "207/207 [==============================] - 0s 841us/step - loss: 0.1553 - val_loss: 0.1887\n",
      "Epoch 58/100\n",
      "207/207 [==============================] - 0s 844us/step - loss: 0.1531 - val_loss: 0.1832\n",
      "Epoch 59/100\n",
      "207/207 [==============================] - 0s 935us/step - loss: 0.1506 - val_loss: 0.1615\n",
      "Epoch 60/100\n",
      "207/207 [==============================] - 0s 878us/step - loss: 0.1530 - val_loss: 0.1982\n",
      "Epoch 61/100\n",
      "207/207 [==============================] - 0s 822us/step - loss: 0.1520 - val_loss: 0.1892\n",
      "Epoch 62/100\n",
      "207/207 [==============================] - 0s 841us/step - loss: 0.1513 - val_loss: 0.1750\n",
      "Epoch 63/100\n",
      "207/207 [==============================] - 0s 932us/step - loss: 0.1511 - val_loss: 0.1899\n",
      "Epoch 64/100\n",
      "207/207 [==============================] - 0s 869us/step - loss: 0.1507 - val_loss: 0.1814\n",
      "Epoch 65/100\n",
      "207/207 [==============================] - 0s 890us/step - loss: 0.1491 - val_loss: 0.1956\n",
      "Epoch 66/100\n",
      "207/207 [==============================] - 0s 901us/step - loss: 0.1515 - val_loss: 0.1646\n",
      "Epoch 67/100\n",
      "207/207 [==============================] - 0s 959us/step - loss: 0.1498 - val_loss: 0.2059\n",
      "Epoch 68/100\n",
      "207/207 [==============================] - 0s 1ms/step - loss: 0.1482 - val_loss: 0.1778\n",
      "Epoch 69/100\n",
      "207/207 [==============================] - 0s 1ms/step - loss: 0.1492 - val_loss: 0.2318\n",
      "Epoch 70/100\n",
      "207/207 [==============================] - 0s 925us/step - loss: 0.1442 - val_loss: 0.2441\n",
      "Epoch 71/100\n",
      "207/207 [==============================] - 0s 888us/step - loss: 0.1479 - val_loss: 0.1608\n",
      "Epoch 72/100\n",
      "207/207 [==============================] - 0s 849us/step - loss: 0.1460 - val_loss: 0.1551\n",
      "Epoch 73/100\n",
      "207/207 [==============================] - 0s 879us/step - loss: 0.1493 - val_loss: 0.2077\n",
      "Epoch 74/100\n",
      "207/207 [==============================] - 0s 867us/step - loss: 0.1455 - val_loss: 0.1739\n",
      "Epoch 75/100\n",
      "207/207 [==============================] - 0s 890us/step - loss: 0.1474 - val_loss: 0.1779\n",
      "Epoch 76/100\n",
      "207/207 [==============================] - 0s 847us/step - loss: 0.1429 - val_loss: 0.2237\n",
      "Epoch 77/100\n",
      "207/207 [==============================] - 0s 865us/step - loss: 0.1433 - val_loss: 0.2312\n",
      "Epoch 78/100\n",
      "207/207 [==============================] - 0s 803us/step - loss: 0.1429 - val_loss: 0.2095\n",
      "Epoch 79/100\n",
      "207/207 [==============================] - 0s 912us/step - loss: 0.1436 - val_loss: 0.1643\n",
      "Epoch 80/100\n",
      "207/207 [==============================] - 0s 919us/step - loss: 0.1416 - val_loss: 0.1857\n",
      "Epoch 81/100\n",
      "207/207 [==============================] - 0s 871us/step - loss: 0.1398 - val_loss: 0.1998\n",
      "Epoch 82/100\n",
      "207/207 [==============================] - 0s 830us/step - loss: 0.1428 - val_loss: 0.1607\n",
      "Epoch 83/100\n",
      "207/207 [==============================] - 0s 863us/step - loss: 0.1407 - val_loss: 0.1815\n",
      "Epoch 84/100\n",
      "207/207 [==============================] - 0s 911us/step - loss: 0.1416 - val_loss: 0.1636\n",
      "Epoch 85/100\n",
      "207/207 [==============================] - 0s 893us/step - loss: 0.1414 - val_loss: 0.1976\n",
      "Epoch 86/100\n",
      "207/207 [==============================] - 0s 901us/step - loss: 0.1448 - val_loss: 0.1541\n",
      "Epoch 87/100\n",
      "207/207 [==============================] - 0s 857us/step - loss: 0.1408 - val_loss: 0.1541\n",
      "Epoch 88/100\n",
      "207/207 [==============================] - 0s 899us/step - loss: 0.1411 - val_loss: 0.2422\n",
      "Epoch 89/100\n",
      "207/207 [==============================] - 0s 863us/step - loss: 0.1406 - val_loss: 0.1940\n",
      "Epoch 90/100\n",
      "207/207 [==============================] - 0s 878us/step - loss: 0.1407 - val_loss: 0.1710\n",
      "Epoch 91/100\n",
      "207/207 [==============================] - 0s 918us/step - loss: 0.1419 - val_loss: 0.2244\n",
      "Epoch 92/100\n",
      "207/207 [==============================] - 0s 870us/step - loss: 0.1395 - val_loss: 0.1532\n",
      "Epoch 93/100\n",
      "207/207 [==============================] - 0s 882us/step - loss: 0.1390 - val_loss: 0.1990\n",
      "Epoch 94/100\n",
      "207/207 [==============================] - 0s 932us/step - loss: 0.1363 - val_loss: 0.1735\n",
      "Epoch 95/100\n",
      "207/207 [==============================] - 0s 946us/step - loss: 0.1386 - val_loss: 0.1571\n",
      "Epoch 96/100\n",
      "207/207 [==============================] - 0s 954us/step - loss: 0.1372 - val_loss: 0.1760\n",
      "Epoch 97/100\n",
      "207/207 [==============================] - 0s 1ms/step - loss: 0.1375 - val_loss: 0.1542\n",
      "Epoch 98/100\n",
      "207/207 [==============================] - 0s 1ms/step - loss: 0.1352 - val_loss: 0.2579\n",
      "Epoch 99/100\n",
      "207/207 [==============================] - 0s 1ms/step - loss: 0.1359 - val_loss: 0.1556\n",
      "Epoch 100/100\n",
      "207/207 [==============================] - 0s 954us/step - loss: 0.1361 - val_loss: 0.1711\n",
      "104/104 [==============================] - 0s 470us/step - loss: 0.1711\n",
      "final loss: 0.17112526297569275\n"
     ]
    }
   ],
   "source": [
    "tf.keras.backend.clear_session()\n",
    "\n",
    "nonlinear_model = tf.keras.Sequential([\n",
    "    tf.keras.layers.Dense(64, input_shape=(9,), activation='tanh'),\n",
    "    tf.keras.layers.Dense(32, input_shape=(64,), activation='relu'),\n",
    "    tf.keras.layers.Dense(8, input_shape=(16,), activation='tanh'), # input shape ?????\n",
    "    tf.keras.layers.Dense(5, activation='softmax')])\n",
    "\n",
    "nonlinear_model.compile(optimizer=tf.keras.optimizers.Adadelta(learning_rate=1),\n",
    "                        loss='sparse_categorical_crossentropy')\n",
    "\n",
    "log_dir = \"logs/fit/\" + datetime.datetime.now().strftime(\"%Y%m%d-%H%M%S\")\n",
    "tensorboard_callback = tf.keras.callbacks.TensorBoard(log_dir=log_dir, histogram_freq=1)\n",
    "\n",
    "nonlinear_model.fit(X_train, y_train, \n",
    "                    batch_size=64, epochs=100, \n",
    "                    validation_data=(X_dev, y_dev),\n",
    "                    callbacks=[tensorboard_callback])\n",
    "\n",
    "print('final loss:', nonlinear_model.evaluate(X_dev, y_dev))\n",
    "#print('final predictions:', nonlinear_model.predict(xor_input), sep='\\n')"
   ]
  },
  {
   "cell_type": "code",
   "execution_count": 71,
   "metadata": {},
   "outputs": [
    {
     "output_type": "display_data",
     "data": {
      "text/plain": "Reusing TensorBoard on port 6006 (pid 3400), started 1:59:34 ago. (Use '!kill 3400' to kill it.)"
     },
     "metadata": {}
    }
   ],
   "source": [
    "%tensorboard --logdir logs/fit --host localhost\n",
    "# or go to http://localhost:6006/"
   ]
  },
  {
   "source": [
    "## Keeping track of the history"
   ],
   "cell_type": "markdown",
   "metadata": {}
  },
  {
   "cell_type": "code",
   "execution_count": 72,
   "metadata": {},
   "outputs": [],
   "source": [
    "tf.keras.backend.clear_session()\n",
    "\n",
    "nonlinear_model = tf.keras.Sequential([\n",
    "    tf.keras.layers.Dense(64, input_shape=(9,), activation='tanh'),\n",
    "    tf.keras.layers.Dense(32, input_shape=(64,), activation='relu'),\n",
    "    tf.keras.layers.Dense(8, input_shape=(16,), activation='tanh'), # input shape ?????\n",
    "    tf.keras.layers.Dense(5, activation='softmax')])"
   ]
  },
  {
   "cell_type": "code",
   "execution_count": 73,
   "metadata": {},
   "outputs": [
    {
     "output_type": "execute_result",
     "data": {
      "text/plain": [
       "[<tensorflow.python.keras.layers.core.Dense at 0x179004a29a0>,\n",
       " <tensorflow.python.keras.layers.core.Dense at 0x17900791d00>,\n",
       " <tensorflow.python.keras.layers.core.Dense at 0x17908b93100>,\n",
       " <tensorflow.python.keras.layers.core.Dense at 0x179006afc10>]"
      ]
     },
     "metadata": {},
     "execution_count": 73
    }
   ],
   "source": [
    "nonlinear_model.layers"
   ]
  },
  {
   "cell_type": "code",
   "execution_count": 74,
   "metadata": {},
   "outputs": [
    {
     "output_type": "stream",
     "name": "stdout",
     "text": [
      "Model: \"sequential\"\n_________________________________________________________________\nLayer (type)                 Output Shape              Param #   \n=================================================================\ndense (Dense)                (None, 64)                640       \n_________________________________________________________________\ndense_1 (Dense)              (None, 32)                2080      \n_________________________________________________________________\ndense_2 (Dense)              (None, 8)                 264       \n_________________________________________________________________\ndense_3 (Dense)              (None, 5)                 45        \n=================================================================\nTotal params: 3,029\nTrainable params: 3,029\nNon-trainable params: 0\n_________________________________________________________________\n"
     ]
    }
   ],
   "source": [
    "nonlinear_model.summary()"
   ]
  },
  {
   "cell_type": "code",
   "execution_count": 75,
   "metadata": {},
   "outputs": [
    {
     "output_type": "execute_result",
     "data": {
      "image/png": "[encoded data removed]",
      "text/plain": [
       "<IPython.core.display.Image object>"
      ]
     },
     "metadata": {},
     "execution_count": 75
    }
   ],
   "source": [
    "tf.keras.utils.plot_model(nonlinear_model, show_shapes=True)"
   ]
  },
  {
   "cell_type": "code",
   "execution_count": 76,
   "metadata": {},
   "outputs": [
    {
     "output_type": "execute_result",
     "data": {
      "text/plain": [
       "'dense_1'"
      ]
     },
     "metadata": {},
     "execution_count": 76
    }
   ],
   "source": [
    "hidden1 = nonlinear_model.layers[1]\n",
    "hidden1.name"
   ]
  },
  {
   "cell_type": "code",
   "execution_count": 77,
   "metadata": {},
   "outputs": [],
   "source": [
    "weights, biases = hidden1.get_weights()"
   ]
  },
  {
   "cell_type": "code",
   "execution_count": 78,
   "metadata": {},
   "outputs": [
    {
     "output_type": "execute_result",
     "data": {
      "text/plain": [
       "array([[-0.06223363, -0.22846657, -0.07689464, ..., -0.10932827,\n",
       "         0.02013302,  0.23874688],\n",
       "       [ 0.2138378 , -0.14235729, -0.16573298, ..., -0.16302538,\n",
       "         0.10364157,  0.01436538],\n",
       "       [-0.14882928,  0.22484434,  0.1843    , ...,  0.23599887,\n",
       "        -0.18232685,  0.0294525 ],\n",
       "       ...,\n",
       "       [-0.2431221 , -0.0520643 , -0.10374695, ..., -0.09917325,\n",
       "        -0.07757515, -0.06648576],\n",
       "       [-0.19586313,  0.01084602, -0.03111851, ...,  0.16966844,\n",
       "        -0.14623338, -0.24761206],\n",
       "       [-0.05921841, -0.22297907,  0.21548402, ..., -0.01424277,\n",
       "         0.1579057 , -0.1023556 ]], dtype=float32)"
      ]
     },
     "metadata": {},
     "execution_count": 78
    }
   ],
   "source": [
    "weights"
   ]
  },
  {
   "cell_type": "code",
   "execution_count": 79,
   "metadata": {},
   "outputs": [
    {
     "output_type": "execute_result",
     "data": {
      "text/plain": [
       "(64, 32)"
      ]
     },
     "metadata": {},
     "execution_count": 79
    }
   ],
   "source": [
    "weights.shape"
   ]
  },
  {
   "cell_type": "code",
   "execution_count": 80,
   "metadata": {},
   "outputs": [
    {
     "output_type": "execute_result",
     "data": {
      "text/plain": [
       "array([0., 0., 0., 0., 0., 0., 0., 0., 0., 0., 0., 0., 0., 0., 0., 0., 0.,\n",
       "       0., 0., 0., 0., 0., 0., 0., 0., 0., 0., 0., 0., 0., 0., 0.],\n",
       "      dtype=float32)"
      ]
     },
     "metadata": {},
     "execution_count": 80
    }
   ],
   "source": [
    "biases"
   ]
  },
  {
   "cell_type": "code",
   "execution_count": 81,
   "metadata": {},
   "outputs": [
    {
     "output_type": "execute_result",
     "data": {
      "text/plain": [
       "(32,)"
      ]
     },
     "metadata": {},
     "execution_count": 81
    }
   ],
   "source": [
    "biases.shape"
   ]
  },
  {
   "cell_type": "code",
   "execution_count": 82,
   "metadata": {},
   "outputs": [
    {
     "output_type": "stream",
     "name": "stdout",
     "text": [
      "Epoch 1/50\n",
      "207/207 [==============================] - 0s 2ms/step - loss: 0.8715 - accuracy: 0.6994 - val_loss: 0.6067 - val_accuracy: 0.7735\n",
      "Epoch 2/50\n",
      "207/207 [==============================] - 0s 1ms/step - loss: 0.5135 - accuracy: 0.8036 - val_loss: 0.4501 - val_accuracy: 0.8214\n",
      "Epoch 3/50\n",
      "207/207 [==============================] - 0s 1ms/step - loss: 0.4082 - accuracy: 0.8412 - val_loss: 0.3733 - val_accuracy: 0.8625\n",
      "Epoch 4/50\n",
      "207/207 [==============================] - 0s 1ms/step - loss: 0.3596 - accuracy: 0.8537 - val_loss: 0.3435 - val_accuracy: 0.8535\n",
      "Epoch 5/50\n",
      "207/207 [==============================] - 0s 990us/step - loss: 0.3309 - accuracy: 0.8643 - val_loss: 0.3383 - val_accuracy: 0.8635\n",
      "Epoch 6/50\n",
      "207/207 [==============================] - 0s 1ms/step - loss: 0.3122 - accuracy: 0.8738 - val_loss: 0.3282 - val_accuracy: 0.8622\n",
      "Epoch 7/50\n",
      "207/207 [==============================] - 0s 997us/step - loss: 0.2937 - accuracy: 0.8793 - val_loss: 0.3258 - val_accuracy: 0.8686\n",
      "Epoch 8/50\n",
      "207/207 [==============================] - 0s 1ms/step - loss: 0.2834 - accuracy: 0.8839 - val_loss: 0.2864 - val_accuracy: 0.8856\n",
      "Epoch 9/50\n",
      "207/207 [==============================] - 0s 967us/step - loss: 0.2735 - accuracy: 0.8889 - val_loss: 0.2842 - val_accuracy: 0.8795\n",
      "Epoch 10/50\n",
      "207/207 [==============================] - 0s 934us/step - loss: 0.2626 - accuracy: 0.8941 - val_loss: 0.2703 - val_accuracy: 0.8859\n",
      "Epoch 11/50\n",
      "207/207 [==============================] - 0s 1ms/step - loss: 0.2563 - accuracy: 0.8942 - val_loss: 0.2620 - val_accuracy: 0.8910\n",
      "Epoch 12/50\n",
      "207/207 [==============================] - 0s 994us/step - loss: 0.2465 - accuracy: 0.8990 - val_loss: 0.2508 - val_accuracy: 0.9074\n",
      "Epoch 13/50\n",
      "207/207 [==============================] - 0s 1ms/step - loss: 0.2412 - accuracy: 0.9021 - val_loss: 0.2804 - val_accuracy: 0.8789\n",
      "Epoch 14/50\n",
      "207/207 [==============================] - 0s 1ms/step - loss: 0.2341 - accuracy: 0.9051 - val_loss: 0.2500 - val_accuracy: 0.8880\n",
      "Epoch 15/50\n",
      "207/207 [==============================] - 0s 1ms/step - loss: 0.2289 - accuracy: 0.9107 - val_loss: 0.2554 - val_accuracy: 0.9031\n",
      "Epoch 16/50\n",
      "207/207 [==============================] - 0s 1ms/step - loss: 0.2225 - accuracy: 0.9104 - val_loss: 0.2197 - val_accuracy: 0.9152\n",
      "Epoch 17/50\n",
      "207/207 [==============================] - 0s 1ms/step - loss: 0.2186 - accuracy: 0.9120 - val_loss: 0.2244 - val_accuracy: 0.9092\n",
      "Epoch 18/50\n",
      "207/207 [==============================] - 0s 1ms/step - loss: 0.2153 - accuracy: 0.9144 - val_loss: 0.2166 - val_accuracy: 0.9131\n",
      "Epoch 19/50\n",
      "207/207 [==============================] - 0s 1ms/step - loss: 0.2101 - accuracy: 0.9176 - val_loss: 0.2142 - val_accuracy: 0.9134\n",
      "Epoch 20/50\n",
      "207/207 [==============================] - 0s 1ms/step - loss: 0.2071 - accuracy: 0.9156 - val_loss: 0.2106 - val_accuracy: 0.9195\n",
      "Epoch 21/50\n",
      "207/207 [==============================] - 0s 940us/step - loss: 0.2004 - accuracy: 0.9206 - val_loss: 0.1979 - val_accuracy: 0.9228\n",
      "Epoch 22/50\n",
      "207/207 [==============================] - 0s 960us/step - loss: 0.2008 - accuracy: 0.9179 - val_loss: 0.2081 - val_accuracy: 0.9195\n",
      "Epoch 23/50\n",
      "207/207 [==============================] - 0s 987us/step - loss: 0.1971 - accuracy: 0.9195 - val_loss: 0.2268 - val_accuracy: 0.9077\n",
      "Epoch 24/50\n",
      "207/207 [==============================] - 0s 917us/step - loss: 0.1943 - accuracy: 0.9227 - val_loss: 0.2505 - val_accuracy: 0.8989\n",
      "Epoch 25/50\n",
      "207/207 [==============================] - 0s 1ms/step - loss: 0.1920 - accuracy: 0.9205 - val_loss: 0.2142 - val_accuracy: 0.9228\n",
      "Epoch 26/50\n",
      "207/207 [==============================] - 0s 1ms/step - loss: 0.1889 - accuracy: 0.9229 - val_loss: 0.2080 - val_accuracy: 0.9177\n",
      "Epoch 27/50\n",
      "207/207 [==============================] - 0s 949us/step - loss: 0.1890 - accuracy: 0.9254 - val_loss: 0.2406 - val_accuracy: 0.9064\n",
      "Epoch 28/50\n",
      "207/207 [==============================] - 0s 964us/step - loss: 0.1851 - accuracy: 0.9252 - val_loss: 0.1896 - val_accuracy: 0.9246\n",
      "Epoch 29/50\n",
      "207/207 [==============================] - 0s 949us/step - loss: 0.1838 - accuracy: 0.9275 - val_loss: 0.2044 - val_accuracy: 0.9192\n",
      "Epoch 30/50\n",
      "207/207 [==============================] - 0s 941us/step - loss: 0.1810 - accuracy: 0.9267 - val_loss: 0.2186 - val_accuracy: 0.9155\n",
      "Epoch 31/50\n",
      "207/207 [==============================] - 0s 952us/step - loss: 0.1799 - accuracy: 0.9269 - val_loss: 0.1928 - val_accuracy: 0.9207\n",
      "Epoch 32/50\n",
      "207/207 [==============================] - 0s 997us/step - loss: 0.1778 - accuracy: 0.9278 - val_loss: 0.2051 - val_accuracy: 0.9195\n",
      "Epoch 33/50\n",
      "207/207 [==============================] - 0s 943us/step - loss: 0.1769 - accuracy: 0.9268 - val_loss: 0.1898 - val_accuracy: 0.9252\n",
      "Epoch 34/50\n",
      "207/207 [==============================] - 0s 892us/step - loss: 0.1745 - accuracy: 0.9291 - val_loss: 0.2058 - val_accuracy: 0.9164\n",
      "Epoch 35/50\n",
      "207/207 [==============================] - 0s 895us/step - loss: 0.1729 - accuracy: 0.9276 - val_loss: 0.2319 - val_accuracy: 0.9113\n",
      "Epoch 36/50\n",
      "207/207 [==============================] - 0s 941us/step - loss: 0.1739 - accuracy: 0.9285 - val_loss: 0.2089 - val_accuracy: 0.9222\n",
      "Epoch 37/50\n",
      "207/207 [==============================] - 0s 1ms/step - loss: 0.1703 - accuracy: 0.9301 - val_loss: 0.1922 - val_accuracy: 0.9255\n",
      "Epoch 38/50\n",
      "207/207 [==============================] - 0s 1ms/step - loss: 0.1699 - accuracy: 0.9284 - val_loss: 0.1971 - val_accuracy: 0.9140\n",
      "Epoch 39/50\n",
      "207/207 [==============================] - 0s 994us/step - loss: 0.1676 - accuracy: 0.9299 - val_loss: 0.1755 - val_accuracy: 0.9331\n",
      "Epoch 40/50\n",
      "207/207 [==============================] - 0s 917us/step - loss: 0.1684 - accuracy: 0.9315 - val_loss: 0.1866 - val_accuracy: 0.9219\n",
      "Epoch 41/50\n",
      "207/207 [==============================] - 0s 989us/step - loss: 0.1663 - accuracy: 0.9298 - val_loss: 0.2105 - val_accuracy: 0.9167\n",
      "Epoch 42/50\n",
      "207/207 [==============================] - 0s 913us/step - loss: 0.1642 - accuracy: 0.9304 - val_loss: 0.1981 - val_accuracy: 0.9261\n",
      "Epoch 43/50\n",
      "207/207 [==============================] - 0s 920us/step - loss: 0.1631 - accuracy: 0.9316 - val_loss: 0.1726 - val_accuracy: 0.9337\n",
      "Epoch 44/50\n",
      "207/207 [==============================] - 0s 1ms/step - loss: 0.1624 - accuracy: 0.9321 - val_loss: 0.2496 - val_accuracy: 0.9046\n",
      "Epoch 45/50\n",
      "207/207 [==============================] - 0s 1ms/step - loss: 0.1609 - accuracy: 0.9336 - val_loss: 0.1857 - val_accuracy: 0.9237\n",
      "Epoch 46/50\n",
      "207/207 [==============================] - 0s 1ms/step - loss: 0.1595 - accuracy: 0.9333 - val_loss: 0.1972 - val_accuracy: 0.9216\n",
      "Epoch 47/50\n",
      "207/207 [==============================] - 0s 1ms/step - loss: 0.1596 - accuracy: 0.9330 - val_loss: 0.2224 - val_accuracy: 0.9173\n",
      "Epoch 48/50\n",
      "207/207 [==============================] - 0s 1ms/step - loss: 0.1564 - accuracy: 0.9359 - val_loss: 0.1920 - val_accuracy: 0.9234\n",
      "Epoch 49/50\n",
      "207/207 [==============================] - 0s 959us/step - loss: 0.1579 - accuracy: 0.9325 - val_loss: 0.1709 - val_accuracy: 0.9337\n",
      "Epoch 50/50\n",
      "207/207 [==============================] - 0s 991us/step - loss: 0.1555 - accuracy: 0.9349 - val_loss: 0.2178 - val_accuracy: 0.9128\n"
     ]
    }
   ],
   "source": [
    "nonlinear_model.compile(optimizer=tf.keras.optimizers.Adadelta(learning_rate=1),\n",
    "                        loss='sparse_categorical_crossentropy',\n",
    "                       metrics = ['accuracy'])\n",
    "                       \n",
    "history = nonlinear_model.fit(X_train, y_train, batch_size=64, epochs=50,\n",
    "                    validation_data=(X_dev, y_dev))"
   ]
  },
  {
   "cell_type": "code",
   "execution_count": 83,
   "metadata": {},
   "outputs": [
    {
     "output_type": "execute_result",
     "data": {
      "text/plain": [
       "{'verbose': 1, 'epochs': 50, 'steps': 207}"
      ]
     },
     "metadata": {},
     "execution_count": 83
    }
   ],
   "source": [
    "history.params"
   ]
  },
  {
   "cell_type": "code",
   "execution_count": 84,
   "metadata": {},
   "outputs": [
    {
     "output_type": "stream",
     "name": "stdout",
     "text": [
      "[0, 1, 2, 3, 4, 5, 6, 7, 8, 9, 10, 11, 12, 13, 14, 15, 16, 17, 18, 19, 20, 21, 22, 23, 24, 25, 26, 27, 28, 29, 30, 31, 32, 33, 34, 35, 36, 37, 38, 39, 40, 41, 42, 43, 44, 45, 46, 47, 48, 49]\n"
     ]
    }
   ],
   "source": [
    "print(history.epoch)"
   ]
  },
  {
   "cell_type": "code",
   "execution_count": 85,
   "metadata": {},
   "outputs": [
    {
     "output_type": "execute_result",
     "data": {
      "text/plain": [
       "dict_keys(['loss', 'accuracy', 'val_loss', 'val_accuracy'])"
      ]
     },
     "metadata": {},
     "execution_count": 85
    }
   ],
   "source": [
    "history.history.keys()"
   ]
  },
  {
   "cell_type": "code",
   "execution_count": 86,
   "metadata": {},
   "outputs": [
    {
     "output_type": "display_data",
     "data": {
      "text/plain": "<Figure size 576x360 with 1 Axes>",
      "image/svg+xml": "<?xml version=\"1.0\" encoding=\"utf-8\" standalone=\"no\"?>\r\n<!DOCTYPE svg PUBLIC \"-//W3C//DTD SVG 1.1//EN\"\r\n  \"http://www.w3.org/Graphics/SVG/1.1/DTD/svg11.dtd\">\r\n<!-- Created with matplotlib (https://matplotlib.org/) -->\r\n<svg height=\"306.677344pt\" version=\"1.1\" viewBox=\"0 0 483.703125 306.677344\" width=\"483.703125pt\" xmlns=\"http://www.w3.org/2000/svg\" xmlns:xlink=\"http://www.w3.org/1999/xlink\">\r\n <metadata>\r\n  <rdf:RDF xmlns:cc=\"http://creativecommons.org/ns#\" xmlns:dc=\"http://purl.org/dc/elements/1.1/\" xmlns:rdf=\"http://www.w3.org/1999/02/22-rdf-syntax-ns#\">\r\n   <cc:Work>\r\n    <dc:type rdf:resource=\"http://purl.org/dc/dcmitype/StillImage\"/>\r\n    <dc:date>2020-11-24T12:45:28.281498</dc:date>\r\n    <dc:format>image/svg+xml</dc:format>\r\n    <dc:creator>\r\n     <cc:Agent>\r\n      <dc:title>Matplotlib v3.3.2, https://matplotlib.org/</dc:title>\r\n     </cc:Agent>\r\n    </dc:creator>\r\n   </cc:Work>\r\n  </rdf:RDF>\r\n </metadata>\r\n <defs>\r\n  <style type=\"text/css\">*{stroke-linecap:butt;stroke-linejoin:round;}</style>\r\n </defs>\r\n <g id=\"figure_1\">\r\n  <g id=\"patch_1\">\r\n   <path d=\"M 0 306.677344 \r\nL 483.703125 306.677344 \r\nL 483.703125 0 \r\nL 0 0 \r\nz\r\n\" style=\"fill:none;\"/>\r\n  </g>\r\n  <g id=\"axes_1\">\r\n   <g id=\"patch_2\">\r\n    <path d=\"M 30.103125 282.799219 \r\nL 476.503125 282.799219 \r\nL 476.503125 10.999219 \r\nL 30.103125 10.999219 \r\nz\r\n\" style=\"fill:#ffffff;\"/>\r\n   </g>\r\n   <g id=\"matplotlib.axis_1\">\r\n    <g id=\"xtick_1\">\r\n     <g id=\"line2d_1\">\r\n      <path clip-path=\"url(#p8ae2ea1b2d)\" d=\"M 50.394034 282.799219 \r\nL 50.394034 10.999219 \r\n\" style=\"fill:none;stroke:#b0b0b0;stroke-linecap:square;stroke-width:0.8;\"/>\r\n     </g>\r\n     <g id=\"line2d_2\">\r\n      <defs>\r\n       <path d=\"M 0 0 \r\nL 0 3.5 \r\n\" id=\"m76c994d1cb\" style=\"stroke:#000000;stroke-width:0.8;\"/>\r\n      </defs>\r\n      <g>\r\n       <use style=\"stroke:#000000;stroke-width:0.8;\" x=\"50.394034\" xlink:href=\"#m76c994d1cb\" y=\"282.799219\"/>\r\n      </g>\r\n     </g>\r\n     <g id=\"text_1\">\r\n      <!-- 0 -->\r\n      <g transform=\"translate(47.212784 297.397656)scale(0.1 -0.1)\">\r\n       <defs>\r\n        <path d=\"M 31.78125 66.40625 \r\nQ 24.171875 66.40625 20.328125 58.90625 \r\nQ 16.5 51.421875 16.5 36.375 \r\nQ 16.5 21.390625 20.328125 13.890625 \r\nQ 24.171875 6.390625 31.78125 6.390625 \r\nQ 39.453125 6.390625 43.28125 13.890625 \r\nQ 47.125 21.390625 47.125 36.375 \r\nQ 47.125 51.421875 43.28125 58.90625 \r\nQ 39.453125 66.40625 31.78125 66.40625 \r\nz\r\nM 31.78125 74.21875 \r\nQ 44.046875 74.21875 50.515625 64.515625 \r\nQ 56.984375 54.828125 56.984375 36.375 \r\nQ 56.984375 17.96875 50.515625 8.265625 \r\nQ 44.046875 -1.421875 31.78125 -1.421875 \r\nQ 19.53125 -1.421875 13.0625 8.265625 \r\nQ 6.59375 17.96875 6.59375 36.375 \r\nQ 6.59375 54.828125 13.0625 64.515625 \r\nQ 19.53125 74.21875 31.78125 74.21875 \r\nz\r\n\" id=\"DejaVuSans-48\"/>\r\n       </defs>\r\n       <use xlink:href=\"#DejaVuSans-48\"/>\r\n      </g>\r\n     </g>\r\n    </g>\r\n    <g id=\"xtick_2\">\r\n     <g id=\"line2d_3\">\r\n      <path clip-path=\"url(#p8ae2ea1b2d)\" d=\"M 133.214071 282.799219 \r\nL 133.214071 10.999219 \r\n\" style=\"fill:none;stroke:#b0b0b0;stroke-linecap:square;stroke-width:0.8;\"/>\r\n     </g>\r\n     <g id=\"line2d_4\">\r\n      <g>\r\n       <use style=\"stroke:#000000;stroke-width:0.8;\" x=\"133.214071\" xlink:href=\"#m76c994d1cb\" y=\"282.799219\"/>\r\n      </g>\r\n     </g>\r\n     <g id=\"text_2\">\r\n      <!-- 10 -->\r\n      <g transform=\"translate(126.851571 297.397656)scale(0.1 -0.1)\">\r\n       <defs>\r\n        <path d=\"M 12.40625 8.296875 \r\nL 28.515625 8.296875 \r\nL 28.515625 63.921875 \r\nL 10.984375 60.40625 \r\nL 10.984375 69.390625 \r\nL 28.421875 72.90625 \r\nL 38.28125 72.90625 \r\nL 38.28125 8.296875 \r\nL 54.390625 8.296875 \r\nL 54.390625 0 \r\nL 12.40625 0 \r\nz\r\n\" id=\"DejaVuSans-49\"/>\r\n       </defs>\r\n       <use xlink:href=\"#DejaVuSans-49\"/>\r\n       <use x=\"63.623047\" xlink:href=\"#DejaVuSans-48\"/>\r\n      </g>\r\n     </g>\r\n    </g>\r\n    <g id=\"xtick_3\">\r\n     <g id=\"line2d_5\">\r\n      <path clip-path=\"url(#p8ae2ea1b2d)\" d=\"M 216.034108 282.799219 \r\nL 216.034108 10.999219 \r\n\" style=\"fill:none;stroke:#b0b0b0;stroke-linecap:square;stroke-width:0.8;\"/>\r\n     </g>\r\n     <g id=\"line2d_6\">\r\n      <g>\r\n       <use style=\"stroke:#000000;stroke-width:0.8;\" x=\"216.034108\" xlink:href=\"#m76c994d1cb\" y=\"282.799219\"/>\r\n      </g>\r\n     </g>\r\n     <g id=\"text_3\">\r\n      <!-- 20 -->\r\n      <g transform=\"translate(209.671608 297.397656)scale(0.1 -0.1)\">\r\n       <defs>\r\n        <path d=\"M 19.1875 8.296875 \r\nL 53.609375 8.296875 \r\nL 53.609375 0 \r\nL 7.328125 0 \r\nL 7.328125 8.296875 \r\nQ 12.9375 14.109375 22.625 23.890625 \r\nQ 32.328125 33.6875 34.8125 36.53125 \r\nQ 39.546875 41.84375 41.421875 45.53125 \r\nQ 43.3125 49.21875 43.3125 52.78125 \r\nQ 43.3125 58.59375 39.234375 62.25 \r\nQ 35.15625 65.921875 28.609375 65.921875 \r\nQ 23.96875 65.921875 18.8125 64.3125 \r\nQ 13.671875 62.703125 7.8125 59.421875 \r\nL 7.8125 69.390625 \r\nQ 13.765625 71.78125 18.9375 73 \r\nQ 24.125 74.21875 28.421875 74.21875 \r\nQ 39.75 74.21875 46.484375 68.546875 \r\nQ 53.21875 62.890625 53.21875 53.421875 \r\nQ 53.21875 48.921875 51.53125 44.890625 \r\nQ 49.859375 40.875 45.40625 35.40625 \r\nQ 44.1875 33.984375 37.640625 27.21875 \r\nQ 31.109375 20.453125 19.1875 8.296875 \r\nz\r\n\" id=\"DejaVuSans-50\"/>\r\n       </defs>\r\n       <use xlink:href=\"#DejaVuSans-50\"/>\r\n       <use x=\"63.623047\" xlink:href=\"#DejaVuSans-48\"/>\r\n      </g>\r\n     </g>\r\n    </g>\r\n    <g id=\"xtick_4\">\r\n     <g id=\"line2d_7\">\r\n      <path clip-path=\"url(#p8ae2ea1b2d)\" d=\"M 298.854145 282.799219 \r\nL 298.854145 10.999219 \r\n\" style=\"fill:none;stroke:#b0b0b0;stroke-linecap:square;stroke-width:0.8;\"/>\r\n     </g>\r\n     <g id=\"line2d_8\">\r\n      <g>\r\n       <use style=\"stroke:#000000;stroke-width:0.8;\" x=\"298.854145\" xlink:href=\"#m76c994d1cb\" y=\"282.799219\"/>\r\n      </g>\r\n     </g>\r\n     <g id=\"text_4\">\r\n      <!-- 30 -->\r\n      <g transform=\"translate(292.491645 297.397656)scale(0.1 -0.1)\">\r\n       <defs>\r\n        <path d=\"M 40.578125 39.3125 \r\nQ 47.65625 37.796875 51.625 33 \r\nQ 55.609375 28.21875 55.609375 21.1875 \r\nQ 55.609375 10.40625 48.1875 4.484375 \r\nQ 40.765625 -1.421875 27.09375 -1.421875 \r\nQ 22.515625 -1.421875 17.65625 -0.515625 \r\nQ 12.796875 0.390625 7.625 2.203125 \r\nL 7.625 11.71875 \r\nQ 11.71875 9.328125 16.59375 8.109375 \r\nQ 21.484375 6.890625 26.8125 6.890625 \r\nQ 36.078125 6.890625 40.9375 10.546875 \r\nQ 45.796875 14.203125 45.796875 21.1875 \r\nQ 45.796875 27.640625 41.28125 31.265625 \r\nQ 36.765625 34.90625 28.71875 34.90625 \r\nL 20.21875 34.90625 \r\nL 20.21875 43.015625 \r\nL 29.109375 43.015625 \r\nQ 36.375 43.015625 40.234375 45.921875 \r\nQ 44.09375 48.828125 44.09375 54.296875 \r\nQ 44.09375 59.90625 40.109375 62.90625 \r\nQ 36.140625 65.921875 28.71875 65.921875 \r\nQ 24.65625 65.921875 20.015625 65.03125 \r\nQ 15.375 64.15625 9.8125 62.3125 \r\nL 9.8125 71.09375 \r\nQ 15.4375 72.65625 20.34375 73.4375 \r\nQ 25.25 74.21875 29.59375 74.21875 \r\nQ 40.828125 74.21875 47.359375 69.109375 \r\nQ 53.90625 64.015625 53.90625 55.328125 \r\nQ 53.90625 49.265625 50.4375 45.09375 \r\nQ 46.96875 40.921875 40.578125 39.3125 \r\nz\r\n\" id=\"DejaVuSans-51\"/>\r\n       </defs>\r\n       <use xlink:href=\"#DejaVuSans-51\"/>\r\n       <use x=\"63.623047\" xlink:href=\"#DejaVuSans-48\"/>\r\n      </g>\r\n     </g>\r\n    </g>\r\n    <g id=\"xtick_5\">\r\n     <g id=\"line2d_9\">\r\n      <path clip-path=\"url(#p8ae2ea1b2d)\" d=\"M 381.674183 282.799219 \r\nL 381.674183 10.999219 \r\n\" style=\"fill:none;stroke:#b0b0b0;stroke-linecap:square;stroke-width:0.8;\"/>\r\n     </g>\r\n     <g id=\"line2d_10\">\r\n      <g>\r\n       <use style=\"stroke:#000000;stroke-width:0.8;\" x=\"381.674183\" xlink:href=\"#m76c994d1cb\" y=\"282.799219\"/>\r\n      </g>\r\n     </g>\r\n     <g id=\"text_5\">\r\n      <!-- 40 -->\r\n      <g transform=\"translate(375.311683 297.397656)scale(0.1 -0.1)\">\r\n       <defs>\r\n        <path d=\"M 37.796875 64.3125 \r\nL 12.890625 25.390625 \r\nL 37.796875 25.390625 \r\nz\r\nM 35.203125 72.90625 \r\nL 47.609375 72.90625 \r\nL 47.609375 25.390625 \r\nL 58.015625 25.390625 \r\nL 58.015625 17.1875 \r\nL 47.609375 17.1875 \r\nL 47.609375 0 \r\nL 37.796875 0 \r\nL 37.796875 17.1875 \r\nL 4.890625 17.1875 \r\nL 4.890625 26.703125 \r\nz\r\n\" id=\"DejaVuSans-52\"/>\r\n       </defs>\r\n       <use xlink:href=\"#DejaVuSans-52\"/>\r\n       <use x=\"63.623047\" xlink:href=\"#DejaVuSans-48\"/>\r\n      </g>\r\n     </g>\r\n    </g>\r\n    <g id=\"xtick_6\">\r\n     <g id=\"line2d_11\">\r\n      <path clip-path=\"url(#p8ae2ea1b2d)\" d=\"M 464.49422 282.799219 \r\nL 464.49422 10.999219 \r\n\" style=\"fill:none;stroke:#b0b0b0;stroke-linecap:square;stroke-width:0.8;\"/>\r\n     </g>\r\n     <g id=\"line2d_12\">\r\n      <g>\r\n       <use style=\"stroke:#000000;stroke-width:0.8;\" x=\"464.49422\" xlink:href=\"#m76c994d1cb\" y=\"282.799219\"/>\r\n      </g>\r\n     </g>\r\n     <g id=\"text_6\">\r\n      <!-- 50 -->\r\n      <g transform=\"translate(458.13172 297.397656)scale(0.1 -0.1)\">\r\n       <defs>\r\n        <path d=\"M 10.796875 72.90625 \r\nL 49.515625 72.90625 \r\nL 49.515625 64.59375 \r\nL 19.828125 64.59375 \r\nL 19.828125 46.734375 \r\nQ 21.96875 47.46875 24.109375 47.828125 \r\nQ 26.265625 48.1875 28.421875 48.1875 \r\nQ 40.625 48.1875 47.75 41.5 \r\nQ 54.890625 34.8125 54.890625 23.390625 \r\nQ 54.890625 11.625 47.5625 5.09375 \r\nQ 40.234375 -1.421875 26.90625 -1.421875 \r\nQ 22.3125 -1.421875 17.546875 -0.640625 \r\nQ 12.796875 0.140625 7.71875 1.703125 \r\nL 7.71875 11.625 \r\nQ 12.109375 9.234375 16.796875 8.0625 \r\nQ 21.484375 6.890625 26.703125 6.890625 \r\nQ 35.15625 6.890625 40.078125 11.328125 \r\nQ 45.015625 15.765625 45.015625 23.390625 \r\nQ 45.015625 31 40.078125 35.4375 \r\nQ 35.15625 39.890625 26.703125 39.890625 \r\nQ 22.75 39.890625 18.8125 39.015625 \r\nQ 14.890625 38.140625 10.796875 36.28125 \r\nz\r\n\" id=\"DejaVuSans-53\"/>\r\n       </defs>\r\n       <use xlink:href=\"#DejaVuSans-53\"/>\r\n       <use x=\"63.623047\" xlink:href=\"#DejaVuSans-48\"/>\r\n      </g>\r\n     </g>\r\n    </g>\r\n   </g>\r\n   <g id=\"matplotlib.axis_2\">\r\n    <g id=\"ytick_1\">\r\n     <g id=\"line2d_13\">\r\n      <path clip-path=\"url(#p8ae2ea1b2d)\" d=\"M 30.103125 282.799219 \r\nL 476.503125 282.799219 \r\n\" style=\"fill:none;stroke:#b0b0b0;stroke-linecap:square;stroke-width:0.8;\"/>\r\n     </g>\r\n     <g id=\"line2d_14\">\r\n      <defs>\r\n       <path d=\"M 0 0 \r\nL -3.5 0 \r\n\" id=\"m3265443578\" style=\"stroke:#000000;stroke-width:0.8;\"/>\r\n      </defs>\r\n      <g>\r\n       <use style=\"stroke:#000000;stroke-width:0.8;\" x=\"30.103125\" xlink:href=\"#m3265443578\" y=\"282.799219\"/>\r\n      </g>\r\n     </g>\r\n     <g id=\"text_7\">\r\n      <!-- 0.0 -->\r\n      <g transform=\"translate(7.2 286.598437)scale(0.1 -0.1)\">\r\n       <defs>\r\n        <path d=\"M 10.6875 12.40625 \r\nL 21 12.40625 \r\nL 21 0 \r\nL 10.6875 0 \r\nz\r\n\" id=\"DejaVuSans-46\"/>\r\n       </defs>\r\n       <use xlink:href=\"#DejaVuSans-48\"/>\r\n       <use x=\"63.623047\" xlink:href=\"#DejaVuSans-46\"/>\r\n       <use x=\"95.410156\" xlink:href=\"#DejaVuSans-48\"/>\r\n      </g>\r\n     </g>\r\n    </g>\r\n    <g id=\"ytick_2\">\r\n     <g id=\"line2d_15\">\r\n      <path clip-path=\"url(#p8ae2ea1b2d)\" d=\"M 30.103125 228.439219 \r\nL 476.503125 228.439219 \r\n\" style=\"fill:none;stroke:#b0b0b0;stroke-linecap:square;stroke-width:0.8;\"/>\r\n     </g>\r\n     <g id=\"line2d_16\">\r\n      <g>\r\n       <use style=\"stroke:#000000;stroke-width:0.8;\" x=\"30.103125\" xlink:href=\"#m3265443578\" y=\"228.439219\"/>\r\n      </g>\r\n     </g>\r\n     <g id=\"text_8\">\r\n      <!-- 0.2 -->\r\n      <g transform=\"translate(7.2 232.238437)scale(0.1 -0.1)\">\r\n       <use xlink:href=\"#DejaVuSans-48\"/>\r\n       <use x=\"63.623047\" xlink:href=\"#DejaVuSans-46\"/>\r\n       <use x=\"95.410156\" xlink:href=\"#DejaVuSans-50\"/>\r\n      </g>\r\n     </g>\r\n    </g>\r\n    <g id=\"ytick_3\">\r\n     <g id=\"line2d_17\">\r\n      <path clip-path=\"url(#p8ae2ea1b2d)\" d=\"M 30.103125 174.079219 \r\nL 476.503125 174.079219 \r\n\" style=\"fill:none;stroke:#b0b0b0;stroke-linecap:square;stroke-width:0.8;\"/>\r\n     </g>\r\n     <g id=\"line2d_18\">\r\n      <g>\r\n       <use style=\"stroke:#000000;stroke-width:0.8;\" x=\"30.103125\" xlink:href=\"#m3265443578\" y=\"174.079219\"/>\r\n      </g>\r\n     </g>\r\n     <g id=\"text_9\">\r\n      <!-- 0.4 -->\r\n      <g transform=\"translate(7.2 177.878437)scale(0.1 -0.1)\">\r\n       <use xlink:href=\"#DejaVuSans-48\"/>\r\n       <use x=\"63.623047\" xlink:href=\"#DejaVuSans-46\"/>\r\n       <use x=\"95.410156\" xlink:href=\"#DejaVuSans-52\"/>\r\n      </g>\r\n     </g>\r\n    </g>\r\n    <g id=\"ytick_4\">\r\n     <g id=\"line2d_19\">\r\n      <path clip-path=\"url(#p8ae2ea1b2d)\" d=\"M 30.103125 119.719219 \r\nL 476.503125 119.719219 \r\n\" style=\"fill:none;stroke:#b0b0b0;stroke-linecap:square;stroke-width:0.8;\"/>\r\n     </g>\r\n     <g id=\"line2d_20\">\r\n      <g>\r\n       <use style=\"stroke:#000000;stroke-width:0.8;\" x=\"30.103125\" xlink:href=\"#m3265443578\" y=\"119.719219\"/>\r\n      </g>\r\n     </g>\r\n     <g id=\"text_10\">\r\n      <!-- 0.6 -->\r\n      <g transform=\"translate(7.2 123.518437)scale(0.1 -0.1)\">\r\n       <defs>\r\n        <path d=\"M 33.015625 40.375 \r\nQ 26.375 40.375 22.484375 35.828125 \r\nQ 18.609375 31.296875 18.609375 23.390625 \r\nQ 18.609375 15.53125 22.484375 10.953125 \r\nQ 26.375 6.390625 33.015625 6.390625 \r\nQ 39.65625 6.390625 43.53125 10.953125 \r\nQ 47.40625 15.53125 47.40625 23.390625 \r\nQ 47.40625 31.296875 43.53125 35.828125 \r\nQ 39.65625 40.375 33.015625 40.375 \r\nz\r\nM 52.59375 71.296875 \r\nL 52.59375 62.3125 \r\nQ 48.875 64.0625 45.09375 64.984375 \r\nQ 41.3125 65.921875 37.59375 65.921875 \r\nQ 27.828125 65.921875 22.671875 59.328125 \r\nQ 17.53125 52.734375 16.796875 39.40625 \r\nQ 19.671875 43.65625 24.015625 45.921875 \r\nQ 28.375 48.1875 33.59375 48.1875 \r\nQ 44.578125 48.1875 50.953125 41.515625 \r\nQ 57.328125 34.859375 57.328125 23.390625 \r\nQ 57.328125 12.15625 50.6875 5.359375 \r\nQ 44.046875 -1.421875 33.015625 -1.421875 \r\nQ 20.359375 -1.421875 13.671875 8.265625 \r\nQ 6.984375 17.96875 6.984375 36.375 \r\nQ 6.984375 53.65625 15.1875 63.9375 \r\nQ 23.390625 74.21875 37.203125 74.21875 \r\nQ 40.921875 74.21875 44.703125 73.484375 \r\nQ 48.484375 72.75 52.59375 71.296875 \r\nz\r\n\" id=\"DejaVuSans-54\"/>\r\n       </defs>\r\n       <use xlink:href=\"#DejaVuSans-48\"/>\r\n       <use x=\"63.623047\" xlink:href=\"#DejaVuSans-46\"/>\r\n       <use x=\"95.410156\" xlink:href=\"#DejaVuSans-54\"/>\r\n      </g>\r\n     </g>\r\n    </g>\r\n    <g id=\"ytick_5\">\r\n     <g id=\"line2d_21\">\r\n      <path clip-path=\"url(#p8ae2ea1b2d)\" d=\"M 30.103125 65.359219 \r\nL 476.503125 65.359219 \r\n\" style=\"fill:none;stroke:#b0b0b0;stroke-linecap:square;stroke-width:0.8;\"/>\r\n     </g>\r\n     <g id=\"line2d_22\">\r\n      <g>\r\n       <use style=\"stroke:#000000;stroke-width:0.8;\" x=\"30.103125\" xlink:href=\"#m3265443578\" y=\"65.359219\"/>\r\n      </g>\r\n     </g>\r\n     <g id=\"text_11\">\r\n      <!-- 0.8 -->\r\n      <g transform=\"translate(7.2 69.158437)scale(0.1 -0.1)\">\r\n       <defs>\r\n        <path d=\"M 31.78125 34.625 \r\nQ 24.75 34.625 20.71875 30.859375 \r\nQ 16.703125 27.09375 16.703125 20.515625 \r\nQ 16.703125 13.921875 20.71875 10.15625 \r\nQ 24.75 6.390625 31.78125 6.390625 \r\nQ 38.8125 6.390625 42.859375 10.171875 \r\nQ 46.921875 13.96875 46.921875 20.515625 \r\nQ 46.921875 27.09375 42.890625 30.859375 \r\nQ 38.875 34.625 31.78125 34.625 \r\nz\r\nM 21.921875 38.8125 \r\nQ 15.578125 40.375 12.03125 44.71875 \r\nQ 8.5 49.078125 8.5 55.328125 \r\nQ 8.5 64.0625 14.71875 69.140625 \r\nQ 20.953125 74.21875 31.78125 74.21875 \r\nQ 42.671875 74.21875 48.875 69.140625 \r\nQ 55.078125 64.0625 55.078125 55.328125 \r\nQ 55.078125 49.078125 51.53125 44.71875 \r\nQ 48 40.375 41.703125 38.8125 \r\nQ 48.828125 37.15625 52.796875 32.3125 \r\nQ 56.78125 27.484375 56.78125 20.515625 \r\nQ 56.78125 9.90625 50.3125 4.234375 \r\nQ 43.84375 -1.421875 31.78125 -1.421875 \r\nQ 19.734375 -1.421875 13.25 4.234375 \r\nQ 6.78125 9.90625 6.78125 20.515625 \r\nQ 6.78125 27.484375 10.78125 32.3125 \r\nQ 14.796875 37.15625 21.921875 38.8125 \r\nz\r\nM 18.3125 54.390625 \r\nQ 18.3125 48.734375 21.84375 45.5625 \r\nQ 25.390625 42.390625 31.78125 42.390625 \r\nQ 38.140625 42.390625 41.71875 45.5625 \r\nQ 45.3125 48.734375 45.3125 54.390625 \r\nQ 45.3125 60.0625 41.71875 63.234375 \r\nQ 38.140625 66.40625 31.78125 66.40625 \r\nQ 25.390625 66.40625 21.84375 63.234375 \r\nQ 18.3125 60.0625 18.3125 54.390625 \r\nz\r\n\" id=\"DejaVuSans-56\"/>\r\n       </defs>\r\n       <use xlink:href=\"#DejaVuSans-48\"/>\r\n       <use x=\"63.623047\" xlink:href=\"#DejaVuSans-46\"/>\r\n       <use x=\"95.410156\" xlink:href=\"#DejaVuSans-56\"/>\r\n      </g>\r\n     </g>\r\n    </g>\r\n    <g id=\"ytick_6\">\r\n     <g id=\"line2d_23\">\r\n      <path clip-path=\"url(#p8ae2ea1b2d)\" d=\"M 30.103125 10.999219 \r\nL 476.503125 10.999219 \r\n\" style=\"fill:none;stroke:#b0b0b0;stroke-linecap:square;stroke-width:0.8;\"/>\r\n     </g>\r\n     <g id=\"line2d_24\">\r\n      <g>\r\n       <use style=\"stroke:#000000;stroke-width:0.8;\" x=\"30.103125\" xlink:href=\"#m3265443578\" y=\"10.999219\"/>\r\n      </g>\r\n     </g>\r\n     <g id=\"text_12\">\r\n      <!-- 1.0 -->\r\n      <g transform=\"translate(7.2 14.798437)scale(0.1 -0.1)\">\r\n       <use xlink:href=\"#DejaVuSans-49\"/>\r\n       <use x=\"63.623047\" xlink:href=\"#DejaVuSans-46\"/>\r\n       <use x=\"95.410156\" xlink:href=\"#DejaVuSans-48\"/>\r\n      </g>\r\n     </g>\r\n    </g>\r\n   </g>\r\n   <g id=\"line2d_25\">\r\n    <path clip-path=\"url(#p8ae2ea1b2d)\" d=\"M 50.394034 45.920071 \r\nL 58.676038 143.242643 \r\nL 66.958042 171.851035 \r\nL 75.240045 185.06798 \r\nL 83.522049 192.849457 \r\nL 91.804053 197.934078 \r\nL 100.086056 202.960167 \r\nL 108.36806 205.767332 \r\nL 116.650064 208.469907 \r\nL 124.932067 211.436826 \r\nL 133.214071 213.140442 \r\nL 141.496075 215.803046 \r\nL 149.778079 217.231237 \r\nL 158.060082 219.173297 \r\nL 166.342086 220.577524 \r\nL 174.62409 222.33551 \r\nL 182.906093 223.374511 \r\nL 191.188097 224.282949 \r\nL 199.470101 225.695761 \r\nL 207.752105 226.52284 \r\nL 216.034108 228.340856 \r\nL 224.316112 228.230697 \r\nL 232.598116 229.236629 \r\nL 240.880119 229.993737 \r\nL 249.162123 230.60163 \r\nL 257.444127 231.467512 \r\nL 265.726131 231.432017 \r\nL 274.008134 232.500034 \r\nL 282.290138 232.839796 \r\nL 290.572142 233.610812 \r\nL 298.854145 233.905018 \r\nL 307.136149 234.467496 \r\nL 315.418153 234.707714 \r\nL 323.700157 235.373832 \r\nL 331.98216 235.816228 \r\nL 340.264164 235.535562 \r\nL 348.546168 236.503196 \r\nL 356.828171 236.612343 \r\nL 365.110175 237.232569 \r\nL 373.392179 237.034104 \r\nL 381.674183 237.594311 \r\nL 389.956186 238.160621 \r\nL 398.23819 238.475316 \r\nL 406.520194 238.65575 \r\nL 414.802197 239.07892 \r\nL 423.084201 239.436041 \r\nL 431.366205 239.428512 \r\nL 439.648208 240.282402 \r\nL 447.930212 239.888923 \r\nL 456.212216 240.539298 \r\n\" style=\"fill:none;stroke:#1f77b4;stroke-linecap:square;stroke-width:1.5;\"/>\r\n   </g>\r\n   <g id=\"line2d_26\">\r\n    <path clip-path=\"url(#p8ae2ea1b2d)\" d=\"M 50.394034 92.710008 \r\nL 58.676038 64.375648 \r\nL 66.958042 54.148942 \r\nL 75.240045 50.753746 \r\nL 83.522049 47.893556 \r\nL 91.804053 45.30087 \r\nL 100.086056 43.798772 \r\nL 108.36806 42.54357 \r\nL 116.650064 41.20607 \r\nL 124.932067 39.78627 \r\nL 133.214071 39.745121 \r\nL 141.496075 38.44877 \r\nL 149.778079 37.605127 \r\nL 158.060082 36.802633 \r\nL 166.342086 35.279944 \r\nL 174.62409 35.362243 \r\nL 182.906093 34.930125 \r\nL 191.188097 34.271671 \r\nL 199.470101 33.407436 \r\nL 207.752105 33.942443 \r\nL 216.034108 32.584368 \r\nL 224.316112 33.325138 \r\nL 232.598116 32.872446 \r\nL 240.880119 32.008212 \r\nL 249.162123 32.604943 \r\nL 257.444127 31.946488 \r\nL 265.726131 31.288017 \r\nL 274.008134 31.329182 \r\nL 282.290138 30.711877 \r\nL 290.572142 30.91764 \r\nL 298.854145 30.8559 \r\nL 307.136149 30.629562 \r\nL 315.418153 30.897065 \r\nL 323.700157 30.259185 \r\nL 331.98216 30.670711 \r\nL 340.264164 30.444373 \r\nL 348.546168 29.991682 \r\nL 356.828171 30.464948 \r\nL 365.110175 30.053406 \r\nL 373.392179 29.621289 \r\nL 381.674183 30.07398 \r\nL 389.956186 29.929941 \r\nL 398.23819 29.600714 \r\nL 406.520194 29.456675 \r\nL 414.802197 29.045149 \r\nL 423.084201 29.127448 \r\nL 431.366205 29.209763 \r\nL 439.648208 28.427843 \r\nL 447.930212 29.333211 \r\nL 456.212216 28.69533 \r\n\" style=\"fill:none;stroke:#ff7f0e;stroke-linecap:square;stroke-width:1.5;\"/>\r\n   </g>\r\n   <g id=\"line2d_27\">\r\n    <path clip-path=\"url(#p8ae2ea1b2d)\" d=\"M 50.394034 117.90514 \r\nL 58.676038 160.45286 \r\nL 66.958042 181.33804 \r\nL 75.240045 189.443083 \r\nL 83.522049 190.848593 \r\nL 91.804053 193.603754 \r\nL 100.086056 194.254806 \r\nL 108.36806 204.954316 \r\nL 116.650064 205.545199 \r\nL 124.932067 209.329419 \r\nL 133.214071 211.586535 \r\nL 141.496075 214.622152 \r\nL 149.778079 206.597626 \r\nL 158.060082 214.860879 \r\nL 166.342086 213.382057 \r\nL 174.62409 223.097283 \r\nL 182.906093 221.793849 \r\nL 191.188097 223.934106 \r\nL 199.470101 224.580127 \r\nL 207.752105 225.564517 \r\nL 216.034108 229.018809 \r\nL 224.316112 226.240978 \r\nL 232.598116 221.152015 \r\nL 240.880119 214.721704 \r\nL 249.162123 224.590504 \r\nL 257.444127 226.257074 \r\nL 265.726131 217.417219 \r\nL 274.008134 231.262013 \r\nL 282.290138 227.239766 \r\nL 290.572142 223.379598 \r\nL 298.854145 230.407803 \r\nL 307.136149 227.048632 \r\nL 315.418153 231.217886 \r\nL 323.700157 226.870139 \r\nL 331.98216 219.773495 \r\nL 340.264164 226.01025 \r\nL 348.546168 230.56338 \r\nL 356.828171 229.240845 \r\nL 365.110175 235.090302 \r\nL 373.392179 232.067771 \r\nL 381.674183 225.585671 \r\nL 389.956186 228.968514 \r\nL 398.23819 235.890904 \r\nL 406.520194 214.950237 \r\nL 414.802197 232.316542 \r\nL 423.084201 229.193572 \r\nL 431.366205 222.345246 \r\nL 439.648208 230.609248 \r\nL 447.930212 236.350328 \r\nL 456.212216 223.587779 \r\n\" style=\"fill:none;stroke:#2ca02c;stroke-linecap:square;stroke-width:1.5;\"/>\r\n   </g>\r\n   <g id=\"line2d_28\">\r\n    <path clip-path=\"url(#p8ae2ea1b2d)\" d=\"M 50.394034 72.551268 \r\nL 58.676038 59.54962 \r\nL 66.958042 48.35835 \r\nL 75.240045 50.827005 \r\nL 83.522049 48.111486 \r\nL 91.804053 48.440633 \r\nL 100.086056 46.712569 \r\nL 108.36806 42.10439 \r\nL 116.650064 43.750171 \r\nL 124.932067 42.022107 \r\nL 133.214071 40.62319 \r\nL 141.496075 36.179592 \r\nL 149.778079 43.914752 \r\nL 158.060082 41.446081 \r\nL 166.342086 37.331645 \r\nL 174.62409 34.040084 \r\nL 182.906093 35.685865 \r\nL 191.188097 34.61611 \r\nL 199.470101 34.533828 \r\nL 207.752105 32.888047 \r\nL 216.034108 31.982874 \r\nL 224.316112 32.888047 \r\nL 232.598116 36.09731 \r\nL 240.880119 38.483682 \r\nL 249.162123 31.982874 \r\nL 257.444127 33.381775 \r\nL 265.726131 36.426472 \r\nL 274.008134 31.48913 \r\nL 282.290138 32.97033 \r\nL 290.572142 33.957801 \r\nL 298.854145 32.558884 \r\nL 307.136149 32.888047 \r\nL 315.418153 31.324565 \r\nL 323.700157 33.710937 \r\nL 331.98216 35.109838 \r\nL 340.264164 32.147455 \r\nL 348.546168 31.242266 \r\nL 356.828171 34.369246 \r\nL 365.110175 29.185057 \r\nL 373.392179 32.229738 \r\nL 381.674183 33.628639 \r\nL 389.956186 31.077685 \r\nL 398.23819 29.020475 \r\nL 406.520194 36.9202 \r\nL 414.802197 31.73601 \r\nL 423.084201 32.312021 \r\nL 431.366205 33.464074 \r\nL 439.648208 31.818293 \r\nL 447.930212 29.020475 \r\nL 456.212216 34.698409 \r\n\" style=\"fill:none;stroke:#d62728;stroke-linecap:square;stroke-width:1.5;\"/>\r\n   </g>\r\n   <g id=\"patch_3\">\r\n    <path d=\"M 30.103125 282.799219 \r\nL 30.103125 10.999219 \r\n\" style=\"fill:none;stroke:#000000;stroke-linecap:square;stroke-linejoin:miter;stroke-width:0.8;\"/>\r\n   </g>\r\n   <g id=\"patch_4\">\r\n    <path d=\"M 476.503125 282.799219 \r\nL 476.503125 10.999219 \r\n\" style=\"fill:none;stroke:#000000;stroke-linecap:square;stroke-linejoin:miter;stroke-width:0.8;\"/>\r\n   </g>\r\n   <g id=\"patch_5\">\r\n    <path d=\"M 30.103125 282.799219 \r\nL 476.503125 282.799219 \r\n\" style=\"fill:none;stroke:#000000;stroke-linecap:square;stroke-linejoin:miter;stroke-width:0.8;\"/>\r\n   </g>\r\n   <g id=\"patch_6\">\r\n    <path d=\"M 30.103125 10.999219 \r\nL 476.503125 10.999219 \r\n\" style=\"fill:none;stroke:#000000;stroke-linecap:square;stroke-linejoin:miter;stroke-width:0.8;\"/>\r\n   </g>\r\n   <g id=\"legend_1\">\r\n    <g id=\"patch_7\">\r\n     <path d=\"M 37.103125 277.799219 \r\nL 134.046875 277.799219 \r\nQ 136.046875 277.799219 136.046875 275.799219 \r\nL 136.046875 217.530469 \r\nQ 136.046875 215.530469 134.046875 215.530469 \r\nL 37.103125 215.530469 \r\nQ 35.103125 215.530469 35.103125 217.530469 \r\nL 35.103125 275.799219 \r\nQ 35.103125 277.799219 37.103125 277.799219 \r\nz\r\n\" style=\"fill:#ffffff;opacity:0.8;stroke:#cccccc;stroke-linejoin:miter;\"/>\r\n    </g>\r\n    <g id=\"line2d_29\">\r\n     <path d=\"M 39.103125 223.628906 \r\nL 59.103125 223.628906 \r\n\" style=\"fill:none;stroke:#1f77b4;stroke-linecap:square;stroke-width:1.5;\"/>\r\n    </g>\r\n    <g id=\"line2d_30\"/>\r\n    <g id=\"text_13\">\r\n     <!-- loss -->\r\n     <g transform=\"translate(67.103125 227.128906)scale(0.1 -0.1)\">\r\n      <defs>\r\n       <path d=\"M 9.421875 75.984375 \r\nL 18.40625 75.984375 \r\nL 18.40625 0 \r\nL 9.421875 0 \r\nz\r\n\" id=\"DejaVuSans-108\"/>\r\n       <path d=\"M 30.609375 48.390625 \r\nQ 23.390625 48.390625 19.1875 42.75 \r\nQ 14.984375 37.109375 14.984375 27.296875 \r\nQ 14.984375 17.484375 19.15625 11.84375 \r\nQ 23.34375 6.203125 30.609375 6.203125 \r\nQ 37.796875 6.203125 41.984375 11.859375 \r\nQ 46.1875 17.53125 46.1875 27.296875 \r\nQ 46.1875 37.015625 41.984375 42.703125 \r\nQ 37.796875 48.390625 30.609375 48.390625 \r\nz\r\nM 30.609375 56 \r\nQ 42.328125 56 49.015625 48.375 \r\nQ 55.71875 40.765625 55.71875 27.296875 \r\nQ 55.71875 13.875 49.015625 6.21875 \r\nQ 42.328125 -1.421875 30.609375 -1.421875 \r\nQ 18.84375 -1.421875 12.171875 6.21875 \r\nQ 5.515625 13.875 5.515625 27.296875 \r\nQ 5.515625 40.765625 12.171875 48.375 \r\nQ 18.84375 56 30.609375 56 \r\nz\r\n\" id=\"DejaVuSans-111\"/>\r\n       <path d=\"M 44.28125 53.078125 \r\nL 44.28125 44.578125 \r\nQ 40.484375 46.53125 36.375 47.5 \r\nQ 32.28125 48.484375 27.875 48.484375 \r\nQ 21.1875 48.484375 17.84375 46.4375 \r\nQ 14.5 44.390625 14.5 40.28125 \r\nQ 14.5 37.15625 16.890625 35.375 \r\nQ 19.28125 33.59375 26.515625 31.984375 \r\nL 29.59375 31.296875 \r\nQ 39.15625 29.25 43.1875 25.515625 \r\nQ 47.21875 21.78125 47.21875 15.09375 \r\nQ 47.21875 7.46875 41.1875 3.015625 \r\nQ 35.15625 -1.421875 24.609375 -1.421875 \r\nQ 20.21875 -1.421875 15.453125 -0.5625 \r\nQ 10.6875 0.296875 5.421875 2 \r\nL 5.421875 11.28125 \r\nQ 10.40625 8.6875 15.234375 7.390625 \r\nQ 20.0625 6.109375 24.8125 6.109375 \r\nQ 31.15625 6.109375 34.5625 8.28125 \r\nQ 37.984375 10.453125 37.984375 14.40625 \r\nQ 37.984375 18.0625 35.515625 20.015625 \r\nQ 33.0625 21.96875 24.703125 23.78125 \r\nL 21.578125 24.515625 \r\nQ 13.234375 26.265625 9.515625 29.90625 \r\nQ 5.8125 33.546875 5.8125 39.890625 \r\nQ 5.8125 47.609375 11.28125 51.796875 \r\nQ 16.75 56 26.8125 56 \r\nQ 31.78125 56 36.171875 55.265625 \r\nQ 40.578125 54.546875 44.28125 53.078125 \r\nz\r\n\" id=\"DejaVuSans-115\"/>\r\n      </defs>\r\n      <use xlink:href=\"#DejaVuSans-108\"/>\r\n      <use x=\"27.783203\" xlink:href=\"#DejaVuSans-111\"/>\r\n      <use x=\"88.964844\" xlink:href=\"#DejaVuSans-115\"/>\r\n      <use x=\"141.064453\" xlink:href=\"#DejaVuSans-115\"/>\r\n     </g>\r\n    </g>\r\n    <g id=\"line2d_31\">\r\n     <path d=\"M 39.103125 238.307031 \r\nL 59.103125 238.307031 \r\n\" style=\"fill:none;stroke:#ff7f0e;stroke-linecap:square;stroke-width:1.5;\"/>\r\n    </g>\r\n    <g id=\"line2d_32\"/>\r\n    <g id=\"text_14\">\r\n     <!-- accuracy -->\r\n     <g transform=\"translate(67.103125 241.807031)scale(0.1 -0.1)\">\r\n      <defs>\r\n       <path d=\"M 34.28125 27.484375 \r\nQ 23.390625 27.484375 19.1875 25 \r\nQ 14.984375 22.515625 14.984375 16.5 \r\nQ 14.984375 11.71875 18.140625 8.90625 \r\nQ 21.296875 6.109375 26.703125 6.109375 \r\nQ 34.1875 6.109375 38.703125 11.40625 \r\nQ 43.21875 16.703125 43.21875 25.484375 \r\nL 43.21875 27.484375 \r\nz\r\nM 52.203125 31.203125 \r\nL 52.203125 0 \r\nL 43.21875 0 \r\nL 43.21875 8.296875 \r\nQ 40.140625 3.328125 35.546875 0.953125 \r\nQ 30.953125 -1.421875 24.3125 -1.421875 \r\nQ 15.921875 -1.421875 10.953125 3.296875 \r\nQ 6 8.015625 6 15.921875 \r\nQ 6 25.140625 12.171875 29.828125 \r\nQ 18.359375 34.515625 30.609375 34.515625 \r\nL 43.21875 34.515625 \r\nL 43.21875 35.40625 \r\nQ 43.21875 41.609375 39.140625 45 \r\nQ 35.0625 48.390625 27.6875 48.390625 \r\nQ 23 48.390625 18.546875 47.265625 \r\nQ 14.109375 46.140625 10.015625 43.890625 \r\nL 10.015625 52.203125 \r\nQ 14.9375 54.109375 19.578125 55.046875 \r\nQ 24.21875 56 28.609375 56 \r\nQ 40.484375 56 46.34375 49.84375 \r\nQ 52.203125 43.703125 52.203125 31.203125 \r\nz\r\n\" id=\"DejaVuSans-97\"/>\r\n       <path d=\"M 48.78125 52.59375 \r\nL 48.78125 44.1875 \r\nQ 44.96875 46.296875 41.140625 47.34375 \r\nQ 37.3125 48.390625 33.40625 48.390625 \r\nQ 24.65625 48.390625 19.8125 42.84375 \r\nQ 14.984375 37.3125 14.984375 27.296875 \r\nQ 14.984375 17.28125 19.8125 11.734375 \r\nQ 24.65625 6.203125 33.40625 6.203125 \r\nQ 37.3125 6.203125 41.140625 7.25 \r\nQ 44.96875 8.296875 48.78125 10.40625 \r\nL 48.78125 2.09375 \r\nQ 45.015625 0.34375 40.984375 -0.53125 \r\nQ 36.96875 -1.421875 32.421875 -1.421875 \r\nQ 20.0625 -1.421875 12.78125 6.34375 \r\nQ 5.515625 14.109375 5.515625 27.296875 \r\nQ 5.515625 40.671875 12.859375 48.328125 \r\nQ 20.21875 56 33.015625 56 \r\nQ 37.15625 56 41.109375 55.140625 \r\nQ 45.0625 54.296875 48.78125 52.59375 \r\nz\r\n\" id=\"DejaVuSans-99\"/>\r\n       <path d=\"M 8.5 21.578125 \r\nL 8.5 54.6875 \r\nL 17.484375 54.6875 \r\nL 17.484375 21.921875 \r\nQ 17.484375 14.15625 20.5 10.265625 \r\nQ 23.53125 6.390625 29.59375 6.390625 \r\nQ 36.859375 6.390625 41.078125 11.03125 \r\nQ 45.3125 15.671875 45.3125 23.6875 \r\nL 45.3125 54.6875 \r\nL 54.296875 54.6875 \r\nL 54.296875 0 \r\nL 45.3125 0 \r\nL 45.3125 8.40625 \r\nQ 42.046875 3.421875 37.71875 1 \r\nQ 33.40625 -1.421875 27.6875 -1.421875 \r\nQ 18.265625 -1.421875 13.375 4.4375 \r\nQ 8.5 10.296875 8.5 21.578125 \r\nz\r\nM 31.109375 56 \r\nz\r\n\" id=\"DejaVuSans-117\"/>\r\n       <path d=\"M 41.109375 46.296875 \r\nQ 39.59375 47.171875 37.8125 47.578125 \r\nQ 36.03125 48 33.890625 48 \r\nQ 26.265625 48 22.1875 43.046875 \r\nQ 18.109375 38.09375 18.109375 28.8125 \r\nL 18.109375 0 \r\nL 9.078125 0 \r\nL 9.078125 54.6875 \r\nL 18.109375 54.6875 \r\nL 18.109375 46.1875 \r\nQ 20.953125 51.171875 25.484375 53.578125 \r\nQ 30.03125 56 36.53125 56 \r\nQ 37.453125 56 38.578125 55.875 \r\nQ 39.703125 55.765625 41.0625 55.515625 \r\nz\r\n\" id=\"DejaVuSans-114\"/>\r\n       <path d=\"M 32.171875 -5.078125 \r\nQ 28.375 -14.84375 24.75 -17.8125 \r\nQ 21.140625 -20.796875 15.09375 -20.796875 \r\nL 7.90625 -20.796875 \r\nL 7.90625 -13.28125 \r\nL 13.1875 -13.28125 \r\nQ 16.890625 -13.28125 18.9375 -11.515625 \r\nQ 21 -9.765625 23.484375 -3.21875 \r\nL 25.09375 0.875 \r\nL 2.984375 54.6875 \r\nL 12.5 54.6875 \r\nL 29.59375 11.921875 \r\nL 46.6875 54.6875 \r\nL 56.203125 54.6875 \r\nz\r\n\" id=\"DejaVuSans-121\"/>\r\n      </defs>\r\n      <use xlink:href=\"#DejaVuSans-97\"/>\r\n      <use x=\"61.279297\" xlink:href=\"#DejaVuSans-99\"/>\r\n      <use x=\"116.259766\" xlink:href=\"#DejaVuSans-99\"/>\r\n      <use x=\"171.240234\" xlink:href=\"#DejaVuSans-117\"/>\r\n      <use x=\"234.619141\" xlink:href=\"#DejaVuSans-114\"/>\r\n      <use x=\"275.732422\" xlink:href=\"#DejaVuSans-97\"/>\r\n      <use x=\"337.011719\" xlink:href=\"#DejaVuSans-99\"/>\r\n      <use x=\"391.992188\" xlink:href=\"#DejaVuSans-121\"/>\r\n     </g>\r\n    </g>\r\n    <g id=\"line2d_33\">\r\n     <path d=\"M 39.103125 252.985156 \r\nL 59.103125 252.985156 \r\n\" style=\"fill:none;stroke:#2ca02c;stroke-linecap:square;stroke-width:1.5;\"/>\r\n    </g>\r\n    <g id=\"line2d_34\"/>\r\n    <g id=\"text_15\">\r\n     <!-- val_loss -->\r\n     <g transform=\"translate(67.103125 256.485156)scale(0.1 -0.1)\">\r\n      <defs>\r\n       <path d=\"M 2.984375 54.6875 \r\nL 12.5 54.6875 \r\nL 29.59375 8.796875 \r\nL 46.6875 54.6875 \r\nL 56.203125 54.6875 \r\nL 35.6875 0 \r\nL 23.484375 0 \r\nz\r\n\" id=\"DejaVuSans-118\"/>\r\n       <path d=\"M 50.984375 -16.609375 \r\nL 50.984375 -23.578125 \r\nL -0.984375 -23.578125 \r\nL -0.984375 -16.609375 \r\nz\r\n\" id=\"DejaVuSans-95\"/>\r\n      </defs>\r\n      <use xlink:href=\"#DejaVuSans-118\"/>\r\n      <use x=\"59.179688\" xlink:href=\"#DejaVuSans-97\"/>\r\n      <use x=\"120.458984\" xlink:href=\"#DejaVuSans-108\"/>\r\n      <use x=\"148.242188\" xlink:href=\"#DejaVuSans-95\"/>\r\n      <use x=\"198.242188\" xlink:href=\"#DejaVuSans-108\"/>\r\n      <use x=\"226.025391\" xlink:href=\"#DejaVuSans-111\"/>\r\n      <use x=\"287.207031\" xlink:href=\"#DejaVuSans-115\"/>\r\n      <use x=\"339.306641\" xlink:href=\"#DejaVuSans-115\"/>\r\n     </g>\r\n    </g>\r\n    <g id=\"line2d_35\">\r\n     <path d=\"M 39.103125 267.941406 \r\nL 59.103125 267.941406 \r\n\" style=\"fill:none;stroke:#d62728;stroke-linecap:square;stroke-width:1.5;\"/>\r\n    </g>\r\n    <g id=\"line2d_36\"/>\r\n    <g id=\"text_16\">\r\n     <!-- val_accuracy -->\r\n     <g transform=\"translate(67.103125 271.441406)scale(0.1 -0.1)\">\r\n      <use xlink:href=\"#DejaVuSans-118\"/>\r\n      <use x=\"59.179688\" xlink:href=\"#DejaVuSans-97\"/>\r\n      <use x=\"120.458984\" xlink:href=\"#DejaVuSans-108\"/>\r\n      <use x=\"148.242188\" xlink:href=\"#DejaVuSans-95\"/>\r\n      <use x=\"198.242188\" xlink:href=\"#DejaVuSans-97\"/>\r\n      <use x=\"259.521484\" xlink:href=\"#DejaVuSans-99\"/>\r\n      <use x=\"314.501953\" xlink:href=\"#DejaVuSans-99\"/>\r\n      <use x=\"369.482422\" xlink:href=\"#DejaVuSans-117\"/>\r\n      <use x=\"432.861328\" xlink:href=\"#DejaVuSans-114\"/>\r\n      <use x=\"473.974609\" xlink:href=\"#DejaVuSans-97\"/>\r\n      <use x=\"535.253906\" xlink:href=\"#DejaVuSans-99\"/>\r\n      <use x=\"590.234375\" xlink:href=\"#DejaVuSans-121\"/>\r\n     </g>\r\n    </g>\r\n   </g>\r\n  </g>\r\n </g>\r\n <defs>\r\n  <clipPath id=\"p8ae2ea1b2d\">\r\n   <rect height=\"271.8\" width=\"446.4\" x=\"30.103125\" y=\"10.999219\"/>\r\n  </clipPath>\r\n </defs>\r\n</svg>\r\n",
      "image/png": "[encoded data removed]"
     },
     "metadata": {
      "needs_background": "light"
     }
    }
   ],
   "source": [
    "import pandas as pd\n",
    "\n",
    "pd.DataFrame(history.history).plot(figsize=(8, 5))\n",
    "plt.grid(True)\n",
    "plt.gca().set_ylim(0, 1)\n",
    "plt.show()"
   ]
  },
  {
   "cell_type": "code",
   "execution_count": 87,
   "metadata": {},
   "outputs": [
    {
     "output_type": "stream",
     "name": "stdout",
     "text": [
      "[[1393   24    0   23   53]\n [  34  964    0   11    1]\n [   0    0    0    0    2]\n [   2    0    0  297   64]\n [  73    0    0    1  361]]\n"
     ]
    }
   ],
   "source": [
    "predictions = nonlinear_model.predict(X_dev)\n",
    "result = tf.argmax(predictions, axis=1)\n",
    "conf_mx = tf.math.confusion_matrix(y_dev, result.numpy()).numpy()\n",
    "print(conf_mx)"
   ]
  },
  {
   "source": [
    "# Evaluation"
   ],
   "cell_type": "markdown",
   "metadata": {}
  },
  {
   "cell_type": "code",
   "execution_count": 88,
   "metadata": {},
   "outputs": [
    {
     "output_type": "execute_result",
     "data": {
      "text/plain": [
       "0.9161821705426356"
      ]
     },
     "metadata": {},
     "execution_count": 88
    }
   ],
   "source": [
    "from sklearn.metrics import accuracy_score\n",
    "\n",
    "y_pred = tf.argmax(nonlinear_model.predict(X_test), axis = 1)\n",
    "accuracy_score(y_test, y_pred)"
   ]
  },
  {
   "source": [
    "yaay"
   ],
   "cell_type": "markdown",
   "metadata": {}
  },
  {
   "cell_type": "code",
   "execution_count": 89,
   "metadata": {},
   "outputs": [
    {
     "output_type": "stream",
     "name": "stdout",
     "text": [
      "0.9174718875053544 0.9161821705426356 0.9162949929148406\n"
     ]
    }
   ],
   "source": [
    "from sklearn.metrics import precision_score, recall_score, f1_score\n",
    "precision = precision_score(y_test, y_pred, average='weighted')\n",
    "recall = recall_score(y_test, y_pred, average='weighted')\n",
    "f1 = f1_score(y_test, y_pred, average='weighted')\n",
    "print(precision, recall, f1)"
   ]
  },
  {
   "cell_type": "code",
   "execution_count": 90,
   "metadata": {},
   "outputs": [
    {
     "output_type": "display_data",
     "data": {
      "text/plain": "<Figure size 432x288 with 1 Axes>",
      "image/svg+xml": "<?xml version=\"1.0\" encoding=\"utf-8\" standalone=\"no\"?>\r\n<!DOCTYPE svg PUBLIC \"-//W3C//DTD SVG 1.1//EN\"\r\n  \"http://www.w3.org/Graphics/SVG/1.1/DTD/svg11.dtd\">\r\n<!-- Created with matplotlib (https://matplotlib.org/) -->\r\n<svg height=\"248.518125pt\" version=\"1.1\" viewBox=\"0 0 245.2025 248.518125\" width=\"245.2025pt\" xmlns=\"http://www.w3.org/2000/svg\" xmlns:xlink=\"http://www.w3.org/1999/xlink\">\r\n <metadata>\r\n  <rdf:RDF xmlns:cc=\"http://creativecommons.org/ns#\" xmlns:dc=\"http://purl.org/dc/elements/1.1/\" xmlns:rdf=\"http://www.w3.org/1999/02/22-rdf-syntax-ns#\">\r\n   <cc:Work>\r\n    <dc:type rdf:resource=\"http://purl.org/dc/dcmitype/StillImage\"/>\r\n    <dc:date>2020-11-24T12:45:29.063438</dc:date>\r\n    <dc:format>image/svg+xml</dc:format>\r\n    <dc:creator>\r\n     <cc:Agent>\r\n      <dc:title>Matplotlib v3.3.2, https://matplotlib.org/</dc:title>\r\n     </cc:Agent>\r\n    </dc:creator>\r\n   </cc:Work>\r\n  </rdf:RDF>\r\n </metadata>\r\n <defs>\r\n  <style type=\"text/css\">*{stroke-linecap:butt;stroke-linejoin:round;}</style>\r\n </defs>\r\n <g id=\"figure_1\">\r\n  <g id=\"patch_1\">\r\n   <path d=\"M 0 248.518125 \r\nL 245.2025 248.518125 \r\nL 245.2025 0 \r\nL 0 0 \r\nz\r\n\" style=\"fill:none;\"/>\r\n  </g>\r\n  <g id=\"axes_1\">\r\n   <g id=\"patch_2\">\r\n    <path d=\"M 20.5625 224.64 \r\nL 238.0025 224.64 \r\nL 238.0025 7.2 \r\nL 20.5625 7.2 \r\nz\r\n\" style=\"fill:#ffffff;\"/>\r\n   </g>\r\n   <g clip-path=\"url(#pb8197d368a)\">\r\n    <image height=\"218\" id=\"imagec0628ac00e\" transform=\"scale(1 -1)translate(0 -218)\" width=\"218\" x=\"20.5625\" xlink:href=\"data:image/png;base64,\r\niVBORw0KGgoAAAANSUhEUgAAANoAAADaCAYAAADAHVzbAAAC40lEQVR4nO3VoXVUURiF0ftYMdgYBHWkFyqghrgZXCytIPGj0gsW+Whhrvn+JOxdwTHfOsdav8/1btymB/BWvFynF2z5ND0A/gdCg4DQICA0CAgNAkKDgNAgIDQICA0CQoOA0CAgNAgIDQJCg4DQICA0CAgNAkKDgNAgIDQICA0CQoOA0CAgNAgIDQJCg4DQICA0CAgNAkKDgNAgIDQICA0CQoOA0CAgNAgIDQJCg4DQICA0CAgNAkKDgNAg8LDWbXoDb8W36/SC+z3/ml6wxaNBQGgQEBoEhAYBoUFAaBAQGgSEBgGhQUBoEBAaBIQGAaFBQGgQEBoEhAYBoUFAaBAQGgSEBgGhQUBoEBAaBIQGAaFBQGgQEBoEhAYBoUFAaBAQGgSEBgGhQUBoEBAaBIQGAaFBQGgQEBoEhAYBoUFAaBA41rqc0yPgo/NoEBAaBIQGAaFBQGgQEBoEhAYBoUFAaBAQGgSEBgGhQUBoEBAaBIQGAaFBQGgQEBoEhAYBoUFAaBAQGgSEBgGhQUBoEBAaBIQGAaFBQGgQEBoEhAYBoUFAaBAQGgSEBgGhQUBoEBAaBIQGAaFBQGgQEBoEhAaBh7W+Tm+42/n6fXrCluPpMj1h0+fpARv+Tg/Y4tEgIDQICA0CQoOA0CAgNAgIDQJCg4DQICA0CAgNAkKDgNAgIDQICA0CQoOA0CAgNAgIDQJCg4DQICA0CAgNAkKDgNAgIDQICA0CQoOA0CAgNAgIDQJCg4DQICA0CAgNAkKDgNAgIDQICA0CQoOA0CAgNAgcl7XO6RH3+rF+Tk/Y9Gd6wKbH6QEbvkwP2OLRICA0CAgNAkKDgNAgIDQICA0CQoOA0CAgNAgIDQJCg4DQICA0CAgNAkKDgNAgIDQICA0CQoOA0CAgNAgIDQJCg4DQICA0CAgNAkKDgNAgIDQICA0CQoOA0CAgNAgIDQJCg4DQICA0CAgNAkKDgNAgIDQICA0C/wAaNxEofdlIyQAAAABJRU5ErkJggg==\" y=\"-6.64\"/>\r\n   </g>\r\n   <g id=\"matplotlib.axis_1\">\r\n    <g id=\"xtick_1\">\r\n     <g id=\"line2d_1\">\r\n      <defs>\r\n       <path d=\"M 0 0 \r\nL 0 3.5 \r\n\" id=\"m4fc0dec9e9\" style=\"stroke:#000000;stroke-width:0.8;\"/>\r\n      </defs>\r\n      <g>\r\n       <use style=\"stroke:#000000;stroke-width:0.8;\" x=\"42.3065\" xlink:href=\"#m4fc0dec9e9\" y=\"224.64\"/>\r\n      </g>\r\n     </g>\r\n     <g id=\"text_1\">\r\n      <!-- 0 -->\r\n      <g transform=\"translate(39.12525 239.238437)scale(0.1 -0.1)\">\r\n       <defs>\r\n        <path d=\"M 31.78125 66.40625 \r\nQ 24.171875 66.40625 20.328125 58.90625 \r\nQ 16.5 51.421875 16.5 36.375 \r\nQ 16.5 21.390625 20.328125 13.890625 \r\nQ 24.171875 6.390625 31.78125 6.390625 \r\nQ 39.453125 6.390625 43.28125 13.890625 \r\nQ 47.125 21.390625 47.125 36.375 \r\nQ 47.125 51.421875 43.28125 58.90625 \r\nQ 39.453125 66.40625 31.78125 66.40625 \r\nz\r\nM 31.78125 74.21875 \r\nQ 44.046875 74.21875 50.515625 64.515625 \r\nQ 56.984375 54.828125 56.984375 36.375 \r\nQ 56.984375 17.96875 50.515625 8.265625 \r\nQ 44.046875 -1.421875 31.78125 -1.421875 \r\nQ 19.53125 -1.421875 13.0625 8.265625 \r\nQ 6.59375 17.96875 6.59375 36.375 \r\nQ 6.59375 54.828125 13.0625 64.515625 \r\nQ 19.53125 74.21875 31.78125 74.21875 \r\nz\r\n\" id=\"DejaVuSans-48\"/>\r\n       </defs>\r\n       <use xlink:href=\"#DejaVuSans-48\"/>\r\n      </g>\r\n     </g>\r\n    </g>\r\n    <g id=\"xtick_2\">\r\n     <g id=\"line2d_2\">\r\n      <g>\r\n       <use style=\"stroke:#000000;stroke-width:0.8;\" x=\"85.7945\" xlink:href=\"#m4fc0dec9e9\" y=\"224.64\"/>\r\n      </g>\r\n     </g>\r\n     <g id=\"text_2\">\r\n      <!-- 1 -->\r\n      <g transform=\"translate(82.61325 239.238437)scale(0.1 -0.1)\">\r\n       <defs>\r\n        <path d=\"M 12.40625 8.296875 \r\nL 28.515625 8.296875 \r\nL 28.515625 63.921875 \r\nL 10.984375 60.40625 \r\nL 10.984375 69.390625 \r\nL 28.421875 72.90625 \r\nL 38.28125 72.90625 \r\nL 38.28125 8.296875 \r\nL 54.390625 8.296875 \r\nL 54.390625 0 \r\nL 12.40625 0 \r\nz\r\n\" id=\"DejaVuSans-49\"/>\r\n       </defs>\r\n       <use xlink:href=\"#DejaVuSans-49\"/>\r\n      </g>\r\n     </g>\r\n    </g>\r\n    <g id=\"xtick_3\">\r\n     <g id=\"line2d_3\">\r\n      <g>\r\n       <use style=\"stroke:#000000;stroke-width:0.8;\" x=\"129.2825\" xlink:href=\"#m4fc0dec9e9\" y=\"224.64\"/>\r\n      </g>\r\n     </g>\r\n     <g id=\"text_3\">\r\n      <!-- 2 -->\r\n      <g transform=\"translate(126.10125 239.238437)scale(0.1 -0.1)\">\r\n       <defs>\r\n        <path d=\"M 19.1875 8.296875 \r\nL 53.609375 8.296875 \r\nL 53.609375 0 \r\nL 7.328125 0 \r\nL 7.328125 8.296875 \r\nQ 12.9375 14.109375 22.625 23.890625 \r\nQ 32.328125 33.6875 34.8125 36.53125 \r\nQ 39.546875 41.84375 41.421875 45.53125 \r\nQ 43.3125 49.21875 43.3125 52.78125 \r\nQ 43.3125 58.59375 39.234375 62.25 \r\nQ 35.15625 65.921875 28.609375 65.921875 \r\nQ 23.96875 65.921875 18.8125 64.3125 \r\nQ 13.671875 62.703125 7.8125 59.421875 \r\nL 7.8125 69.390625 \r\nQ 13.765625 71.78125 18.9375 73 \r\nQ 24.125 74.21875 28.421875 74.21875 \r\nQ 39.75 74.21875 46.484375 68.546875 \r\nQ 53.21875 62.890625 53.21875 53.421875 \r\nQ 53.21875 48.921875 51.53125 44.890625 \r\nQ 49.859375 40.875 45.40625 35.40625 \r\nQ 44.1875 33.984375 37.640625 27.21875 \r\nQ 31.109375 20.453125 19.1875 8.296875 \r\nz\r\n\" id=\"DejaVuSans-50\"/>\r\n       </defs>\r\n       <use xlink:href=\"#DejaVuSans-50\"/>\r\n      </g>\r\n     </g>\r\n    </g>\r\n    <g id=\"xtick_4\">\r\n     <g id=\"line2d_4\">\r\n      <g>\r\n       <use style=\"stroke:#000000;stroke-width:0.8;\" x=\"172.7705\" xlink:href=\"#m4fc0dec9e9\" y=\"224.64\"/>\r\n      </g>\r\n     </g>\r\n     <g id=\"text_4\">\r\n      <!-- 3 -->\r\n      <g transform=\"translate(169.58925 239.238437)scale(0.1 -0.1)\">\r\n       <defs>\r\n        <path d=\"M 40.578125 39.3125 \r\nQ 47.65625 37.796875 51.625 33 \r\nQ 55.609375 28.21875 55.609375 21.1875 \r\nQ 55.609375 10.40625 48.1875 4.484375 \r\nQ 40.765625 -1.421875 27.09375 -1.421875 \r\nQ 22.515625 -1.421875 17.65625 -0.515625 \r\nQ 12.796875 0.390625 7.625 2.203125 \r\nL 7.625 11.71875 \r\nQ 11.71875 9.328125 16.59375 8.109375 \r\nQ 21.484375 6.890625 26.8125 6.890625 \r\nQ 36.078125 6.890625 40.9375 10.546875 \r\nQ 45.796875 14.203125 45.796875 21.1875 \r\nQ 45.796875 27.640625 41.28125 31.265625 \r\nQ 36.765625 34.90625 28.71875 34.90625 \r\nL 20.21875 34.90625 \r\nL 20.21875 43.015625 \r\nL 29.109375 43.015625 \r\nQ 36.375 43.015625 40.234375 45.921875 \r\nQ 44.09375 48.828125 44.09375 54.296875 \r\nQ 44.09375 59.90625 40.109375 62.90625 \r\nQ 36.140625 65.921875 28.71875 65.921875 \r\nQ 24.65625 65.921875 20.015625 65.03125 \r\nQ 15.375 64.15625 9.8125 62.3125 \r\nL 9.8125 71.09375 \r\nQ 15.4375 72.65625 20.34375 73.4375 \r\nQ 25.25 74.21875 29.59375 74.21875 \r\nQ 40.828125 74.21875 47.359375 69.109375 \r\nQ 53.90625 64.015625 53.90625 55.328125 \r\nQ 53.90625 49.265625 50.4375 45.09375 \r\nQ 46.96875 40.921875 40.578125 39.3125 \r\nz\r\n\" id=\"DejaVuSans-51\"/>\r\n       </defs>\r\n       <use xlink:href=\"#DejaVuSans-51\"/>\r\n      </g>\r\n     </g>\r\n    </g>\r\n    <g id=\"xtick_5\">\r\n     <g id=\"line2d_5\">\r\n      <g>\r\n       <use style=\"stroke:#000000;stroke-width:0.8;\" x=\"216.2585\" xlink:href=\"#m4fc0dec9e9\" y=\"224.64\"/>\r\n      </g>\r\n     </g>\r\n     <g id=\"text_5\">\r\n      <!-- 4 -->\r\n      <g transform=\"translate(213.07725 239.238437)scale(0.1 -0.1)\">\r\n       <defs>\r\n        <path d=\"M 37.796875 64.3125 \r\nL 12.890625 25.390625 \r\nL 37.796875 25.390625 \r\nz\r\nM 35.203125 72.90625 \r\nL 47.609375 72.90625 \r\nL 47.609375 25.390625 \r\nL 58.015625 25.390625 \r\nL 58.015625 17.1875 \r\nL 47.609375 17.1875 \r\nL 47.609375 0 \r\nL 37.796875 0 \r\nL 37.796875 17.1875 \r\nL 4.890625 17.1875 \r\nL 4.890625 26.703125 \r\nz\r\n\" id=\"DejaVuSans-52\"/>\r\n       </defs>\r\n       <use xlink:href=\"#DejaVuSans-52\"/>\r\n      </g>\r\n     </g>\r\n    </g>\r\n   </g>\r\n   <g id=\"matplotlib.axis_2\">\r\n    <g id=\"ytick_1\">\r\n     <g id=\"line2d_6\">\r\n      <defs>\r\n       <path d=\"M 0 0 \r\nL -3.5 0 \r\n\" id=\"m32dc2add20\" style=\"stroke:#000000;stroke-width:0.8;\"/>\r\n      </defs>\r\n      <g>\r\n       <use style=\"stroke:#000000;stroke-width:0.8;\" x=\"20.5625\" xlink:href=\"#m32dc2add20\" y=\"28.944\"/>\r\n      </g>\r\n     </g>\r\n     <g id=\"text_6\">\r\n      <!-- 0 -->\r\n      <g transform=\"translate(7.2 32.743219)scale(0.1 -0.1)\">\r\n       <use xlink:href=\"#DejaVuSans-48\"/>\r\n      </g>\r\n     </g>\r\n    </g>\r\n    <g id=\"ytick_2\">\r\n     <g id=\"line2d_7\">\r\n      <g>\r\n       <use style=\"stroke:#000000;stroke-width:0.8;\" x=\"20.5625\" xlink:href=\"#m32dc2add20\" y=\"72.432\"/>\r\n      </g>\r\n     </g>\r\n     <g id=\"text_7\">\r\n      <!-- 1 -->\r\n      <g transform=\"translate(7.2 76.231219)scale(0.1 -0.1)\">\r\n       <use xlink:href=\"#DejaVuSans-49\"/>\r\n      </g>\r\n     </g>\r\n    </g>\r\n    <g id=\"ytick_3\">\r\n     <g id=\"line2d_8\">\r\n      <g>\r\n       <use style=\"stroke:#000000;stroke-width:0.8;\" x=\"20.5625\" xlink:href=\"#m32dc2add20\" y=\"115.92\"/>\r\n      </g>\r\n     </g>\r\n     <g id=\"text_8\">\r\n      <!-- 2 -->\r\n      <g transform=\"translate(7.2 119.719219)scale(0.1 -0.1)\">\r\n       <use xlink:href=\"#DejaVuSans-50\"/>\r\n      </g>\r\n     </g>\r\n    </g>\r\n    <g id=\"ytick_4\">\r\n     <g id=\"line2d_9\">\r\n      <g>\r\n       <use style=\"stroke:#000000;stroke-width:0.8;\" x=\"20.5625\" xlink:href=\"#m32dc2add20\" y=\"159.408\"/>\r\n      </g>\r\n     </g>\r\n     <g id=\"text_9\">\r\n      <!-- 3 -->\r\n      <g transform=\"translate(7.2 163.207219)scale(0.1 -0.1)\">\r\n       <use xlink:href=\"#DejaVuSans-51\"/>\r\n      </g>\r\n     </g>\r\n    </g>\r\n    <g id=\"ytick_5\">\r\n     <g id=\"line2d_10\">\r\n      <g>\r\n       <use style=\"stroke:#000000;stroke-width:0.8;\" x=\"20.5625\" xlink:href=\"#m32dc2add20\" y=\"202.896\"/>\r\n      </g>\r\n     </g>\r\n     <g id=\"text_10\">\r\n      <!-- 4 -->\r\n      <g transform=\"translate(7.2 206.695219)scale(0.1 -0.1)\">\r\n       <use xlink:href=\"#DejaVuSans-52\"/>\r\n      </g>\r\n     </g>\r\n    </g>\r\n   </g>\r\n   <g id=\"patch_3\">\r\n    <path d=\"M 20.5625 224.64 \r\nL 20.5625 7.2 \r\n\" style=\"fill:none;stroke:#000000;stroke-linecap:square;stroke-linejoin:miter;stroke-width:0.8;\"/>\r\n   </g>\r\n   <g id=\"patch_4\">\r\n    <path d=\"M 238.0025 224.64 \r\nL 238.0025 7.2 \r\n\" style=\"fill:none;stroke:#000000;stroke-linecap:square;stroke-linejoin:miter;stroke-width:0.8;\"/>\r\n   </g>\r\n   <g id=\"patch_5\">\r\n    <path d=\"M 20.5625 224.64 \r\nL 238.0025 224.64 \r\n\" style=\"fill:none;stroke:#000000;stroke-linecap:square;stroke-linejoin:miter;stroke-width:0.8;\"/>\r\n   </g>\r\n   <g id=\"patch_6\">\r\n    <path d=\"M 20.5625 7.2 \r\nL 238.0025 7.2 \r\n\" style=\"fill:none;stroke:#000000;stroke-linecap:square;stroke-linejoin:miter;stroke-width:0.8;\"/>\r\n   </g>\r\n  </g>\r\n </g>\r\n <defs>\r\n  <clipPath id=\"pb8197d368a\">\r\n   <rect height=\"217.44\" width=\"217.44\" x=\"20.5625\" y=\"7.2\"/>\r\n  </clipPath>\r\n </defs>\r\n</svg>\r\n",
      "image/png": "[encoded data removed]"
     },
     "metadata": {
      "needs_background": "light"
     }
    }
   ],
   "source": [
    "plt.imshow(conf_mx, cmap = \"jet\")\n",
    "plt.show()"
   ]
  },
  {
   "cell_type": "code",
   "execution_count": null,
   "metadata": {},
   "outputs": [],
   "source": []
  }
 ],
 "metadata": {
  "kernelspec": {
   "display_name": "Python 3",
   "language": "python",
   "name": "python3"
  },
  "language_info": {
   "codemirror_mode": {
    "name": "ipython",
    "version": 3
   },
   "file_extension": ".py",
   "mimetype": "text/x-python",
   "name": "python",
   "nbconvert_exporter": "python",
   "pygments_lexer": "ipython3",
   "version": "3.8.6-final"
  }
 },
 "nbformat": 4,
 "nbformat_minor": 4
}